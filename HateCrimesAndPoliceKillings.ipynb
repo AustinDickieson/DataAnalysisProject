{
 "cells": [
  {
   "cell_type": "markdown",
   "metadata": {},
   "source": [
    "# Katya Tabachnik, Austin Dickieson"
   ]
  },
  {
   "cell_type": "markdown",
   "metadata": {},
   "source": [
    "## Analyzing Police Killing and Hate Crime Data"
   ]
  },
  {
   "cell_type": "code",
   "execution_count": 1,
   "metadata": {},
   "outputs": [
    {
     "name": "stdout",
     "output_type": "stream",
     "text": [
      "Populating the interactive namespace from numpy and matplotlib\n"
     ]
    }
   ],
   "source": [
    "import pandas as pd\n",
    "import numpy as np\n",
    "import seaborn as sns\n",
    "%pylab inline\n",
    "\n",
    "import sklearn as sk\n",
    "import sklearn.tree as tree\n",
    "from IPython.display import Image  \n",
    "import pydotplus"
   ]
  },
  {
   "cell_type": "code",
   "execution_count": 2,
   "metadata": {},
   "outputs": [],
   "source": [
    "df = pd.read_csv('hate_crimes.csv')"
   ]
  },
  {
   "cell_type": "markdown",
   "metadata": {},
   "source": [
    "## hate_crimes\n",
    "<b>state</b>\tState name<br>\n",
    "<b>median_household_income</b>     Median household income, 2016<br>\n",
    "<b>share_unemployed_seasonal</b>\tShare of the population that is unemployed (seasonally adjusted), Sept. 2016<br>\n",
    "<b>share_population_in_metro_areas</b>\t    Share of the population that lives in metropolitan areas, 2015<br>\n",
    "<b>share_population_with_high_school_degree</b>     Share of adults 25 and older with a high-school degree, 2009<br>\n",
    "<b>share_non_citizen</b>     Share of the population that are not U.S. citizens, 2015<br>\n",
    "<b>share_white_poverty</b>     Share of white residents who are living in poverty, 2015<br>\n",
    "<b>gini_index</b>     Gini Index, 2015<br>\n",
    "<b>share_non_white</b>\tShare of the population that is not white, 2015<br>\n",
    "<b>share_voters_voted_trump</b>\tShare of 2016 U.S. presidential voters who voted for Donald Trump<br>\n",
    "<b>hate_crimes_per_100k_splc</b>\t  Hate crimes per 100,000 population, Southern Poverty Law Center, Nov. 9-18, 2016<br>\n",
    "<b>avg_hatecrimes_per_100k_fbi</b>\t    Average annual hate crimes per 100,000 population, FBI, 2010-2015<br>"
   ]
  },
  {
   "cell_type": "code",
   "execution_count": 3,
   "metadata": {},
   "outputs": [],
   "source": [
    "df.drop(['gini_index'], axis=1, inplace=True)"
   ]
  },
  {
   "cell_type": "code",
   "execution_count": 4,
   "metadata": {},
   "outputs": [
    {
     "data": {
      "text/html": [
       "<div>\n",
       "<style scoped>\n",
       "    .dataframe tbody tr th:only-of-type {\n",
       "        vertical-align: middle;\n",
       "    }\n",
       "\n",
       "    .dataframe tbody tr th {\n",
       "        vertical-align: top;\n",
       "    }\n",
       "\n",
       "    .dataframe thead th {\n",
       "        text-align: right;\n",
       "    }\n",
       "</style>\n",
       "<table border=\"1\" class=\"dataframe\">\n",
       "  <thead>\n",
       "    <tr style=\"text-align: right;\">\n",
       "      <th></th>\n",
       "      <th>state</th>\n",
       "      <th>median_household_income</th>\n",
       "      <th>share_unemployed_seasonal</th>\n",
       "      <th>share_population_in_metro_areas</th>\n",
       "      <th>share_population_with_high_school_degree</th>\n",
       "      <th>share_non_citizen</th>\n",
       "      <th>share_white_poverty</th>\n",
       "      <th>share_non_white</th>\n",
       "      <th>share_voters_voted_trump</th>\n",
       "      <th>hate_crimes_per_100k_splc</th>\n",
       "      <th>avg_hatecrimes_per_100k_fbi</th>\n",
       "    </tr>\n",
       "  </thead>\n",
       "  <tbody>\n",
       "    <tr>\n",
       "      <th>0</th>\n",
       "      <td>Alabama</td>\n",
       "      <td>42278</td>\n",
       "      <td>0.060</td>\n",
       "      <td>0.64</td>\n",
       "      <td>0.821</td>\n",
       "      <td>0.02</td>\n",
       "      <td>0.12</td>\n",
       "      <td>0.35</td>\n",
       "      <td>0.63</td>\n",
       "      <td>0.125839</td>\n",
       "      <td>1.806410</td>\n",
       "    </tr>\n",
       "    <tr>\n",
       "      <th>1</th>\n",
       "      <td>Alaska</td>\n",
       "      <td>67629</td>\n",
       "      <td>0.064</td>\n",
       "      <td>0.63</td>\n",
       "      <td>0.914</td>\n",
       "      <td>0.04</td>\n",
       "      <td>0.06</td>\n",
       "      <td>0.42</td>\n",
       "      <td>0.53</td>\n",
       "      <td>0.143740</td>\n",
       "      <td>1.656700</td>\n",
       "    </tr>\n",
       "    <tr>\n",
       "      <th>2</th>\n",
       "      <td>Arizona</td>\n",
       "      <td>49254</td>\n",
       "      <td>0.063</td>\n",
       "      <td>0.90</td>\n",
       "      <td>0.842</td>\n",
       "      <td>0.10</td>\n",
       "      <td>0.09</td>\n",
       "      <td>0.49</td>\n",
       "      <td>0.50</td>\n",
       "      <td>0.225320</td>\n",
       "      <td>3.413928</td>\n",
       "    </tr>\n",
       "    <tr>\n",
       "      <th>3</th>\n",
       "      <td>Arkansas</td>\n",
       "      <td>44922</td>\n",
       "      <td>0.052</td>\n",
       "      <td>0.69</td>\n",
       "      <td>0.824</td>\n",
       "      <td>0.04</td>\n",
       "      <td>0.12</td>\n",
       "      <td>0.26</td>\n",
       "      <td>0.60</td>\n",
       "      <td>0.069061</td>\n",
       "      <td>0.869209</td>\n",
       "    </tr>\n",
       "    <tr>\n",
       "      <th>4</th>\n",
       "      <td>California</td>\n",
       "      <td>60487</td>\n",
       "      <td>0.059</td>\n",
       "      <td>0.97</td>\n",
       "      <td>0.806</td>\n",
       "      <td>0.13</td>\n",
       "      <td>0.09</td>\n",
       "      <td>0.61</td>\n",
       "      <td>0.33</td>\n",
       "      <td>0.255805</td>\n",
       "      <td>2.397986</td>\n",
       "    </tr>\n",
       "  </tbody>\n",
       "</table>\n",
       "</div>"
      ],
      "text/plain": [
       "        state  median_household_income  share_unemployed_seasonal  \\\n",
       "0     Alabama                    42278                      0.060   \n",
       "1      Alaska                    67629                      0.064   \n",
       "2     Arizona                    49254                      0.063   \n",
       "3    Arkansas                    44922                      0.052   \n",
       "4  California                    60487                      0.059   \n",
       "\n",
       "   share_population_in_metro_areas  share_population_with_high_school_degree  \\\n",
       "0                             0.64                                     0.821   \n",
       "1                             0.63                                     0.914   \n",
       "2                             0.90                                     0.842   \n",
       "3                             0.69                                     0.824   \n",
       "4                             0.97                                     0.806   \n",
       "\n",
       "   share_non_citizen  share_white_poverty  share_non_white  \\\n",
       "0               0.02                 0.12             0.35   \n",
       "1               0.04                 0.06             0.42   \n",
       "2               0.10                 0.09             0.49   \n",
       "3               0.04                 0.12             0.26   \n",
       "4               0.13                 0.09             0.61   \n",
       "\n",
       "   share_voters_voted_trump  hate_crimes_per_100k_splc  \\\n",
       "0                      0.63                   0.125839   \n",
       "1                      0.53                   0.143740   \n",
       "2                      0.50                   0.225320   \n",
       "3                      0.60                   0.069061   \n",
       "4                      0.33                   0.255805   \n",
       "\n",
       "   avg_hatecrimes_per_100k_fbi  \n",
       "0                     1.806410  \n",
       "1                     1.656700  \n",
       "2                     3.413928  \n",
       "3                     0.869209  \n",
       "4                     2.397986  "
      ]
     },
     "execution_count": 4,
     "metadata": {},
     "output_type": "execute_result"
    }
   ],
   "source": [
    "df.head()"
   ]
  },
  {
   "cell_type": "markdown",
   "metadata": {},
   "source": [
    "One record for each state, corresponding to statistics centered around a hate crime rate"
   ]
  },
  {
   "cell_type": "code",
   "execution_count": 5,
   "metadata": {},
   "outputs": [
    {
     "data": {
      "text/plain": [
       "51"
      ]
     },
     "execution_count": 5,
     "metadata": {},
     "output_type": "execute_result"
    }
   ],
   "source": [
    "len(df)"
   ]
  },
  {
   "cell_type": "code",
   "execution_count": 6,
   "metadata": {},
   "outputs": [
    {
     "data": {
      "text/plain": [
       "state                                       0\n",
       "median_household_income                     0\n",
       "share_unemployed_seasonal                   0\n",
       "share_population_in_metro_areas             0\n",
       "share_population_with_high_school_degree    0\n",
       "share_non_citizen                           3\n",
       "share_white_poverty                         0\n",
       "share_non_white                             0\n",
       "share_voters_voted_trump                    0\n",
       "hate_crimes_per_100k_splc                   4\n",
       "avg_hatecrimes_per_100k_fbi                 1\n",
       "dtype: int64"
      ]
     },
     "execution_count": 6,
     "metadata": {},
     "output_type": "execute_result"
    }
   ],
   "source": [
    "df.isna().sum()"
   ]
  },
  {
   "cell_type": "code",
   "execution_count": 7,
   "metadata": {},
   "outputs": [],
   "source": [
    "df2 = pd.read_csv('police_killings2.csv')"
   ]
  },
  {
   "cell_type": "markdown",
   "metadata": {},
   "source": [
    "## police_killings\n",
    "<b>name</b>\tName of deceased<br>\n",
    "<b>age</b>\tAge of deceased<br>\n",
    "<b>gender</b>\tGender of deceased<br>\n",
    "<b>raceethnicity</b>\tRace/ethnicity of deceased<br>\n",
    "<b>streetaddress</b>\tAddress/intersection where incident occurred<br>\n",
    "<b>city</b>\tCity where incident occurred<br>\n",
    "<b>state</b>\tState where incident occurred<br>\n",
    "<b>cause</b>\tCause of death<br>\n",
    "<b>armed</b>\tHow/whether deceased was armed<br>\n",
    "<b>share_white</b>\tShare of pop that is non-Hispanic white<br>\n",
    "<b>share_bloack</b>\tShare of pop that is black (alone, not in combination)<br>\n",
    "<b>share_hispanic</b>\tShare of pop that is Hispanic/Latino (any race)<br>\n",
    "<b>h_income</b>\tTract-level median household income<br>\n",
    "<b>county_income</b>\tCounty-level median household income<br>\n",
    "<b>nat_bucket</b>\tHousehold income, quintile nationally<br>\n",
    "<b>pop</b>     Tract population<br>\n",
    "<b>pov</b>\tTract-level poverty rate (official)<br>\n",
    "<b>urate</b>\tTract-level unemployment rate<br>\n",
    "<b>college</b>\tShare of 25+ pop with BA or higher<br>"
   ]
  },
  {
   "cell_type": "code",
   "execution_count": 8,
   "metadata": {},
   "outputs": [],
   "source": [
    "df2.drop(['latitude','longitude','streetaddress','year','city','state_fp','county_fp','tract_ce','geo_id','county_id','namelsad','lawenforcementagency','p_income','comp_income','month','day','cause'], axis=1, inplace=True)"
   ]
  },
  {
   "cell_type": "code",
   "execution_count": 9,
   "metadata": {},
   "outputs": [
    {
     "data": {
      "text/plain": [
       "467"
      ]
     },
     "execution_count": 9,
     "metadata": {},
     "output_type": "execute_result"
    }
   ],
   "source": [
    "len(df2)"
   ]
  },
  {
   "cell_type": "code",
   "execution_count": 10,
   "metadata": {},
   "outputs": [
    {
     "data": {
      "text/plain": [
       "name               0\n",
       "age                0\n",
       "gender             0\n",
       "raceethnicity      0\n",
       "state              0\n",
       "armed              0\n",
       "pop                0\n",
       "share_white        0\n",
       "share_black        0\n",
       "share_hispanic     0\n",
       "h_income           2\n",
       "county_income      0\n",
       "county_bucket     27\n",
       "nat_bucket         2\n",
       "pov                0\n",
       "urate              2\n",
       "college            2\n",
       "dtype: int64"
      ]
     },
     "execution_count": 10,
     "metadata": {},
     "output_type": "execute_result"
    }
   ],
   "source": [
    "df2.isna().sum()"
   ]
  },
  {
   "cell_type": "markdown",
   "metadata": {},
   "source": [
    "Drop 'county bucket' because of NA values and lack of relevancy"
   ]
  },
  {
   "cell_type": "code",
   "execution_count": 11,
   "metadata": {},
   "outputs": [],
   "source": [
    "df2.drop(['county_bucket'],axis=1,inplace=True)"
   ]
  },
  {
   "cell_type": "markdown",
   "metadata": {},
   "source": [
    "<b>Replace 'armed' category with boolean for armed/unarmed<br>\n",
    "All lethal weapons including knives and vehicles are considered 'armed', as well as a 'non-lethal firearm' because it gives the appearance of a leathal firearm"
   ]
  },
  {
   "cell_type": "code",
   "execution_count": 12,
   "metadata": {},
   "outputs": [],
   "source": [
    "df2['armed'] = df2.armed.replace({'No':0.0, 'Unknown':0.0, 'Other':0.0, 'Firearm':1.0, 'Non-lethal firearm':1.0, 'Vehicle':1.0,'Knife':1.0})"
   ]
  },
  {
   "cell_type": "code",
   "execution_count": 13,
   "metadata": {},
   "outputs": [
    {
     "data": {
      "text/html": [
       "<div>\n",
       "<style scoped>\n",
       "    .dataframe tbody tr th:only-of-type {\n",
       "        vertical-align: middle;\n",
       "    }\n",
       "\n",
       "    .dataframe tbody tr th {\n",
       "        vertical-align: top;\n",
       "    }\n",
       "\n",
       "    .dataframe thead th {\n",
       "        text-align: right;\n",
       "    }\n",
       "</style>\n",
       "<table border=\"1\" class=\"dataframe\">\n",
       "  <thead>\n",
       "    <tr style=\"text-align: right;\">\n",
       "      <th></th>\n",
       "      <th>name</th>\n",
       "      <th>age</th>\n",
       "      <th>gender</th>\n",
       "      <th>raceethnicity</th>\n",
       "      <th>state</th>\n",
       "      <th>armed</th>\n",
       "      <th>pop</th>\n",
       "      <th>share_white</th>\n",
       "      <th>share_black</th>\n",
       "      <th>share_hispanic</th>\n",
       "      <th>h_income</th>\n",
       "      <th>county_income</th>\n",
       "      <th>nat_bucket</th>\n",
       "      <th>pov</th>\n",
       "      <th>urate</th>\n",
       "      <th>college</th>\n",
       "    </tr>\n",
       "  </thead>\n",
       "  <tbody>\n",
       "    <tr>\n",
       "      <th>0</th>\n",
       "      <td>A'donte Washington</td>\n",
       "      <td>16</td>\n",
       "      <td>Male</td>\n",
       "      <td>Black</td>\n",
       "      <td>AL</td>\n",
       "      <td>0</td>\n",
       "      <td>3779</td>\n",
       "      <td>60.5</td>\n",
       "      <td>30.5</td>\n",
       "      <td>5.6</td>\n",
       "      <td>51367.0</td>\n",
       "      <td>54766</td>\n",
       "      <td>3.0</td>\n",
       "      <td>14.1</td>\n",
       "      <td>0.097686</td>\n",
       "      <td>0.168510</td>\n",
       "    </tr>\n",
       "    <tr>\n",
       "      <th>1</th>\n",
       "      <td>Aaron Rutledge</td>\n",
       "      <td>27</td>\n",
       "      <td>Male</td>\n",
       "      <td>White</td>\n",
       "      <td>LA</td>\n",
       "      <td>0</td>\n",
       "      <td>2769</td>\n",
       "      <td>53.8</td>\n",
       "      <td>36.2</td>\n",
       "      <td>0.5</td>\n",
       "      <td>27972.0</td>\n",
       "      <td>40930</td>\n",
       "      <td>1.0</td>\n",
       "      <td>28.8</td>\n",
       "      <td>0.065724</td>\n",
       "      <td>0.111402</td>\n",
       "    </tr>\n",
       "    <tr>\n",
       "      <th>2</th>\n",
       "      <td>Aaron Siler</td>\n",
       "      <td>26</td>\n",
       "      <td>Male</td>\n",
       "      <td>White</td>\n",
       "      <td>WI</td>\n",
       "      <td>0</td>\n",
       "      <td>4079</td>\n",
       "      <td>73.8</td>\n",
       "      <td>7.7</td>\n",
       "      <td>16.8</td>\n",
       "      <td>45365.0</td>\n",
       "      <td>54930</td>\n",
       "      <td>3.0</td>\n",
       "      <td>14.6</td>\n",
       "      <td>0.166293</td>\n",
       "      <td>0.147312</td>\n",
       "    </tr>\n",
       "    <tr>\n",
       "      <th>3</th>\n",
       "      <td>Aaron Valdez</td>\n",
       "      <td>25</td>\n",
       "      <td>Male</td>\n",
       "      <td>Hispanic/Latino</td>\n",
       "      <td>CA</td>\n",
       "      <td>1</td>\n",
       "      <td>4343</td>\n",
       "      <td>1.2</td>\n",
       "      <td>0.6</td>\n",
       "      <td>98.8</td>\n",
       "      <td>48295.0</td>\n",
       "      <td>55909</td>\n",
       "      <td>3.0</td>\n",
       "      <td>11.7</td>\n",
       "      <td>0.124827</td>\n",
       "      <td>0.050133</td>\n",
       "    </tr>\n",
       "    <tr>\n",
       "      <th>4</th>\n",
       "      <td>Adam Jovicic</td>\n",
       "      <td>29</td>\n",
       "      <td>Male</td>\n",
       "      <td>White</td>\n",
       "      <td>OH</td>\n",
       "      <td>0</td>\n",
       "      <td>6809</td>\n",
       "      <td>92.5</td>\n",
       "      <td>1.4</td>\n",
       "      <td>1.7</td>\n",
       "      <td>68785.0</td>\n",
       "      <td>49669</td>\n",
       "      <td>4.0</td>\n",
       "      <td>1.9</td>\n",
       "      <td>0.063550</td>\n",
       "      <td>0.403954</td>\n",
       "    </tr>\n",
       "  </tbody>\n",
       "</table>\n",
       "</div>"
      ],
      "text/plain": [
       "                 name age gender    raceethnicity state armed   pop  \\\n",
       "0  A'donte Washington  16   Male            Black    AL     0  3779   \n",
       "1      Aaron Rutledge  27   Male            White    LA     0  2769   \n",
       "2         Aaron Siler  26   Male            White    WI     0  4079   \n",
       "3        Aaron Valdez  25   Male  Hispanic/Latino    CA     1  4343   \n",
       "4        Adam Jovicic  29   Male            White    OH     0  6809   \n",
       "\n",
       "  share_white share_black share_hispanic  h_income  county_income  nat_bucket  \\\n",
       "0        60.5        30.5            5.6   51367.0          54766         3.0   \n",
       "1        53.8        36.2            0.5   27972.0          40930         1.0   \n",
       "2        73.8         7.7           16.8   45365.0          54930         3.0   \n",
       "3         1.2         0.6           98.8   48295.0          55909         3.0   \n",
       "4        92.5         1.4            1.7   68785.0          49669         4.0   \n",
       "\n",
       "    pov     urate   college  \n",
       "0  14.1  0.097686  0.168510  \n",
       "1  28.8  0.065724  0.111402  \n",
       "2  14.6  0.166293  0.147312  \n",
       "3  11.7  0.124827  0.050133  \n",
       "4   1.9  0.063550  0.403954  "
      ]
     },
     "execution_count": 13,
     "metadata": {},
     "output_type": "execute_result"
    }
   ],
   "source": [
    "df2.head(5)"
   ]
  },
  {
   "cell_type": "markdown",
   "metadata": {},
   "source": [
    "<b>Replace full state name in 'hate_crimes' with state code corresponding to 'police_killings'"
   ]
  },
  {
   "cell_type": "code",
   "execution_count": 14,
   "metadata": {},
   "outputs": [],
   "source": [
    "df['state']=df.state.replace({\n",
    "'Alabama': 'AL',\n",
    "'Alaska': 'AK',\n",
    "'American Samoa': 'AS',\n",
    "'Arizona': 'AZ',\n",
    "'Arkansas': 'AR',\n",
    "'California': 'CA',\n",
    "'Colorado': 'CO',\n",
    "'Connecticut': 'CT',\n",
    "'Delaware': 'DE',\n",
    "'District of Columbia': 'DC',\n",
    "'Florida': 'FL',\n",
    "'Georgia': 'GA',\n",
    "'Guam': 'GU',\n",
    "'Hawaii': 'HI',\n",
    "'Idaho': 'ID',\n",
    "'Illinois': 'IL',\n",
    "'Indiana': 'IN',\n",
    "'Iowa': 'IA',\n",
    "'Kansas': 'KS',\n",
    "'Kentucky': 'KY',\n",
    "'Louisiana': 'LA',\n",
    "'Maine': 'ME',\n",
    "'Maryland': 'MD',\n",
    "'Massachusetts': 'MA',\n",
    "'Michigan': 'MI',\n",
    "'Minnesota': 'MN',\n",
    "'Mississippi': 'MS',\n",
    "'Missouri': 'MO',\n",
    "'Montana': 'MT',\n",
    "'Nebraska': 'NE',\n",
    "'Nevada': 'NV',\n",
    "'New Hampshire': 'NH',\n",
    "'New Jersey': 'NJ',\n",
    "'New Mexico': 'NM',\n",
    "'New York': 'NY',\n",
    "'North Carolina': 'NC',\n",
    "'North Dakota': 'ND',\n",
    "'Northern Mariana Islands':'MP',\n",
    "'Ohio': 'OH',\n",
    "'Oklahoma': 'OK',\n",
    "'Oregon': 'OR',\n",
    "'Pennsylvania': 'PA',\n",
    "'Puerto Rico': 'PR',\n",
    "'Rhode Island': 'RI',\n",
    "'South Carolina': 'SC',\n",
    "'South Dakota': 'SD',\n",
    "'Tennessee': 'TN',\n",
    "'Texas': 'TX',\n",
    "'Utah': 'UT',\n",
    "'Vermont': 'VT',\n",
    "'Virgin Islands': 'VI',\n",
    "'Virginia': 'VA',\n",
    "'Washington': 'WA',\n",
    "'West Virginia': 'WV',\n",
    "'Wisconsin': 'WI',\n",
    "'Wyoming': 'WY'\n",
    "})"
   ]
  },
  {
   "cell_type": "code",
   "execution_count": 15,
   "metadata": {},
   "outputs": [
    {
     "data": {
      "text/html": [
       "<div>\n",
       "<style scoped>\n",
       "    .dataframe tbody tr th:only-of-type {\n",
       "        vertical-align: middle;\n",
       "    }\n",
       "\n",
       "    .dataframe tbody tr th {\n",
       "        vertical-align: top;\n",
       "    }\n",
       "\n",
       "    .dataframe thead th {\n",
       "        text-align: right;\n",
       "    }\n",
       "</style>\n",
       "<table border=\"1\" class=\"dataframe\">\n",
       "  <thead>\n",
       "    <tr style=\"text-align: right;\">\n",
       "      <th></th>\n",
       "      <th>state</th>\n",
       "      <th>median_household_income</th>\n",
       "      <th>share_unemployed_seasonal</th>\n",
       "      <th>share_population_in_metro_areas</th>\n",
       "      <th>share_population_with_high_school_degree</th>\n",
       "      <th>share_non_citizen</th>\n",
       "      <th>share_white_poverty</th>\n",
       "      <th>share_non_white</th>\n",
       "      <th>share_voters_voted_trump</th>\n",
       "      <th>hate_crimes_per_100k_splc</th>\n",
       "      <th>avg_hatecrimes_per_100k_fbi</th>\n",
       "    </tr>\n",
       "  </thead>\n",
       "  <tbody>\n",
       "    <tr>\n",
       "      <th>0</th>\n",
       "      <td>AL</td>\n",
       "      <td>42278</td>\n",
       "      <td>0.060</td>\n",
       "      <td>0.64</td>\n",
       "      <td>0.821</td>\n",
       "      <td>0.02</td>\n",
       "      <td>0.12</td>\n",
       "      <td>0.35</td>\n",
       "      <td>0.63</td>\n",
       "      <td>0.125839</td>\n",
       "      <td>1.806410</td>\n",
       "    </tr>\n",
       "    <tr>\n",
       "      <th>1</th>\n",
       "      <td>AK</td>\n",
       "      <td>67629</td>\n",
       "      <td>0.064</td>\n",
       "      <td>0.63</td>\n",
       "      <td>0.914</td>\n",
       "      <td>0.04</td>\n",
       "      <td>0.06</td>\n",
       "      <td>0.42</td>\n",
       "      <td>0.53</td>\n",
       "      <td>0.143740</td>\n",
       "      <td>1.656700</td>\n",
       "    </tr>\n",
       "    <tr>\n",
       "      <th>2</th>\n",
       "      <td>AZ</td>\n",
       "      <td>49254</td>\n",
       "      <td>0.063</td>\n",
       "      <td>0.90</td>\n",
       "      <td>0.842</td>\n",
       "      <td>0.10</td>\n",
       "      <td>0.09</td>\n",
       "      <td>0.49</td>\n",
       "      <td>0.50</td>\n",
       "      <td>0.225320</td>\n",
       "      <td>3.413928</td>\n",
       "    </tr>\n",
       "    <tr>\n",
       "      <th>3</th>\n",
       "      <td>AR</td>\n",
       "      <td>44922</td>\n",
       "      <td>0.052</td>\n",
       "      <td>0.69</td>\n",
       "      <td>0.824</td>\n",
       "      <td>0.04</td>\n",
       "      <td>0.12</td>\n",
       "      <td>0.26</td>\n",
       "      <td>0.60</td>\n",
       "      <td>0.069061</td>\n",
       "      <td>0.869209</td>\n",
       "    </tr>\n",
       "    <tr>\n",
       "      <th>4</th>\n",
       "      <td>CA</td>\n",
       "      <td>60487</td>\n",
       "      <td>0.059</td>\n",
       "      <td>0.97</td>\n",
       "      <td>0.806</td>\n",
       "      <td>0.13</td>\n",
       "      <td>0.09</td>\n",
       "      <td>0.61</td>\n",
       "      <td>0.33</td>\n",
       "      <td>0.255805</td>\n",
       "      <td>2.397986</td>\n",
       "    </tr>\n",
       "  </tbody>\n",
       "</table>\n",
       "</div>"
      ],
      "text/plain": [
       "  state  median_household_income  share_unemployed_seasonal  \\\n",
       "0    AL                    42278                      0.060   \n",
       "1    AK                    67629                      0.064   \n",
       "2    AZ                    49254                      0.063   \n",
       "3    AR                    44922                      0.052   \n",
       "4    CA                    60487                      0.059   \n",
       "\n",
       "   share_population_in_metro_areas  share_population_with_high_school_degree  \\\n",
       "0                             0.64                                     0.821   \n",
       "1                             0.63                                     0.914   \n",
       "2                             0.90                                     0.842   \n",
       "3                             0.69                                     0.824   \n",
       "4                             0.97                                     0.806   \n",
       "\n",
       "   share_non_citizen  share_white_poverty  share_non_white  \\\n",
       "0               0.02                 0.12             0.35   \n",
       "1               0.04                 0.06             0.42   \n",
       "2               0.10                 0.09             0.49   \n",
       "3               0.04                 0.12             0.26   \n",
       "4               0.13                 0.09             0.61   \n",
       "\n",
       "   share_voters_voted_trump  hate_crimes_per_100k_splc  \\\n",
       "0                      0.63                   0.125839   \n",
       "1                      0.53                   0.143740   \n",
       "2                      0.50                   0.225320   \n",
       "3                      0.60                   0.069061   \n",
       "4                      0.33                   0.255805   \n",
       "\n",
       "   avg_hatecrimes_per_100k_fbi  \n",
       "0                     1.806410  \n",
       "1                     1.656700  \n",
       "2                     3.413928  \n",
       "3                     0.869209  \n",
       "4                     2.397986  "
      ]
     },
     "execution_count": 15,
     "metadata": {},
     "output_type": "execute_result"
    }
   ],
   "source": [
    "df.head()"
   ]
  },
  {
   "cell_type": "code",
   "execution_count": null,
   "metadata": {},
   "outputs": [],
   "source": []
  },
  {
   "cell_type": "markdown",
   "metadata": {},
   "source": [
    "## Police Killings Analysis"
   ]
  },
  {
   "cell_type": "code",
   "execution_count": 16,
   "metadata": {},
   "outputs": [
    {
     "data": {
      "text/html": [
       "<div>\n",
       "<style scoped>\n",
       "    .dataframe tbody tr th:only-of-type {\n",
       "        vertical-align: middle;\n",
       "    }\n",
       "\n",
       "    .dataframe tbody tr th {\n",
       "        vertical-align: top;\n",
       "    }\n",
       "\n",
       "    .dataframe thead th {\n",
       "        text-align: right;\n",
       "    }\n",
       "</style>\n",
       "<table border=\"1\" class=\"dataframe\">\n",
       "  <thead>\n",
       "    <tr style=\"text-align: right;\">\n",
       "      <th></th>\n",
       "      <th>name</th>\n",
       "      <th>age</th>\n",
       "      <th>gender</th>\n",
       "      <th>raceethnicity</th>\n",
       "      <th>state</th>\n",
       "      <th>armed</th>\n",
       "      <th>pop</th>\n",
       "      <th>share_white</th>\n",
       "      <th>share_black</th>\n",
       "      <th>share_hispanic</th>\n",
       "      <th>h_income</th>\n",
       "      <th>county_income</th>\n",
       "      <th>nat_bucket</th>\n",
       "      <th>pov</th>\n",
       "      <th>urate</th>\n",
       "      <th>college</th>\n",
       "    </tr>\n",
       "  </thead>\n",
       "  <tbody>\n",
       "    <tr>\n",
       "      <th>0</th>\n",
       "      <td>A'donte Washington</td>\n",
       "      <td>16</td>\n",
       "      <td>Male</td>\n",
       "      <td>Black</td>\n",
       "      <td>AL</td>\n",
       "      <td>0</td>\n",
       "      <td>3779</td>\n",
       "      <td>60.5</td>\n",
       "      <td>30.5</td>\n",
       "      <td>5.6</td>\n",
       "      <td>51367.0</td>\n",
       "      <td>54766</td>\n",
       "      <td>3.0</td>\n",
       "      <td>14.1</td>\n",
       "      <td>0.097686</td>\n",
       "      <td>0.168510</td>\n",
       "    </tr>\n",
       "    <tr>\n",
       "      <th>1</th>\n",
       "      <td>Aaron Rutledge</td>\n",
       "      <td>27</td>\n",
       "      <td>Male</td>\n",
       "      <td>White</td>\n",
       "      <td>LA</td>\n",
       "      <td>0</td>\n",
       "      <td>2769</td>\n",
       "      <td>53.8</td>\n",
       "      <td>36.2</td>\n",
       "      <td>0.5</td>\n",
       "      <td>27972.0</td>\n",
       "      <td>40930</td>\n",
       "      <td>1.0</td>\n",
       "      <td>28.8</td>\n",
       "      <td>0.065724</td>\n",
       "      <td>0.111402</td>\n",
       "    </tr>\n",
       "    <tr>\n",
       "      <th>2</th>\n",
       "      <td>Aaron Siler</td>\n",
       "      <td>26</td>\n",
       "      <td>Male</td>\n",
       "      <td>White</td>\n",
       "      <td>WI</td>\n",
       "      <td>0</td>\n",
       "      <td>4079</td>\n",
       "      <td>73.8</td>\n",
       "      <td>7.7</td>\n",
       "      <td>16.8</td>\n",
       "      <td>45365.0</td>\n",
       "      <td>54930</td>\n",
       "      <td>3.0</td>\n",
       "      <td>14.6</td>\n",
       "      <td>0.166293</td>\n",
       "      <td>0.147312</td>\n",
       "    </tr>\n",
       "    <tr>\n",
       "      <th>3</th>\n",
       "      <td>Aaron Valdez</td>\n",
       "      <td>25</td>\n",
       "      <td>Male</td>\n",
       "      <td>Hispanic/Latino</td>\n",
       "      <td>CA</td>\n",
       "      <td>1</td>\n",
       "      <td>4343</td>\n",
       "      <td>1.2</td>\n",
       "      <td>0.6</td>\n",
       "      <td>98.8</td>\n",
       "      <td>48295.0</td>\n",
       "      <td>55909</td>\n",
       "      <td>3.0</td>\n",
       "      <td>11.7</td>\n",
       "      <td>0.124827</td>\n",
       "      <td>0.050133</td>\n",
       "    </tr>\n",
       "    <tr>\n",
       "      <th>4</th>\n",
       "      <td>Adam Jovicic</td>\n",
       "      <td>29</td>\n",
       "      <td>Male</td>\n",
       "      <td>White</td>\n",
       "      <td>OH</td>\n",
       "      <td>0</td>\n",
       "      <td>6809</td>\n",
       "      <td>92.5</td>\n",
       "      <td>1.4</td>\n",
       "      <td>1.7</td>\n",
       "      <td>68785.0</td>\n",
       "      <td>49669</td>\n",
       "      <td>4.0</td>\n",
       "      <td>1.9</td>\n",
       "      <td>0.063550</td>\n",
       "      <td>0.403954</td>\n",
       "    </tr>\n",
       "  </tbody>\n",
       "</table>\n",
       "</div>"
      ],
      "text/plain": [
       "                 name age gender    raceethnicity state armed   pop  \\\n",
       "0  A'donte Washington  16   Male            Black    AL     0  3779   \n",
       "1      Aaron Rutledge  27   Male            White    LA     0  2769   \n",
       "2         Aaron Siler  26   Male            White    WI     0  4079   \n",
       "3        Aaron Valdez  25   Male  Hispanic/Latino    CA     1  4343   \n",
       "4        Adam Jovicic  29   Male            White    OH     0  6809   \n",
       "\n",
       "  share_white share_black share_hispanic  h_income  county_income  nat_bucket  \\\n",
       "0        60.5        30.5            5.6   51367.0          54766         3.0   \n",
       "1        53.8        36.2            0.5   27972.0          40930         1.0   \n",
       "2        73.8         7.7           16.8   45365.0          54930         3.0   \n",
       "3         1.2         0.6           98.8   48295.0          55909         3.0   \n",
       "4        92.5         1.4            1.7   68785.0          49669         4.0   \n",
       "\n",
       "    pov     urate   college  \n",
       "0  14.1  0.097686  0.168510  \n",
       "1  28.8  0.065724  0.111402  \n",
       "2  14.6  0.166293  0.147312  \n",
       "3  11.7  0.124827  0.050133  \n",
       "4   1.9  0.063550  0.403954  "
      ]
     },
     "execution_count": 16,
     "metadata": {},
     "output_type": "execute_result"
    }
   ],
   "source": [
    "df2.head()"
   ]
  },
  {
   "cell_type": "markdown",
   "metadata": {},
   "source": [
    "### Counts of police killings by race"
   ]
  },
  {
   "cell_type": "code",
   "execution_count": 17,
   "metadata": {
    "scrolled": true
   },
   "outputs": [
    {
     "data": {
      "text/plain": [
       "raceethnicity\n",
       "Asian/Pacific Islander     10\n",
       "Black                     135\n",
       "Hispanic/Latino            67\n",
       "Native American             4\n",
       "Unknown                    15\n",
       "White                     236\n",
       "Name: name, dtype: int64"
      ]
     },
     "execution_count": 17,
     "metadata": {},
     "output_type": "execute_result"
    }
   ],
   "source": [
    "race= df2.groupby('raceethnicity')['name'].count()\n",
    "race"
   ]
  },
  {
   "cell_type": "markdown",
   "metadata": {},
   "source": [
    "<b>Black people were about 18% of the population in 2015"
   ]
  },
  {
   "cell_type": "code",
   "execution_count": 18,
   "metadata": {},
   "outputs": [
    {
     "data": {
      "text/plain": [
       "467"
      ]
     },
     "execution_count": 18,
     "metadata": {},
     "output_type": "execute_result"
    }
   ],
   "source": [
    "race.sum()"
   ]
  },
  {
   "cell_type": "code",
   "execution_count": 19,
   "metadata": {},
   "outputs": [
    {
     "data": {
      "text/plain": [
       "135"
      ]
     },
     "execution_count": 19,
     "metadata": {},
     "output_type": "execute_result"
    }
   ],
   "source": [
    "race.loc['Black']"
   ]
  },
  {
   "cell_type": "code",
   "execution_count": 20,
   "metadata": {},
   "outputs": [
    {
     "data": {
      "text/plain": [
       "0.2890792291220557"
      ]
     },
     "execution_count": 20,
     "metadata": {},
     "output_type": "execute_result"
    }
   ],
   "source": [
    "race.loc['Black']/race.sum()"
   ]
  },
  {
   "cell_type": "markdown",
   "metadata": {},
   "source": [
    "<b>However Black people constitute about 28% of police killings in 2015"
   ]
  },
  {
   "cell_type": "markdown",
   "metadata": {},
   "source": [
    "<b>Counts by race of all individuals considered 'unarmed'"
   ]
  },
  {
   "cell_type": "code",
   "execution_count": 21,
   "metadata": {},
   "outputs": [
    {
     "data": {
      "text/plain": [
       "raceethnicity\n",
       "Asian/Pacific Islander     4\n",
       "Black                     40\n",
       "Hispanic/Latino           17\n",
       "Native American            1\n",
       "Unknown                    2\n",
       "White                     71\n",
       "Name: name, dtype: int64"
      ]
     },
     "execution_count": 21,
     "metadata": {},
     "output_type": "execute_result"
    }
   ],
   "source": [
    "unarmedRace = df2[df2.armed==0].groupby('raceethnicity')['name'].count()\n",
    "unarmedRace"
   ]
  },
  {
   "cell_type": "markdown",
   "metadata": {},
   "source": [
    "<b>Counts by race of all individuals considered 'armed'"
   ]
  },
  {
   "cell_type": "code",
   "execution_count": 22,
   "metadata": {},
   "outputs": [
    {
     "data": {
      "text/plain": [
       "raceethnicity\n",
       "Asian/Pacific Islander      6\n",
       "Black                      94\n",
       "Hispanic/Latino            49\n",
       "Native American             3\n",
       "Unknown                    13\n",
       "White                     165\n",
       "Name: name, dtype: int64"
      ]
     },
     "execution_count": 22,
     "metadata": {},
     "output_type": "execute_result"
    }
   ],
   "source": [
    "armedRace = df2[df2.armed==1].groupby('raceethnicity')['name'].count()\n",
    "armedRace"
   ]
  },
  {
   "cell_type": "markdown",
   "metadata": {},
   "source": [
    "<b>Find ratio of armed to total to find % armed"
   ]
  },
  {
   "cell_type": "code",
   "execution_count": 23,
   "metadata": {},
   "outputs": [
    {
     "data": {
      "text/plain": [
       "raceethnicity\n",
       "Asian/Pacific Islander    0.600000\n",
       "Black                     0.696296\n",
       "Hispanic/Latino           0.731343\n",
       "Native American           0.750000\n",
       "Unknown                   0.866667\n",
       "White                     0.699153\n",
       "Name: name, dtype: float64"
      ]
     },
     "execution_count": 23,
     "metadata": {},
     "output_type": "execute_result"
    }
   ],
   "source": [
    "percentageArmed = armedRace/race\n",
    "percentageArmed"
   ]
  },
  {
   "cell_type": "code",
   "execution_count": 24,
   "metadata": {},
   "outputs": [
    {
     "data": {
      "text/plain": [
       "<matplotlib.axes._subplots.AxesSubplot at 0x10a9908d0>"
      ]
     },
     "execution_count": 24,
     "metadata": {},
     "output_type": "execute_result"
    },
    {
     "data": {
      "image/png": "[encoded data removed]",
      "text/plain": [
       "<Figure size 432x288 with 1 Axes>"
      ]
     },
     "metadata": {
      "needs_background": "light"
     },
     "output_type": "display_data"
    }
   ],
   "source": [
    "sns.barplot(percentageArmed.index, percentageArmed.values)"
   ]
  },
  {
   "cell_type": "markdown",
   "metadata": {},
   "source": [
    "<b>Find ratio of unarmed to total to find % unarmed, the inverse of armed"
   ]
  },
  {
   "cell_type": "code",
   "execution_count": 25,
   "metadata": {},
   "outputs": [
    {
     "data": {
      "text/plain": [
       "raceethnicity\n",
       "Asian/Pacific Islander    0.400000\n",
       "Black                     0.296296\n",
       "Hispanic/Latino           0.253731\n",
       "Native American           0.250000\n",
       "Unknown                   0.133333\n",
       "White                     0.300847\n",
       "Name: name, dtype: float64"
      ]
     },
     "execution_count": 25,
     "metadata": {},
     "output_type": "execute_result"
    }
   ],
   "source": [
    "percentageUnarmed = unarmedRace/race\n",
    "percentageUnarmed"
   ]
  },
  {
   "cell_type": "markdown",
   "metadata": {},
   "source": [
    "### No major difference in rate of unarmed deaths by race"
   ]
  },
  {
   "cell_type": "code",
   "execution_count": 26,
   "metadata": {},
   "outputs": [
    {
     "data": {
      "text/plain": [
       "<matplotlib.axes._subplots.AxesSubplot at 0x1a1f62fed0>"
      ]
     },
     "execution_count": 26,
     "metadata": {},
     "output_type": "execute_result"
    },
    {
     "data": {
      "image/png": "[encoded data removed]",
      "text/plain": [
       "<Figure size 432x288 with 1 Axes>"
      ]
     },
     "metadata": {
      "needs_background": "light"
     },
     "output_type": "display_data"
    }
   ],
   "source": [
    "sns.barplot(percentageUnarmed.index, percentageUnarmed.values)"
   ]
  },
  {
   "cell_type": "markdown",
   "metadata": {},
   "source": [
    "## Are more unarmed Black people killed where there is a larger share_white in the pop?"
   ]
  },
  {
   "cell_type": "markdown",
   "metadata": {},
   "source": [
    "Create unarmedBlack dataframe and sum the number of records where the white population is greater than the black"
   ]
  },
  {
   "cell_type": "code",
   "execution_count": 27,
   "metadata": {
    "scrolled": true
   },
   "outputs": [
    {
     "data": {
      "text/plain": [
       "18"
      ]
     },
     "execution_count": 27,
     "metadata": {},
     "output_type": "execute_result"
    }
   ],
   "source": [
    "unarmedBlack = df2[(df2.raceethnicity=='Black') & (df2.armed==0)]\n",
    "unarmedBlackminority=(unarmedBlack.share_white > unarmedBlack.share_black).sum()\n",
    "unarmedBlackminority"
   ]
  },
  {
   "cell_type": "markdown",
   "metadata": {},
   "source": [
    "Total number of unarmed black people in dataset"
   ]
  },
  {
   "cell_type": "code",
   "execution_count": 28,
   "metadata": {},
   "outputs": [
    {
     "data": {
      "text/plain": [
       "40"
      ]
     },
     "execution_count": 28,
     "metadata": {},
     "output_type": "execute_result"
    }
   ],
   "source": [
    "len(unarmedBlack)"
   ]
  },
  {
   "cell_type": "markdown",
   "metadata": {},
   "source": [
    "<b>There is no major correlation between populations with larger white communities\n",
    "and police killings of unarmed black men.</b><br>\n",
    "In other words, the dataset refutes the idea of community prejudice.<br>\n",
    "It is worth nothing that this was simply for populations where share_white > share_black, which is a fairly relaxed condition and doesnt indicate a heavy majority of share_white, such as 75% or greater"
   ]
  },
  {
   "cell_type": "code",
   "execution_count": 29,
   "metadata": {},
   "outputs": [
    {
     "data": {
      "text/plain": [
       "0.45"
      ]
     },
     "execution_count": 29,
     "metadata": {},
     "output_type": "execute_result"
    }
   ],
   "source": [
    "unarmedBlackminority/len(unarmedBlack)"
   ]
  },
  {
   "cell_type": "markdown",
   "metadata": {},
   "source": [
    "### Do some states have more police killings relative to population? (Useful for comparison to hate_crimes)"
   ]
  },
  {
   "cell_type": "markdown",
   "metadata": {},
   "source": [
    "Count number of killings per state"
   ]
  },
  {
   "cell_type": "code",
   "execution_count": 30,
   "metadata": {
    "scrolled": true
   },
   "outputs": [
    {
     "data": {
      "text/plain": [
       "state\n",
       "CA    74\n",
       "TX    46\n",
       "FL    29\n",
       "AZ    25\n",
       "OK    22\n",
       "GA    16\n",
       "NY    14\n",
       "CO    12\n",
       "NJ    11\n",
       "WA    11\n",
       "Name: name, dtype: int64"
      ]
     },
     "execution_count": 30,
     "metadata": {},
     "output_type": "execute_result"
    }
   ],
   "source": [
    "countStateKillings = df2.groupby('state')['name'].count()\n",
    "countStateKillings.sort_values(ascending=False).nlargest(10)"
   ]
  },
  {
   "cell_type": "markdown",
   "metadata": {},
   "source": [
    "Average the tract level population for each state, granting a rough indicator of population"
   ]
  },
  {
   "cell_type": "code",
   "execution_count": 31,
   "metadata": {},
   "outputs": [
    {
     "data": {
      "text/plain": [
       "state\n",
       "DE    9020.500000\n",
       "WY    8988.000000\n",
       "ID    7426.250000\n",
       "UT    6884.400000\n",
       "FL    6108.620690\n",
       "NJ    5847.636364\n",
       "MS    5707.666667\n",
       "MT    5551.000000\n",
       "GA    5511.687500\n",
       "NM    5273.200000\n",
       "Name: pop, dtype: float64"
      ]
     },
     "execution_count": 31,
     "metadata": {},
     "output_type": "execute_result"
    }
   ],
   "source": [
    "statePop=df2.groupby('state')['pop'].mean()\n",
    "statePop.sort_values(ascending=False).nlargest(10)"
   ]
  },
  {
   "cell_type": "markdown",
   "metadata": {},
   "source": [
    "## Compare number of killings to population"
   ]
  },
  {
   "cell_type": "markdown",
   "metadata": {},
   "source": [
    "Killings/Pop - indicates that a larger ratio has more killings relative to population"
   ]
  },
  {
   "cell_type": "code",
   "execution_count": 32,
   "metadata": {},
   "outputs": [
    {
     "data": {
      "text/plain": [
       "state\n",
       "CA    0.014681\n",
       "TX    0.008748\n",
       "AZ    0.005596\n",
       "OK    0.005591\n",
       "FL    0.004747\n",
       "LA    0.004168\n",
       "IL    0.003255\n",
       "OH    0.002970\n",
       "CO    0.002925\n",
       "MD    0.002914\n",
       "dtype: float64"
      ]
     },
     "execution_count": 32,
     "metadata": {},
     "output_type": "execute_result"
    }
   ],
   "source": [
    "(countStateKillings/statePop).sort_values(ascending=False).nlargest(10)"
   ]
  },
  {
   "cell_type": "markdown",
   "metadata": {},
   "source": [
    "<b>This comparison is in question because of the validity of tract population as a means of analyzing number of killings in respect to population</b>"
   ]
  },
  {
   "cell_type": "markdown",
   "metadata": {},
   "source": [
    "# Hate Crime Analysis"
   ]
  },
  {
   "cell_type": "code",
   "execution_count": 33,
   "metadata": {},
   "outputs": [
    {
     "data": {
      "text/html": [
       "<div>\n",
       "<style scoped>\n",
       "    .dataframe tbody tr th:only-of-type {\n",
       "        vertical-align: middle;\n",
       "    }\n",
       "\n",
       "    .dataframe tbody tr th {\n",
       "        vertical-align: top;\n",
       "    }\n",
       "\n",
       "    .dataframe thead th {\n",
       "        text-align: right;\n",
       "    }\n",
       "</style>\n",
       "<table border=\"1\" class=\"dataframe\">\n",
       "  <thead>\n",
       "    <tr style=\"text-align: right;\">\n",
       "      <th></th>\n",
       "      <th>state</th>\n",
       "      <th>median_household_income</th>\n",
       "      <th>share_unemployed_seasonal</th>\n",
       "      <th>share_population_in_metro_areas</th>\n",
       "      <th>share_population_with_high_school_degree</th>\n",
       "      <th>share_non_citizen</th>\n",
       "      <th>share_white_poverty</th>\n",
       "      <th>share_non_white</th>\n",
       "      <th>share_voters_voted_trump</th>\n",
       "      <th>hate_crimes_per_100k_splc</th>\n",
       "      <th>avg_hatecrimes_per_100k_fbi</th>\n",
       "    </tr>\n",
       "  </thead>\n",
       "  <tbody>\n",
       "    <tr>\n",
       "      <th>0</th>\n",
       "      <td>AL</td>\n",
       "      <td>42278</td>\n",
       "      <td>0.060</td>\n",
       "      <td>0.64</td>\n",
       "      <td>0.821</td>\n",
       "      <td>0.02</td>\n",
       "      <td>0.12</td>\n",
       "      <td>0.35</td>\n",
       "      <td>0.63</td>\n",
       "      <td>0.125839</td>\n",
       "      <td>1.806410</td>\n",
       "    </tr>\n",
       "    <tr>\n",
       "      <th>1</th>\n",
       "      <td>AK</td>\n",
       "      <td>67629</td>\n",
       "      <td>0.064</td>\n",
       "      <td>0.63</td>\n",
       "      <td>0.914</td>\n",
       "      <td>0.04</td>\n",
       "      <td>0.06</td>\n",
       "      <td>0.42</td>\n",
       "      <td>0.53</td>\n",
       "      <td>0.143740</td>\n",
       "      <td>1.656700</td>\n",
       "    </tr>\n",
       "    <tr>\n",
       "      <th>2</th>\n",
       "      <td>AZ</td>\n",
       "      <td>49254</td>\n",
       "      <td>0.063</td>\n",
       "      <td>0.90</td>\n",
       "      <td>0.842</td>\n",
       "      <td>0.10</td>\n",
       "      <td>0.09</td>\n",
       "      <td>0.49</td>\n",
       "      <td>0.50</td>\n",
       "      <td>0.225320</td>\n",
       "      <td>3.413928</td>\n",
       "    </tr>\n",
       "    <tr>\n",
       "      <th>3</th>\n",
       "      <td>AR</td>\n",
       "      <td>44922</td>\n",
       "      <td>0.052</td>\n",
       "      <td>0.69</td>\n",
       "      <td>0.824</td>\n",
       "      <td>0.04</td>\n",
       "      <td>0.12</td>\n",
       "      <td>0.26</td>\n",
       "      <td>0.60</td>\n",
       "      <td>0.069061</td>\n",
       "      <td>0.869209</td>\n",
       "    </tr>\n",
       "    <tr>\n",
       "      <th>4</th>\n",
       "      <td>CA</td>\n",
       "      <td>60487</td>\n",
       "      <td>0.059</td>\n",
       "      <td>0.97</td>\n",
       "      <td>0.806</td>\n",
       "      <td>0.13</td>\n",
       "      <td>0.09</td>\n",
       "      <td>0.61</td>\n",
       "      <td>0.33</td>\n",
       "      <td>0.255805</td>\n",
       "      <td>2.397986</td>\n",
       "    </tr>\n",
       "  </tbody>\n",
       "</table>\n",
       "</div>"
      ],
      "text/plain": [
       "  state  median_household_income  share_unemployed_seasonal  \\\n",
       "0    AL                    42278                      0.060   \n",
       "1    AK                    67629                      0.064   \n",
       "2    AZ                    49254                      0.063   \n",
       "3    AR                    44922                      0.052   \n",
       "4    CA                    60487                      0.059   \n",
       "\n",
       "   share_population_in_metro_areas  share_population_with_high_school_degree  \\\n",
       "0                             0.64                                     0.821   \n",
       "1                             0.63                                     0.914   \n",
       "2                             0.90                                     0.842   \n",
       "3                             0.69                                     0.824   \n",
       "4                             0.97                                     0.806   \n",
       "\n",
       "   share_non_citizen  share_white_poverty  share_non_white  \\\n",
       "0               0.02                 0.12             0.35   \n",
       "1               0.04                 0.06             0.42   \n",
       "2               0.10                 0.09             0.49   \n",
       "3               0.04                 0.12             0.26   \n",
       "4               0.13                 0.09             0.61   \n",
       "\n",
       "   share_voters_voted_trump  hate_crimes_per_100k_splc  \\\n",
       "0                      0.63                   0.125839   \n",
       "1                      0.53                   0.143740   \n",
       "2                      0.50                   0.225320   \n",
       "3                      0.60                   0.069061   \n",
       "4                      0.33                   0.255805   \n",
       "\n",
       "   avg_hatecrimes_per_100k_fbi  \n",
       "0                     1.806410  \n",
       "1                     1.656700  \n",
       "2                     3.413928  \n",
       "3                     0.869209  \n",
       "4                     2.397986  "
      ]
     },
     "execution_count": 33,
     "metadata": {},
     "output_type": "execute_result"
    }
   ],
   "source": [
    "df.head(5)"
   ]
  },
  {
   "cell_type": "markdown",
   "metadata": {},
   "source": [
    "<b>Store the average hate crime rate across all states as a good indicator of white states have an above average rate of hate crimes"
   ]
  },
  {
   "cell_type": "code",
   "execution_count": 34,
   "metadata": {},
   "outputs": [
    {
     "data": {
      "text/plain": [
       "2.36761300684"
      ]
     },
     "execution_count": 34,
     "metadata": {},
     "output_type": "execute_result"
    }
   ],
   "source": [
    "averageHateCrime = df['avg_hatecrimes_per_100k_fbi'].mean()\n",
    "averageHateCrime"
   ]
  },
  {
   "cell_type": "markdown",
   "metadata": {},
   "source": [
    "### Display states where the hate crime rate is above average"
   ]
  },
  {
   "cell_type": "code",
   "execution_count": 35,
   "metadata": {},
   "outputs": [],
   "source": [
    "hateCrimeStates = df[df.avg_hatecrimes_per_100k_fbi > averageHateCrime]\\\n",
    ".sort_values(by='avg_hatecrimes_per_100k_fbi', ascending=False)"
   ]
  },
  {
   "cell_type": "code",
   "execution_count": 36,
   "metadata": {},
   "outputs": [
    {
     "data": {
      "text/html": [
       "<div>\n",
       "<style scoped>\n",
       "    .dataframe tbody tr th:only-of-type {\n",
       "        vertical-align: middle;\n",
       "    }\n",
       "\n",
       "    .dataframe tbody tr th {\n",
       "        vertical-align: top;\n",
       "    }\n",
       "\n",
       "    .dataframe thead th {\n",
       "        text-align: right;\n",
       "    }\n",
       "</style>\n",
       "<table border=\"1\" class=\"dataframe\">\n",
       "  <thead>\n",
       "    <tr style=\"text-align: right;\">\n",
       "      <th></th>\n",
       "      <th>state</th>\n",
       "      <th>share_population_with_high_school_degree</th>\n",
       "      <th>share_non_white</th>\n",
       "      <th>share_voters_voted_trump</th>\n",
       "      <th>avg_hatecrimes_per_100k_fbi</th>\n",
       "    </tr>\n",
       "  </thead>\n",
       "  <tbody>\n",
       "    <tr>\n",
       "      <th>8</th>\n",
       "      <td>DC</td>\n",
       "      <td>0.871</td>\n",
       "      <td>0.63</td>\n",
       "      <td>0.04</td>\n",
       "      <td>10.953480</td>\n",
       "    </tr>\n",
       "    <tr>\n",
       "      <th>21</th>\n",
       "      <td>MA</td>\n",
       "      <td>0.890</td>\n",
       "      <td>0.27</td>\n",
       "      <td>0.34</td>\n",
       "      <td>4.801899</td>\n",
       "    </tr>\n",
       "    <tr>\n",
       "      <th>34</th>\n",
       "      <td>ND</td>\n",
       "      <td>0.901</td>\n",
       "      <td>0.15</td>\n",
       "      <td>0.64</td>\n",
       "      <td>4.741070</td>\n",
       "    </tr>\n",
       "    <tr>\n",
       "      <th>30</th>\n",
       "      <td>NJ</td>\n",
       "      <td>0.874</td>\n",
       "      <td>0.44</td>\n",
       "      <td>0.42</td>\n",
       "      <td>4.413203</td>\n",
       "    </tr>\n",
       "    <tr>\n",
       "      <th>17</th>\n",
       "      <td>KY</td>\n",
       "      <td>0.817</td>\n",
       "      <td>0.15</td>\n",
       "      <td>0.63</td>\n",
       "      <td>4.207890</td>\n",
       "    </tr>\n",
       "    <tr>\n",
       "      <th>47</th>\n",
       "      <td>WA</td>\n",
       "      <td>0.897</td>\n",
       "      <td>0.31</td>\n",
       "      <td>0.38</td>\n",
       "      <td>3.817740</td>\n",
       "    </tr>\n",
       "    <tr>\n",
       "      <th>6</th>\n",
       "      <td>CT</td>\n",
       "      <td>0.886</td>\n",
       "      <td>0.30</td>\n",
       "      <td>0.41</td>\n",
       "      <td>3.772701</td>\n",
       "    </tr>\n",
       "    <tr>\n",
       "      <th>23</th>\n",
       "      <td>MN</td>\n",
       "      <td>0.915</td>\n",
       "      <td>0.18</td>\n",
       "      <td>0.45</td>\n",
       "      <td>3.612412</td>\n",
       "    </tr>\n",
       "    <tr>\n",
       "      <th>2</th>\n",
       "      <td>AZ</td>\n",
       "      <td>0.842</td>\n",
       "      <td>0.49</td>\n",
       "      <td>0.50</td>\n",
       "      <td>3.413928</td>\n",
       "    </tr>\n",
       "    <tr>\n",
       "      <th>37</th>\n",
       "      <td>OR</td>\n",
       "      <td>0.891</td>\n",
       "      <td>0.26</td>\n",
       "      <td>0.41</td>\n",
       "      <td>3.394886</td>\n",
       "    </tr>\n",
       "    <tr>\n",
       "      <th>41</th>\n",
       "      <td>SD</td>\n",
       "      <td>0.899</td>\n",
       "      <td>0.17</td>\n",
       "      <td>0.62</td>\n",
       "      <td>3.301737</td>\n",
       "    </tr>\n",
       "    <tr>\n",
       "      <th>35</th>\n",
       "      <td>OH</td>\n",
       "      <td>0.876</td>\n",
       "      <td>0.21</td>\n",
       "      <td>0.52</td>\n",
       "      <td>3.240420</td>\n",
       "    </tr>\n",
       "    <tr>\n",
       "      <th>22</th>\n",
       "      <td>MI</td>\n",
       "      <td>0.879</td>\n",
       "      <td>0.24</td>\n",
       "      <td>0.48</td>\n",
       "      <td>3.200442</td>\n",
       "    </tr>\n",
       "    <tr>\n",
       "      <th>42</th>\n",
       "      <td>TN</td>\n",
       "      <td>0.831</td>\n",
       "      <td>0.27</td>\n",
       "      <td>0.61</td>\n",
       "      <td>3.136051</td>\n",
       "    </tr>\n",
       "    <tr>\n",
       "      <th>32</th>\n",
       "      <td>NY</td>\n",
       "      <td>0.847</td>\n",
       "      <td>0.42</td>\n",
       "      <td>0.37</td>\n",
       "      <td>3.102164</td>\n",
       "    </tr>\n",
       "    <tr>\n",
       "      <th>26</th>\n",
       "      <td>MT</td>\n",
       "      <td>0.908</td>\n",
       "      <td>0.10</td>\n",
       "      <td>0.57</td>\n",
       "      <td>2.954959</td>\n",
       "    </tr>\n",
       "    <tr>\n",
       "      <th>5</th>\n",
       "      <td>CO</td>\n",
       "      <td>0.893</td>\n",
       "      <td>0.31</td>\n",
       "      <td>0.44</td>\n",
       "      <td>2.804689</td>\n",
       "    </tr>\n",
       "    <tr>\n",
       "      <th>27</th>\n",
       "      <td>NE</td>\n",
       "      <td>0.898</td>\n",
       "      <td>0.21</td>\n",
       "      <td>0.60</td>\n",
       "      <td>2.686248</td>\n",
       "    </tr>\n",
       "    <tr>\n",
       "      <th>19</th>\n",
       "      <td>ME</td>\n",
       "      <td>0.902</td>\n",
       "      <td>0.09</td>\n",
       "      <td>0.45</td>\n",
       "      <td>2.626611</td>\n",
       "    </tr>\n",
       "    <tr>\n",
       "      <th>4</th>\n",
       "      <td>CA</td>\n",
       "      <td>0.806</td>\n",
       "      <td>0.61</td>\n",
       "      <td>0.33</td>\n",
       "      <td>2.397986</td>\n",
       "    </tr>\n",
       "    <tr>\n",
       "      <th>44</th>\n",
       "      <td>UT</td>\n",
       "      <td>0.904</td>\n",
       "      <td>0.19</td>\n",
       "      <td>0.47</td>\n",
       "      <td>2.384065</td>\n",
       "    </tr>\n",
       "  </tbody>\n",
       "</table>\n",
       "</div>"
      ],
      "text/plain": [
       "   state  share_population_with_high_school_degree  share_non_white  \\\n",
       "8     DC                                     0.871             0.63   \n",
       "21    MA                                     0.890             0.27   \n",
       "34    ND                                     0.901             0.15   \n",
       "30    NJ                                     0.874             0.44   \n",
       "17    KY                                     0.817             0.15   \n",
       "47    WA                                     0.897             0.31   \n",
       "6     CT                                     0.886             0.30   \n",
       "23    MN                                     0.915             0.18   \n",
       "2     AZ                                     0.842             0.49   \n",
       "37    OR                                     0.891             0.26   \n",
       "41    SD                                     0.899             0.17   \n",
       "35    OH                                     0.876             0.21   \n",
       "22    MI                                     0.879             0.24   \n",
       "42    TN                                     0.831             0.27   \n",
       "32    NY                                     0.847             0.42   \n",
       "26    MT                                     0.908             0.10   \n",
       "5     CO                                     0.893             0.31   \n",
       "27    NE                                     0.898             0.21   \n",
       "19    ME                                     0.902             0.09   \n",
       "4     CA                                     0.806             0.61   \n",
       "44    UT                                     0.904             0.19   \n",
       "\n",
       "    share_voters_voted_trump  avg_hatecrimes_per_100k_fbi  \n",
       "8                       0.04                    10.953480  \n",
       "21                      0.34                     4.801899  \n",
       "34                      0.64                     4.741070  \n",
       "30                      0.42                     4.413203  \n",
       "17                      0.63                     4.207890  \n",
       "47                      0.38                     3.817740  \n",
       "6                       0.41                     3.772701  \n",
       "23                      0.45                     3.612412  \n",
       "2                       0.50                     3.413928  \n",
       "37                      0.41                     3.394886  \n",
       "41                      0.62                     3.301737  \n",
       "35                      0.52                     3.240420  \n",
       "22                      0.48                     3.200442  \n",
       "42                      0.61                     3.136051  \n",
       "32                      0.37                     3.102164  \n",
       "26                      0.57                     2.954959  \n",
       "5                       0.44                     2.804689  \n",
       "27                      0.60                     2.686248  \n",
       "19                      0.45                     2.626611  \n",
       "4                       0.33                     2.397986  \n",
       "44                      0.47                     2.384065  "
      ]
     },
     "execution_count": 36,
     "metadata": {},
     "output_type": "execute_result"
    }
   ],
   "source": [
    "hateCrimeStates[['state','share_population_with_high_school_degree',\\\n",
    "'share_non_white','share_voters_voted_trump','avg_hatecrimes_per_100k_fbi']]"
   ]
  },
  {
   "cell_type": "code",
   "execution_count": 37,
   "metadata": {},
   "outputs": [
    {
     "data": {
      "text/plain": [
       "21"
      ]
     },
     "execution_count": 37,
     "metadata": {},
     "output_type": "execute_result"
    }
   ],
   "source": [
    "len(hateCrimeStates)"
   ]
  },
  {
   "cell_type": "markdown",
   "metadata": {},
   "source": [
    "### Do Republican/Trump majority vote states have a larger hate crime rate?"
   ]
  },
  {
   "cell_type": "code",
   "execution_count": 38,
   "metadata": {},
   "outputs": [],
   "source": [
    "hateCrimeTrumpStates = hateCrimeStates[['state','avg_hatecrimes_per_100k_fbi',\\\n",
    "'share_voters_voted_trump']][hateCrimeStates.share_voters_voted_trump > 0.5]"
   ]
  },
  {
   "cell_type": "code",
   "execution_count": 39,
   "metadata": {},
   "outputs": [
    {
     "data": {
      "text/plain": [
       "7"
      ]
     },
     "execution_count": 39,
     "metadata": {},
     "output_type": "execute_result"
    }
   ],
   "source": [
    "len(hateCrimeTrumpStates)"
   ]
  },
  {
   "cell_type": "markdown",
   "metadata": {},
   "source": [
    "### Only 1/3 of the 21 states with above average hate crime rates had Trump majority votes"
   ]
  },
  {
   "cell_type": "code",
   "execution_count": 40,
   "metadata": {},
   "outputs": [
    {
     "data": {
      "text/plain": [
       "0.3333333333333333"
      ]
     },
     "execution_count": 40,
     "metadata": {},
     "output_type": "execute_result"
    }
   ],
   "source": [
    "len(hateCrimeTrumpStates)/len(hateCrimeStates)"
   ]
  },
  {
   "cell_type": "markdown",
   "metadata": {},
   "source": [
    "<b> Look at the 10 worst \"hate crime\" states"
   ]
  },
  {
   "cell_type": "code",
   "execution_count": 41,
   "metadata": {},
   "outputs": [
    {
     "data": {
      "text/html": [
       "<div>\n",
       "<style scoped>\n",
       "    .dataframe tbody tr th:only-of-type {\n",
       "        vertical-align: middle;\n",
       "    }\n",
       "\n",
       "    .dataframe tbody tr th {\n",
       "        vertical-align: top;\n",
       "    }\n",
       "\n",
       "    .dataframe thead th {\n",
       "        text-align: right;\n",
       "    }\n",
       "</style>\n",
       "<table border=\"1\" class=\"dataframe\">\n",
       "  <thead>\n",
       "    <tr style=\"text-align: right;\">\n",
       "      <th></th>\n",
       "      <th>state</th>\n",
       "      <th>avg_hatecrimes_per_100k_fbi</th>\n",
       "      <th>share_voters_voted_trump</th>\n",
       "    </tr>\n",
       "  </thead>\n",
       "  <tbody>\n",
       "    <tr>\n",
       "      <th>8</th>\n",
       "      <td>DC</td>\n",
       "      <td>10.953480</td>\n",
       "      <td>0.04</td>\n",
       "    </tr>\n",
       "    <tr>\n",
       "      <th>21</th>\n",
       "      <td>MA</td>\n",
       "      <td>4.801899</td>\n",
       "      <td>0.34</td>\n",
       "    </tr>\n",
       "    <tr>\n",
       "      <th>34</th>\n",
       "      <td>ND</td>\n",
       "      <td>4.741070</td>\n",
       "      <td>0.64</td>\n",
       "    </tr>\n",
       "    <tr>\n",
       "      <th>30</th>\n",
       "      <td>NJ</td>\n",
       "      <td>4.413203</td>\n",
       "      <td>0.42</td>\n",
       "    </tr>\n",
       "    <tr>\n",
       "      <th>17</th>\n",
       "      <td>KY</td>\n",
       "      <td>4.207890</td>\n",
       "      <td>0.63</td>\n",
       "    </tr>\n",
       "    <tr>\n",
       "      <th>47</th>\n",
       "      <td>WA</td>\n",
       "      <td>3.817740</td>\n",
       "      <td>0.38</td>\n",
       "    </tr>\n",
       "    <tr>\n",
       "      <th>6</th>\n",
       "      <td>CT</td>\n",
       "      <td>3.772701</td>\n",
       "      <td>0.41</td>\n",
       "    </tr>\n",
       "    <tr>\n",
       "      <th>23</th>\n",
       "      <td>MN</td>\n",
       "      <td>3.612412</td>\n",
       "      <td>0.45</td>\n",
       "    </tr>\n",
       "    <tr>\n",
       "      <th>2</th>\n",
       "      <td>AZ</td>\n",
       "      <td>3.413928</td>\n",
       "      <td>0.50</td>\n",
       "    </tr>\n",
       "    <tr>\n",
       "      <th>37</th>\n",
       "      <td>OR</td>\n",
       "      <td>3.394886</td>\n",
       "      <td>0.41</td>\n",
       "    </tr>\n",
       "  </tbody>\n",
       "</table>\n",
       "</div>"
      ],
      "text/plain": [
       "   state  avg_hatecrimes_per_100k_fbi  share_voters_voted_trump\n",
       "8     DC                    10.953480                      0.04\n",
       "21    MA                     4.801899                      0.34\n",
       "34    ND                     4.741070                      0.64\n",
       "30    NJ                     4.413203                      0.42\n",
       "17    KY                     4.207890                      0.63\n",
       "47    WA                     3.817740                      0.38\n",
       "6     CT                     3.772701                      0.41\n",
       "23    MN                     3.612412                      0.45\n",
       "2     AZ                     3.413928                      0.50\n",
       "37    OR                     3.394886                      0.41"
      ]
     },
     "execution_count": 41,
     "metadata": {},
     "output_type": "execute_result"
    }
   ],
   "source": [
    "top10=hateCrimeStates[['state','avg_hatecrimes_per_100k_fbi',\\\n",
    "'share_voters_voted_trump']].sort_values(by='avg_hatecrimes_per_100k_fbi', ascending=False).head(10)\n",
    "top10"
   ]
  },
  {
   "cell_type": "code",
   "execution_count": 42,
   "metadata": {},
   "outputs": [
    {
     "data": {
      "text/html": [
       "<div>\n",
       "<style scoped>\n",
       "    .dataframe tbody tr th:only-of-type {\n",
       "        vertical-align: middle;\n",
       "    }\n",
       "\n",
       "    .dataframe tbody tr th {\n",
       "        vertical-align: top;\n",
       "    }\n",
       "\n",
       "    .dataframe thead th {\n",
       "        text-align: right;\n",
       "    }\n",
       "</style>\n",
       "<table border=\"1\" class=\"dataframe\">\n",
       "  <thead>\n",
       "    <tr style=\"text-align: right;\">\n",
       "      <th></th>\n",
       "      <th>state</th>\n",
       "      <th>avg_hatecrimes_per_100k_fbi</th>\n",
       "      <th>share_voters_voted_trump</th>\n",
       "    </tr>\n",
       "  </thead>\n",
       "  <tbody>\n",
       "    <tr>\n",
       "      <th>34</th>\n",
       "      <td>ND</td>\n",
       "      <td>4.74107</td>\n",
       "      <td>0.64</td>\n",
       "    </tr>\n",
       "    <tr>\n",
       "      <th>17</th>\n",
       "      <td>KY</td>\n",
       "      <td>4.20789</td>\n",
       "      <td>0.63</td>\n",
       "    </tr>\n",
       "  </tbody>\n",
       "</table>\n",
       "</div>"
      ],
      "text/plain": [
       "   state  avg_hatecrimes_per_100k_fbi  share_voters_voted_trump\n",
       "34    ND                      4.74107                      0.64\n",
       "17    KY                      4.20789                      0.63"
      ]
     },
     "execution_count": 42,
     "metadata": {},
     "output_type": "execute_result"
    }
   ],
   "source": [
    "top10[top10.share_voters_voted_trump>0.5]"
   ]
  },
  {
   "cell_type": "code",
   "execution_count": 43,
   "metadata": {},
   "outputs": [
    {
     "data": {
      "text/plain": [
       "0.2"
      ]
     },
     "execution_count": 43,
     "metadata": {},
     "output_type": "execute_result"
    }
   ],
   "source": [
    "len(top10[top10.share_voters_voted_trump>0.5])/len(top10)"
   ]
  },
  {
   "cell_type": "code",
   "execution_count": 44,
   "metadata": {},
   "outputs": [],
   "source": [
    "top10['Trump']=(top10.share_voters_voted_trump>0.5)"
   ]
  },
  {
   "cell_type": "code",
   "execution_count": 45,
   "metadata": {},
   "outputs": [
    {
     "data": {
      "text/html": [
       "<div>\n",
       "<style scoped>\n",
       "    .dataframe tbody tr th:only-of-type {\n",
       "        vertical-align: middle;\n",
       "    }\n",
       "\n",
       "    .dataframe tbody tr th {\n",
       "        vertical-align: top;\n",
       "    }\n",
       "\n",
       "    .dataframe thead th {\n",
       "        text-align: right;\n",
       "    }\n",
       "</style>\n",
       "<table border=\"1\" class=\"dataframe\">\n",
       "  <thead>\n",
       "    <tr style=\"text-align: right;\">\n",
       "      <th></th>\n",
       "      <th>state</th>\n",
       "      <th>avg_hatecrimes_per_100k_fbi</th>\n",
       "      <th>share_voters_voted_trump</th>\n",
       "      <th>Trump</th>\n",
       "    </tr>\n",
       "  </thead>\n",
       "  <tbody>\n",
       "    <tr>\n",
       "      <th>8</th>\n",
       "      <td>DC</td>\n",
       "      <td>10.953480</td>\n",
       "      <td>0.04</td>\n",
       "      <td>False</td>\n",
       "    </tr>\n",
       "    <tr>\n",
       "      <th>21</th>\n",
       "      <td>MA</td>\n",
       "      <td>4.801899</td>\n",
       "      <td>0.34</td>\n",
       "      <td>False</td>\n",
       "    </tr>\n",
       "    <tr>\n",
       "      <th>34</th>\n",
       "      <td>ND</td>\n",
       "      <td>4.741070</td>\n",
       "      <td>0.64</td>\n",
       "      <td>True</td>\n",
       "    </tr>\n",
       "    <tr>\n",
       "      <th>30</th>\n",
       "      <td>NJ</td>\n",
       "      <td>4.413203</td>\n",
       "      <td>0.42</td>\n",
       "      <td>False</td>\n",
       "    </tr>\n",
       "    <tr>\n",
       "      <th>17</th>\n",
       "      <td>KY</td>\n",
       "      <td>4.207890</td>\n",
       "      <td>0.63</td>\n",
       "      <td>True</td>\n",
       "    </tr>\n",
       "  </tbody>\n",
       "</table>\n",
       "</div>"
      ],
      "text/plain": [
       "   state  avg_hatecrimes_per_100k_fbi  share_voters_voted_trump  Trump\n",
       "8     DC                    10.953480                      0.04  False\n",
       "21    MA                     4.801899                      0.34  False\n",
       "34    ND                     4.741070                      0.64   True\n",
       "30    NJ                     4.413203                      0.42  False\n",
       "17    KY                     4.207890                      0.63   True"
      ]
     },
     "execution_count": 45,
     "metadata": {},
     "output_type": "execute_result"
    }
   ],
   "source": [
    "top10.head()"
   ]
  },
  {
   "cell_type": "code",
   "execution_count": 46,
   "metadata": {},
   "outputs": [
    {
     "data": {
      "text/plain": [
       "<seaborn.axisgrid.FacetGrid at 0x1a1ff5ad90>"
      ]
     },
     "execution_count": 46,
     "metadata": {},
     "output_type": "execute_result"
    },
    {
     "data": {
      "image/png": "[encoded data removed]",
      "text/plain": [
       "<Figure size 782.125x360 with 1 Axes>"
      ]
     },
     "metadata": {
      "needs_background": "light"
     },
     "output_type": "display_data"
    }
   ],
   "source": [
    "sns.catplot(y='avg_hatecrimes_per_100k_fbi', data=top10, x='state', aspect=2, kind='bar',hue='Trump')"
   ]
  },
  {
   "cell_type": "markdown",
   "metadata": {},
   "source": [
    "### 2 out of the 10 states with largest number of hate crimes were Trump states\n",
    "### There were fewer hate crimes in 'Trump' states years 2010-2015 compared to 'Non-Trump' states"
   ]
  },
  {
   "cell_type": "code",
   "execution_count": null,
   "metadata": {},
   "outputs": [],
   "source": []
  },
  {
   "cell_type": "markdown",
   "metadata": {},
   "source": [
    "### Analyze 2016 data to see if there was a change from 2010-2015 "
   ]
  },
  {
   "cell_type": "code",
   "execution_count": 47,
   "metadata": {
    "scrolled": true
   },
   "outputs": [
    {
     "data": {
      "text/html": [
       "<div>\n",
       "<style scoped>\n",
       "    .dataframe tbody tr th:only-of-type {\n",
       "        vertical-align: middle;\n",
       "    }\n",
       "\n",
       "    .dataframe tbody tr th {\n",
       "        vertical-align: top;\n",
       "    }\n",
       "\n",
       "    .dataframe thead th {\n",
       "        text-align: right;\n",
       "    }\n",
       "</style>\n",
       "<table border=\"1\" class=\"dataframe\">\n",
       "  <thead>\n",
       "    <tr style=\"text-align: right;\">\n",
       "      <th></th>\n",
       "      <th>state</th>\n",
       "      <th>median_household_income</th>\n",
       "      <th>share_unemployed_seasonal</th>\n",
       "      <th>share_population_in_metro_areas</th>\n",
       "      <th>share_population_with_high_school_degree</th>\n",
       "      <th>share_non_citizen</th>\n",
       "      <th>share_white_poverty</th>\n",
       "      <th>share_non_white</th>\n",
       "      <th>share_voters_voted_trump</th>\n",
       "      <th>hate_crimes_per_100k_splc</th>\n",
       "      <th>avg_hatecrimes_per_100k_fbi</th>\n",
       "    </tr>\n",
       "  </thead>\n",
       "  <tbody>\n",
       "    <tr>\n",
       "      <th>0</th>\n",
       "      <td>AL</td>\n",
       "      <td>42278</td>\n",
       "      <td>0.060</td>\n",
       "      <td>0.64</td>\n",
       "      <td>0.821</td>\n",
       "      <td>0.02</td>\n",
       "      <td>0.12</td>\n",
       "      <td>0.35</td>\n",
       "      <td>0.63</td>\n",
       "      <td>0.125839</td>\n",
       "      <td>1.806410</td>\n",
       "    </tr>\n",
       "    <tr>\n",
       "      <th>1</th>\n",
       "      <td>AK</td>\n",
       "      <td>67629</td>\n",
       "      <td>0.064</td>\n",
       "      <td>0.63</td>\n",
       "      <td>0.914</td>\n",
       "      <td>0.04</td>\n",
       "      <td>0.06</td>\n",
       "      <td>0.42</td>\n",
       "      <td>0.53</td>\n",
       "      <td>0.143740</td>\n",
       "      <td>1.656700</td>\n",
       "    </tr>\n",
       "    <tr>\n",
       "      <th>2</th>\n",
       "      <td>AZ</td>\n",
       "      <td>49254</td>\n",
       "      <td>0.063</td>\n",
       "      <td>0.90</td>\n",
       "      <td>0.842</td>\n",
       "      <td>0.10</td>\n",
       "      <td>0.09</td>\n",
       "      <td>0.49</td>\n",
       "      <td>0.50</td>\n",
       "      <td>0.225320</td>\n",
       "      <td>3.413928</td>\n",
       "    </tr>\n",
       "    <tr>\n",
       "      <th>3</th>\n",
       "      <td>AR</td>\n",
       "      <td>44922</td>\n",
       "      <td>0.052</td>\n",
       "      <td>0.69</td>\n",
       "      <td>0.824</td>\n",
       "      <td>0.04</td>\n",
       "      <td>0.12</td>\n",
       "      <td>0.26</td>\n",
       "      <td>0.60</td>\n",
       "      <td>0.069061</td>\n",
       "      <td>0.869209</td>\n",
       "    </tr>\n",
       "    <tr>\n",
       "      <th>4</th>\n",
       "      <td>CA</td>\n",
       "      <td>60487</td>\n",
       "      <td>0.059</td>\n",
       "      <td>0.97</td>\n",
       "      <td>0.806</td>\n",
       "      <td>0.13</td>\n",
       "      <td>0.09</td>\n",
       "      <td>0.61</td>\n",
       "      <td>0.33</td>\n",
       "      <td>0.255805</td>\n",
       "      <td>2.397986</td>\n",
       "    </tr>\n",
       "  </tbody>\n",
       "</table>\n",
       "</div>"
      ],
      "text/plain": [
       "  state  median_household_income  share_unemployed_seasonal  \\\n",
       "0    AL                    42278                      0.060   \n",
       "1    AK                    67629                      0.064   \n",
       "2    AZ                    49254                      0.063   \n",
       "3    AR                    44922                      0.052   \n",
       "4    CA                    60487                      0.059   \n",
       "\n",
       "   share_population_in_metro_areas  share_population_with_high_school_degree  \\\n",
       "0                             0.64                                     0.821   \n",
       "1                             0.63                                     0.914   \n",
       "2                             0.90                                     0.842   \n",
       "3                             0.69                                     0.824   \n",
       "4                             0.97                                     0.806   \n",
       "\n",
       "   share_non_citizen  share_white_poverty  share_non_white  \\\n",
       "0               0.02                 0.12             0.35   \n",
       "1               0.04                 0.06             0.42   \n",
       "2               0.10                 0.09             0.49   \n",
       "3               0.04                 0.12             0.26   \n",
       "4               0.13                 0.09             0.61   \n",
       "\n",
       "   share_voters_voted_trump  hate_crimes_per_100k_splc  \\\n",
       "0                      0.63                   0.125839   \n",
       "1                      0.53                   0.143740   \n",
       "2                      0.50                   0.225320   \n",
       "3                      0.60                   0.069061   \n",
       "4                      0.33                   0.255805   \n",
       "\n",
       "   avg_hatecrimes_per_100k_fbi  \n",
       "0                     1.806410  \n",
       "1                     1.656700  \n",
       "2                     3.413928  \n",
       "3                     0.869209  \n",
       "4                     2.397986  "
      ]
     },
     "execution_count": 47,
     "metadata": {},
     "output_type": "execute_result"
    }
   ],
   "source": [
    "df.head()"
   ]
  },
  {
   "cell_type": "code",
   "execution_count": 48,
   "metadata": {},
   "outputs": [
    {
     "data": {
      "text/plain": [
       "0.30409296995744683"
      ]
     },
     "execution_count": 48,
     "metadata": {},
     "output_type": "execute_result"
    }
   ],
   "source": [
    "averageHateCrime2016 = df['hate_crimes_per_100k_splc'].mean()\n",
    "averageHateCrime2016"
   ]
  },
  {
   "cell_type": "code",
   "execution_count": 49,
   "metadata": {},
   "outputs": [
    {
     "data": {
      "text/plain": [
       "2.36761300684"
      ]
     },
     "execution_count": 49,
     "metadata": {},
     "output_type": "execute_result"
    }
   ],
   "source": [
    "averageHateCrime"
   ]
  },
  {
   "cell_type": "markdown",
   "metadata": {},
   "source": [
    "There was a lower average hate crime rate across states in 2016 than years prior"
   ]
  },
  {
   "cell_type": "code",
   "execution_count": 50,
   "metadata": {},
   "outputs": [
    {
     "data": {
      "text/html": [
       "<div>\n",
       "<style scoped>\n",
       "    .dataframe tbody tr th:only-of-type {\n",
       "        vertical-align: middle;\n",
       "    }\n",
       "\n",
       "    .dataframe tbody tr th {\n",
       "        vertical-align: top;\n",
       "    }\n",
       "\n",
       "    .dataframe thead th {\n",
       "        text-align: right;\n",
       "    }\n",
       "</style>\n",
       "<table border=\"1\" class=\"dataframe\">\n",
       "  <thead>\n",
       "    <tr style=\"text-align: right;\">\n",
       "      <th></th>\n",
       "      <th>state</th>\n",
       "      <th>hate_crimes_per_100k_splc</th>\n",
       "      <th>share_voters_voted_trump</th>\n",
       "    </tr>\n",
       "  </thead>\n",
       "  <tbody>\n",
       "    <tr>\n",
       "      <th>8</th>\n",
       "      <td>DC</td>\n",
       "      <td>1.522302</td>\n",
       "      <td>0.04</td>\n",
       "    </tr>\n",
       "    <tr>\n",
       "      <th>37</th>\n",
       "      <td>OR</td>\n",
       "      <td>0.832850</td>\n",
       "      <td>0.41</td>\n",
       "    </tr>\n",
       "    <tr>\n",
       "      <th>47</th>\n",
       "      <td>WA</td>\n",
       "      <td>0.677488</td>\n",
       "      <td>0.38</td>\n",
       "    </tr>\n",
       "    <tr>\n",
       "      <th>21</th>\n",
       "      <td>MA</td>\n",
       "      <td>0.630811</td>\n",
       "      <td>0.34</td>\n",
       "    </tr>\n",
       "    <tr>\n",
       "      <th>23</th>\n",
       "      <td>MN</td>\n",
       "      <td>0.627480</td>\n",
       "      <td>0.45</td>\n",
       "    </tr>\n",
       "    <tr>\n",
       "      <th>19</th>\n",
       "      <td>ME</td>\n",
       "      <td>0.615574</td>\n",
       "      <td>0.45</td>\n",
       "    </tr>\n",
       "    <tr>\n",
       "      <th>26</th>\n",
       "      <td>MT</td>\n",
       "      <td>0.495491</td>\n",
       "      <td>0.57</td>\n",
       "    </tr>\n",
       "    <tr>\n",
       "      <th>15</th>\n",
       "      <td>IA</td>\n",
       "      <td>0.454427</td>\n",
       "      <td>0.52</td>\n",
       "    </tr>\n",
       "    <tr>\n",
       "      <th>22</th>\n",
       "      <td>MI</td>\n",
       "      <td>0.403779</td>\n",
       "      <td>0.48</td>\n",
       "    </tr>\n",
       "    <tr>\n",
       "      <th>5</th>\n",
       "      <td>CO</td>\n",
       "      <td>0.390523</td>\n",
       "      <td>0.44</td>\n",
       "    </tr>\n",
       "    <tr>\n",
       "      <th>20</th>\n",
       "      <td>MD</td>\n",
       "      <td>0.370439</td>\n",
       "      <td>0.35</td>\n",
       "    </tr>\n",
       "    <tr>\n",
       "      <th>46</th>\n",
       "      <td>VA</td>\n",
       "      <td>0.363249</td>\n",
       "      <td>0.45</td>\n",
       "    </tr>\n",
       "    <tr>\n",
       "      <th>32</th>\n",
       "      <td>NY</td>\n",
       "      <td>0.350620</td>\n",
       "      <td>0.37</td>\n",
       "    </tr>\n",
       "    <tr>\n",
       "      <th>6</th>\n",
       "      <td>CT</td>\n",
       "      <td>0.335392</td>\n",
       "      <td>0.41</td>\n",
       "    </tr>\n",
       "    <tr>\n",
       "      <th>48</th>\n",
       "      <td>WV</td>\n",
       "      <td>0.328677</td>\n",
       "      <td>0.69</td>\n",
       "    </tr>\n",
       "    <tr>\n",
       "      <th>17</th>\n",
       "      <td>KY</td>\n",
       "      <td>0.324397</td>\n",
       "      <td>0.63</td>\n",
       "    </tr>\n",
       "    <tr>\n",
       "      <th>45</th>\n",
       "      <td>VT</td>\n",
       "      <td>0.324149</td>\n",
       "      <td>0.33</td>\n",
       "    </tr>\n",
       "    <tr>\n",
       "      <th>7</th>\n",
       "      <td>DE</td>\n",
       "      <td>0.322754</td>\n",
       "      <td>0.42</td>\n",
       "    </tr>\n",
       "  </tbody>\n",
       "</table>\n",
       "</div>"
      ],
      "text/plain": [
       "   state  hate_crimes_per_100k_splc  share_voters_voted_trump\n",
       "8     DC                   1.522302                      0.04\n",
       "37    OR                   0.832850                      0.41\n",
       "47    WA                   0.677488                      0.38\n",
       "21    MA                   0.630811                      0.34\n",
       "23    MN                   0.627480                      0.45\n",
       "19    ME                   0.615574                      0.45\n",
       "26    MT                   0.495491                      0.57\n",
       "15    IA                   0.454427                      0.52\n",
       "22    MI                   0.403779                      0.48\n",
       "5     CO                   0.390523                      0.44\n",
       "20    MD                   0.370439                      0.35\n",
       "46    VA                   0.363249                      0.45\n",
       "32    NY                   0.350620                      0.37\n",
       "6     CT                   0.335392                      0.41\n",
       "48    WV                   0.328677                      0.69\n",
       "17    KY                   0.324397                      0.63\n",
       "45    VT                   0.324149                      0.33\n",
       "7     DE                   0.322754                      0.42"
      ]
     },
     "execution_count": 50,
     "metadata": {},
     "output_type": "execute_result"
    }
   ],
   "source": [
    "hateCrimeStates2016 = df[df.hate_crimes_per_100k_splc > averageHateCrime2016]\\\n",
    ".sort_values(by='hate_crimes_per_100k_splc', ascending=False)\n",
    "hateCrimeStates2016[['state','hate_crimes_per_100k_splc','share_voters_voted_trump']]"
   ]
  },
  {
   "cell_type": "code",
   "execution_count": 51,
   "metadata": {},
   "outputs": [
    {
     "data": {
      "text/plain": [
       "18"
      ]
     },
     "execution_count": 51,
     "metadata": {},
     "output_type": "execute_result"
    }
   ],
   "source": [
    "len(hateCrimeStates2016)"
   ]
  },
  {
   "cell_type": "code",
   "execution_count": 52,
   "metadata": {},
   "outputs": [
    {
     "data": {
      "text/html": [
       "<div>\n",
       "<style scoped>\n",
       "    .dataframe tbody tr th:only-of-type {\n",
       "        vertical-align: middle;\n",
       "    }\n",
       "\n",
       "    .dataframe tbody tr th {\n",
       "        vertical-align: top;\n",
       "    }\n",
       "\n",
       "    .dataframe thead th {\n",
       "        text-align: right;\n",
       "    }\n",
       "</style>\n",
       "<table border=\"1\" class=\"dataframe\">\n",
       "  <thead>\n",
       "    <tr style=\"text-align: right;\">\n",
       "      <th></th>\n",
       "      <th>state</th>\n",
       "      <th>hate_crimes_per_100k_splc</th>\n",
       "      <th>share_voters_voted_trump</th>\n",
       "    </tr>\n",
       "  </thead>\n",
       "  <tbody>\n",
       "    <tr>\n",
       "      <th>26</th>\n",
       "      <td>MT</td>\n",
       "      <td>0.495491</td>\n",
       "      <td>0.57</td>\n",
       "    </tr>\n",
       "    <tr>\n",
       "      <th>15</th>\n",
       "      <td>IA</td>\n",
       "      <td>0.454427</td>\n",
       "      <td>0.52</td>\n",
       "    </tr>\n",
       "    <tr>\n",
       "      <th>48</th>\n",
       "      <td>WV</td>\n",
       "      <td>0.328677</td>\n",
       "      <td>0.69</td>\n",
       "    </tr>\n",
       "    <tr>\n",
       "      <th>17</th>\n",
       "      <td>KY</td>\n",
       "      <td>0.324397</td>\n",
       "      <td>0.63</td>\n",
       "    </tr>\n",
       "  </tbody>\n",
       "</table>\n",
       "</div>"
      ],
      "text/plain": [
       "   state  hate_crimes_per_100k_splc  share_voters_voted_trump\n",
       "26    MT                   0.495491                      0.57\n",
       "15    IA                   0.454427                      0.52\n",
       "48    WV                   0.328677                      0.69\n",
       "17    KY                   0.324397                      0.63"
      ]
     },
     "execution_count": 52,
     "metadata": {},
     "output_type": "execute_result"
    }
   ],
   "source": [
    "hateCrimeTrumpStates2016 = hateCrimeStates2016[['state','hate_crimes_per_100k_splc',\\\n",
    "'share_voters_voted_trump']][hateCrimeStates2016.share_voters_voted_trump > 0.5]\n",
    "hateCrimeTrumpStates2016"
   ]
  },
  {
   "cell_type": "code",
   "execution_count": 53,
   "metadata": {},
   "outputs": [
    {
     "data": {
      "text/plain": [
       "0.3888888888888889"
      ]
     },
     "execution_count": 53,
     "metadata": {},
     "output_type": "execute_result"
    }
   ],
   "source": [
    "len(hateCrimeTrumpStates)/len(hateCrimeStates2016)"
   ]
  },
  {
   "cell_type": "markdown",
   "metadata": {},
   "source": [
    "### 39% of hate crime states in 2016 had a Trump majority, a slight increase from 2010-2015 averages but still lower than 50%, no correlation to hate crimes"
   ]
  },
  {
   "cell_type": "code",
   "execution_count": null,
   "metadata": {},
   "outputs": [],
   "source": []
  },
  {
   "cell_type": "markdown",
   "metadata": {},
   "source": [
    "## Do states with a lower median income have a greater hate crime rate?"
   ]
  },
  {
   "cell_type": "markdown",
   "metadata": {},
   "source": [
    "Find average median household income across all states as an indicator of the 'poorer' states"
   ]
  },
  {
   "cell_type": "code",
   "execution_count": 54,
   "metadata": {},
   "outputs": [
    {
     "data": {
      "text/plain": [
       "55223.60784313725"
      ]
     },
     "execution_count": 54,
     "metadata": {},
     "output_type": "execute_result"
    }
   ],
   "source": [
    "averageIncome=df.median_household_income.mean()\n",
    "averageIncome"
   ]
  },
  {
   "cell_type": "code",
   "execution_count": 55,
   "metadata": {},
   "outputs": [
    {
     "data": {
      "text/html": [
       "<div>\n",
       "<style scoped>\n",
       "    .dataframe tbody tr th:only-of-type {\n",
       "        vertical-align: middle;\n",
       "    }\n",
       "\n",
       "    .dataframe tbody tr th {\n",
       "        vertical-align: top;\n",
       "    }\n",
       "\n",
       "    .dataframe thead th {\n",
       "        text-align: right;\n",
       "    }\n",
       "</style>\n",
       "<table border=\"1\" class=\"dataframe\">\n",
       "  <thead>\n",
       "    <tr style=\"text-align: right;\">\n",
       "      <th></th>\n",
       "      <th>state</th>\n",
       "      <th>median_household_income</th>\n",
       "      <th>avg_hatecrimes_per_100k_fbi</th>\n",
       "    </tr>\n",
       "  </thead>\n",
       "  <tbody>\n",
       "    <tr>\n",
       "      <th>8</th>\n",
       "      <td>DC</td>\n",
       "      <td>68277</td>\n",
       "      <td>10.953480</td>\n",
       "    </tr>\n",
       "    <tr>\n",
       "      <th>21</th>\n",
       "      <td>MA</td>\n",
       "      <td>63151</td>\n",
       "      <td>4.801899</td>\n",
       "    </tr>\n",
       "    <tr>\n",
       "      <th>34</th>\n",
       "      <td>ND</td>\n",
       "      <td>60730</td>\n",
       "      <td>4.741070</td>\n",
       "    </tr>\n",
       "    <tr>\n",
       "      <th>30</th>\n",
       "      <td>NJ</td>\n",
       "      <td>65243</td>\n",
       "      <td>4.413203</td>\n",
       "    </tr>\n",
       "    <tr>\n",
       "      <th>17</th>\n",
       "      <td>KY</td>\n",
       "      <td>42786</td>\n",
       "      <td>4.207890</td>\n",
       "    </tr>\n",
       "    <tr>\n",
       "      <th>47</th>\n",
       "      <td>WA</td>\n",
       "      <td>59068</td>\n",
       "      <td>3.817740</td>\n",
       "    </tr>\n",
       "    <tr>\n",
       "      <th>6</th>\n",
       "      <td>CT</td>\n",
       "      <td>70161</td>\n",
       "      <td>3.772701</td>\n",
       "    </tr>\n",
       "    <tr>\n",
       "      <th>23</th>\n",
       "      <td>MN</td>\n",
       "      <td>67244</td>\n",
       "      <td>3.612412</td>\n",
       "    </tr>\n",
       "    <tr>\n",
       "      <th>2</th>\n",
       "      <td>AZ</td>\n",
       "      <td>49254</td>\n",
       "      <td>3.413928</td>\n",
       "    </tr>\n",
       "    <tr>\n",
       "      <th>37</th>\n",
       "      <td>OR</td>\n",
       "      <td>58875</td>\n",
       "      <td>3.394886</td>\n",
       "    </tr>\n",
       "    <tr>\n",
       "      <th>41</th>\n",
       "      <td>SD</td>\n",
       "      <td>53053</td>\n",
       "      <td>3.301737</td>\n",
       "    </tr>\n",
       "    <tr>\n",
       "      <th>35</th>\n",
       "      <td>OH</td>\n",
       "      <td>49644</td>\n",
       "      <td>3.240420</td>\n",
       "    </tr>\n",
       "    <tr>\n",
       "      <th>22</th>\n",
       "      <td>MI</td>\n",
       "      <td>52005</td>\n",
       "      <td>3.200442</td>\n",
       "    </tr>\n",
       "    <tr>\n",
       "      <th>42</th>\n",
       "      <td>TN</td>\n",
       "      <td>43716</td>\n",
       "      <td>3.136051</td>\n",
       "    </tr>\n",
       "    <tr>\n",
       "      <th>32</th>\n",
       "      <td>NY</td>\n",
       "      <td>54310</td>\n",
       "      <td>3.102164</td>\n",
       "    </tr>\n",
       "    <tr>\n",
       "      <th>26</th>\n",
       "      <td>MT</td>\n",
       "      <td>51102</td>\n",
       "      <td>2.954959</td>\n",
       "    </tr>\n",
       "    <tr>\n",
       "      <th>5</th>\n",
       "      <td>CO</td>\n",
       "      <td>60940</td>\n",
       "      <td>2.804689</td>\n",
       "    </tr>\n",
       "    <tr>\n",
       "      <th>27</th>\n",
       "      <td>NE</td>\n",
       "      <td>56870</td>\n",
       "      <td>2.686248</td>\n",
       "    </tr>\n",
       "    <tr>\n",
       "      <th>19</th>\n",
       "      <td>ME</td>\n",
       "      <td>51710</td>\n",
       "      <td>2.626611</td>\n",
       "    </tr>\n",
       "    <tr>\n",
       "      <th>4</th>\n",
       "      <td>CA</td>\n",
       "      <td>60487</td>\n",
       "      <td>2.397986</td>\n",
       "    </tr>\n",
       "    <tr>\n",
       "      <th>44</th>\n",
       "      <td>UT</td>\n",
       "      <td>63383</td>\n",
       "      <td>2.384065</td>\n",
       "    </tr>\n",
       "  </tbody>\n",
       "</table>\n",
       "</div>"
      ],
      "text/plain": [
       "   state  median_household_income  avg_hatecrimes_per_100k_fbi\n",
       "8     DC                    68277                    10.953480\n",
       "21    MA                    63151                     4.801899\n",
       "34    ND                    60730                     4.741070\n",
       "30    NJ                    65243                     4.413203\n",
       "17    KY                    42786                     4.207890\n",
       "47    WA                    59068                     3.817740\n",
       "6     CT                    70161                     3.772701\n",
       "23    MN                    67244                     3.612412\n",
       "2     AZ                    49254                     3.413928\n",
       "37    OR                    58875                     3.394886\n",
       "41    SD                    53053                     3.301737\n",
       "35    OH                    49644                     3.240420\n",
       "22    MI                    52005                     3.200442\n",
       "42    TN                    43716                     3.136051\n",
       "32    NY                    54310                     3.102164\n",
       "26    MT                    51102                     2.954959\n",
       "5     CO                    60940                     2.804689\n",
       "27    NE                    56870                     2.686248\n",
       "19    ME                    51710                     2.626611\n",
       "4     CA                    60487                     2.397986\n",
       "44    UT                    63383                     2.384065"
      ]
     },
     "execution_count": 55,
     "metadata": {},
     "output_type": "execute_result"
    }
   ],
   "source": [
    "hateCrimeStates[['state','median_household_income','avg_hatecrimes_per_100k_fbi']]"
   ]
  },
  {
   "cell_type": "code",
   "execution_count": 56,
   "metadata": {},
   "outputs": [
    {
     "data": {
      "text/plain": [
       "21"
      ]
     },
     "execution_count": 56,
     "metadata": {},
     "output_type": "execute_result"
    }
   ],
   "source": [
    "len(hateCrimeStates)"
   ]
  },
  {
   "cell_type": "markdown",
   "metadata": {},
   "source": [
    "<b> Filter hateCrimeStates by those with below average median_household_income to see % of total"
   ]
  },
  {
   "cell_type": "code",
   "execution_count": 57,
   "metadata": {},
   "outputs": [
    {
     "data": {
      "text/html": [
       "<div>\n",
       "<style scoped>\n",
       "    .dataframe tbody tr th:only-of-type {\n",
       "        vertical-align: middle;\n",
       "    }\n",
       "\n",
       "    .dataframe tbody tr th {\n",
       "        vertical-align: top;\n",
       "    }\n",
       "\n",
       "    .dataframe thead th {\n",
       "        text-align: right;\n",
       "    }\n",
       "</style>\n",
       "<table border=\"1\" class=\"dataframe\">\n",
       "  <thead>\n",
       "    <tr style=\"text-align: right;\">\n",
       "      <th></th>\n",
       "      <th>state</th>\n",
       "      <th>median_household_income</th>\n",
       "      <th>share_unemployed_seasonal</th>\n",
       "      <th>share_population_in_metro_areas</th>\n",
       "      <th>share_population_with_high_school_degree</th>\n",
       "      <th>share_non_citizen</th>\n",
       "      <th>share_white_poverty</th>\n",
       "      <th>share_non_white</th>\n",
       "      <th>share_voters_voted_trump</th>\n",
       "      <th>hate_crimes_per_100k_splc</th>\n",
       "      <th>avg_hatecrimes_per_100k_fbi</th>\n",
       "    </tr>\n",
       "  </thead>\n",
       "  <tbody>\n",
       "    <tr>\n",
       "      <th>17</th>\n",
       "      <td>KY</td>\n",
       "      <td>42786</td>\n",
       "      <td>0.050</td>\n",
       "      <td>0.56</td>\n",
       "      <td>0.817</td>\n",
       "      <td>0.03</td>\n",
       "      <td>0.17</td>\n",
       "      <td>0.15</td>\n",
       "      <td>0.63</td>\n",
       "      <td>0.324397</td>\n",
       "      <td>4.207890</td>\n",
       "    </tr>\n",
       "    <tr>\n",
       "      <th>2</th>\n",
       "      <td>AZ</td>\n",
       "      <td>49254</td>\n",
       "      <td>0.063</td>\n",
       "      <td>0.90</td>\n",
       "      <td>0.842</td>\n",
       "      <td>0.10</td>\n",
       "      <td>0.09</td>\n",
       "      <td>0.49</td>\n",
       "      <td>0.50</td>\n",
       "      <td>0.225320</td>\n",
       "      <td>3.413928</td>\n",
       "    </tr>\n",
       "    <tr>\n",
       "      <th>41</th>\n",
       "      <td>SD</td>\n",
       "      <td>53053</td>\n",
       "      <td>0.035</td>\n",
       "      <td>0.51</td>\n",
       "      <td>0.899</td>\n",
       "      <td>NaN</td>\n",
       "      <td>0.08</td>\n",
       "      <td>0.17</td>\n",
       "      <td>0.62</td>\n",
       "      <td>NaN</td>\n",
       "      <td>3.301737</td>\n",
       "    </tr>\n",
       "    <tr>\n",
       "      <th>35</th>\n",
       "      <td>OH</td>\n",
       "      <td>49644</td>\n",
       "      <td>0.045</td>\n",
       "      <td>0.75</td>\n",
       "      <td>0.876</td>\n",
       "      <td>0.03</td>\n",
       "      <td>0.10</td>\n",
       "      <td>0.21</td>\n",
       "      <td>0.52</td>\n",
       "      <td>0.190714</td>\n",
       "      <td>3.240420</td>\n",
       "    </tr>\n",
       "    <tr>\n",
       "      <th>22</th>\n",
       "      <td>MI</td>\n",
       "      <td>52005</td>\n",
       "      <td>0.050</td>\n",
       "      <td>0.87</td>\n",
       "      <td>0.879</td>\n",
       "      <td>0.04</td>\n",
       "      <td>0.09</td>\n",
       "      <td>0.24</td>\n",
       "      <td>0.48</td>\n",
       "      <td>0.403779</td>\n",
       "      <td>3.200442</td>\n",
       "    </tr>\n",
       "    <tr>\n",
       "      <th>42</th>\n",
       "      <td>TN</td>\n",
       "      <td>43716</td>\n",
       "      <td>0.057</td>\n",
       "      <td>0.82</td>\n",
       "      <td>0.831</td>\n",
       "      <td>0.04</td>\n",
       "      <td>0.13</td>\n",
       "      <td>0.27</td>\n",
       "      <td>0.61</td>\n",
       "      <td>0.199938</td>\n",
       "      <td>3.136051</td>\n",
       "    </tr>\n",
       "    <tr>\n",
       "      <th>32</th>\n",
       "      <td>NY</td>\n",
       "      <td>54310</td>\n",
       "      <td>0.051</td>\n",
       "      <td>0.94</td>\n",
       "      <td>0.847</td>\n",
       "      <td>0.10</td>\n",
       "      <td>0.10</td>\n",
       "      <td>0.42</td>\n",
       "      <td>0.37</td>\n",
       "      <td>0.350620</td>\n",
       "      <td>3.102164</td>\n",
       "    </tr>\n",
       "    <tr>\n",
       "      <th>26</th>\n",
       "      <td>MT</td>\n",
       "      <td>51102</td>\n",
       "      <td>0.041</td>\n",
       "      <td>0.34</td>\n",
       "      <td>0.908</td>\n",
       "      <td>0.01</td>\n",
       "      <td>0.10</td>\n",
       "      <td>0.10</td>\n",
       "      <td>0.57</td>\n",
       "      <td>0.495491</td>\n",
       "      <td>2.954959</td>\n",
       "    </tr>\n",
       "    <tr>\n",
       "      <th>19</th>\n",
       "      <td>ME</td>\n",
       "      <td>51710</td>\n",
       "      <td>0.044</td>\n",
       "      <td>0.54</td>\n",
       "      <td>0.902</td>\n",
       "      <td>NaN</td>\n",
       "      <td>0.12</td>\n",
       "      <td>0.09</td>\n",
       "      <td>0.45</td>\n",
       "      <td>0.615574</td>\n",
       "      <td>2.626611</td>\n",
       "    </tr>\n",
       "  </tbody>\n",
       "</table>\n",
       "</div>"
      ],
      "text/plain": [
       "   state  median_household_income  share_unemployed_seasonal  \\\n",
       "17    KY                    42786                      0.050   \n",
       "2     AZ                    49254                      0.063   \n",
       "41    SD                    53053                      0.035   \n",
       "35    OH                    49644                      0.045   \n",
       "22    MI                    52005                      0.050   \n",
       "42    TN                    43716                      0.057   \n",
       "32    NY                    54310                      0.051   \n",
       "26    MT                    51102                      0.041   \n",
       "19    ME                    51710                      0.044   \n",
       "\n",
       "    share_population_in_metro_areas  share_population_with_high_school_degree  \\\n",
       "17                             0.56                                     0.817   \n",
       "2                              0.90                                     0.842   \n",
       "41                             0.51                                     0.899   \n",
       "35                             0.75                                     0.876   \n",
       "22                             0.87                                     0.879   \n",
       "42                             0.82                                     0.831   \n",
       "32                             0.94                                     0.847   \n",
       "26                             0.34                                     0.908   \n",
       "19                             0.54                                     0.902   \n",
       "\n",
       "    share_non_citizen  share_white_poverty  share_non_white  \\\n",
       "17               0.03                 0.17             0.15   \n",
       "2                0.10                 0.09             0.49   \n",
       "41                NaN                 0.08             0.17   \n",
       "35               0.03                 0.10             0.21   \n",
       "22               0.04                 0.09             0.24   \n",
       "42               0.04                 0.13             0.27   \n",
       "32               0.10                 0.10             0.42   \n",
       "26               0.01                 0.10             0.10   \n",
       "19                NaN                 0.12             0.09   \n",
       "\n",
       "    share_voters_voted_trump  hate_crimes_per_100k_splc  \\\n",
       "17                      0.63                   0.324397   \n",
       "2                       0.50                   0.225320   \n",
       "41                      0.62                        NaN   \n",
       "35                      0.52                   0.190714   \n",
       "22                      0.48                   0.403779   \n",
       "42                      0.61                   0.199938   \n",
       "32                      0.37                   0.350620   \n",
       "26                      0.57                   0.495491   \n",
       "19                      0.45                   0.615574   \n",
       "\n",
       "    avg_hatecrimes_per_100k_fbi  \n",
       "17                     4.207890  \n",
       "2                      3.413928  \n",
       "41                     3.301737  \n",
       "35                     3.240420  \n",
       "22                     3.200442  \n",
       "42                     3.136051  \n",
       "32                     3.102164  \n",
       "26                     2.954959  \n",
       "19                     2.626611  "
      ]
     },
     "execution_count": 57,
     "metadata": {},
     "output_type": "execute_result"
    }
   ],
   "source": [
    "lowIncome_hateCrimeStates=hateCrimeStates[hateCrimeStates.median_household_income < averageIncome]\n",
    "lowIncome_hateCrimeStates"
   ]
  },
  {
   "cell_type": "code",
   "execution_count": 58,
   "metadata": {},
   "outputs": [
    {
     "data": {
      "text/plain": [
       "0.42857142857142855"
      ]
     },
     "execution_count": 58,
     "metadata": {},
     "output_type": "execute_result"
    }
   ],
   "source": [
    "len(lowIncome_hateCrimeStates)/len(hateCrimeStates)"
   ]
  },
  {
   "cell_type": "markdown",
   "metadata": {},
   "source": [
    "### Only 43% of hateCrimeStates are below average median income, no correlation"
   ]
  },
  {
   "cell_type": "code",
   "execution_count": 59,
   "metadata": {},
   "outputs": [
    {
     "data": {
      "text/html": [
       "<div>\n",
       "<style scoped>\n",
       "    .dataframe tbody tr th:only-of-type {\n",
       "        vertical-align: middle;\n",
       "    }\n",
       "\n",
       "    .dataframe tbody tr th {\n",
       "        vertical-align: top;\n",
       "    }\n",
       "\n",
       "    .dataframe thead th {\n",
       "        text-align: right;\n",
       "    }\n",
       "</style>\n",
       "<table border=\"1\" class=\"dataframe\">\n",
       "  <thead>\n",
       "    <tr style=\"text-align: right;\">\n",
       "      <th></th>\n",
       "      <th>median_household_income</th>\n",
       "      <th>share_unemployed_seasonal</th>\n",
       "      <th>share_population_in_metro_areas</th>\n",
       "      <th>share_population_with_high_school_degree</th>\n",
       "      <th>share_non_citizen</th>\n",
       "      <th>share_white_poverty</th>\n",
       "      <th>share_non_white</th>\n",
       "      <th>share_voters_voted_trump</th>\n",
       "      <th>hate_crimes_per_100k_splc</th>\n",
       "      <th>avg_hatecrimes_per_100k_fbi</th>\n",
       "    </tr>\n",
       "  </thead>\n",
       "  <tbody>\n",
       "    <tr>\n",
       "      <th>median_household_income</th>\n",
       "      <td>1.000000</td>\n",
       "      <td>-0.376722</td>\n",
       "      <td>0.286480</td>\n",
       "      <td>0.653490</td>\n",
       "      <td>0.302288</td>\n",
       "      <td>-0.818045</td>\n",
       "      <td>0.103775</td>\n",
       "      <td>-0.597528</td>\n",
       "      <td>0.350714</td>\n",
       "      <td>0.318246</td>\n",
       "    </tr>\n",
       "    <tr>\n",
       "      <th>share_unemployed_seasonal</th>\n",
       "      <td>-0.376722</td>\n",
       "      <td>1.000000</td>\n",
       "      <td>0.358113</td>\n",
       "      <td>-0.621168</td>\n",
       "      <td>0.278899</td>\n",
       "      <td>0.209440</td>\n",
       "      <td>0.431847</td>\n",
       "      <td>-0.148192</td>\n",
       "      <td>0.083292</td>\n",
       "      <td>0.073936</td>\n",
       "    </tr>\n",
       "    <tr>\n",
       "      <th>share_population_in_metro_areas</th>\n",
       "      <td>0.286480</td>\n",
       "      <td>0.358113</td>\n",
       "      <td>1.000000</td>\n",
       "      <td>-0.268846</td>\n",
       "      <td>0.745464</td>\n",
       "      <td>-0.385559</td>\n",
       "      <td>0.547672</td>\n",
       "      <td>-0.570695</td>\n",
       "      <td>0.162217</td>\n",
       "      <td>0.209827</td>\n",
       "    </tr>\n",
       "    <tr>\n",
       "      <th>share_population_with_high_school_degree</th>\n",
       "      <td>0.653490</td>\n",
       "      <td>-0.621168</td>\n",
       "      <td>-0.268846</td>\n",
       "      <td>1.000000</td>\n",
       "      <td>-0.277009</td>\n",
       "      <td>-0.494008</td>\n",
       "      <td>-0.434846</td>\n",
       "      <td>-0.155656</td>\n",
       "      <td>0.308944</td>\n",
       "      <td>0.164148</td>\n",
       "    </tr>\n",
       "    <tr>\n",
       "      <th>share_non_citizen</th>\n",
       "      <td>0.302288</td>\n",
       "      <td>0.278899</td>\n",
       "      <td>0.745464</td>\n",
       "      <td>-0.277009</td>\n",
       "      <td>1.000000</td>\n",
       "      <td>-0.389718</td>\n",
       "      <td>0.733655</td>\n",
       "      <td>-0.631194</td>\n",
       "      <td>0.243507</td>\n",
       "      <td>0.300892</td>\n",
       "    </tr>\n",
       "    <tr>\n",
       "      <th>share_white_poverty</th>\n",
       "      <td>-0.818045</td>\n",
       "      <td>0.209440</td>\n",
       "      <td>-0.385559</td>\n",
       "      <td>-0.494008</td>\n",
       "      <td>-0.389718</td>\n",
       "      <td>1.000000</td>\n",
       "      <td>-0.269449</td>\n",
       "      <td>0.552849</td>\n",
       "      <td>-0.286170</td>\n",
       "      <td>-0.260094</td>\n",
       "    </tr>\n",
       "    <tr>\n",
       "      <th>share_non_white</th>\n",
       "      <td>0.103775</td>\n",
       "      <td>0.431847</td>\n",
       "      <td>0.547672</td>\n",
       "      <td>-0.434846</td>\n",
       "      <td>0.733655</td>\n",
       "      <td>-0.269449</td>\n",
       "      <td>1.000000</td>\n",
       "      <td>-0.488838</td>\n",
       "      <td>0.047561</td>\n",
       "      <td>0.083525</td>\n",
       "    </tr>\n",
       "    <tr>\n",
       "      <th>share_voters_voted_trump</th>\n",
       "      <td>-0.597528</td>\n",
       "      <td>-0.148192</td>\n",
       "      <td>-0.570695</td>\n",
       "      <td>-0.155656</td>\n",
       "      <td>-0.631194</td>\n",
       "      <td>0.552849</td>\n",
       "      <td>-0.488838</td>\n",
       "      <td>1.000000</td>\n",
       "      <td>-0.657067</td>\n",
       "      <td>-0.504532</td>\n",
       "    </tr>\n",
       "    <tr>\n",
       "      <th>hate_crimes_per_100k_splc</th>\n",
       "      <td>0.350714</td>\n",
       "      <td>0.083292</td>\n",
       "      <td>0.162217</td>\n",
       "      <td>0.308944</td>\n",
       "      <td>0.243507</td>\n",
       "      <td>-0.286170</td>\n",
       "      <td>0.047561</td>\n",
       "      <td>-0.657067</td>\n",
       "      <td>1.000000</td>\n",
       "      <td>0.758700</td>\n",
       "    </tr>\n",
       "    <tr>\n",
       "      <th>avg_hatecrimes_per_100k_fbi</th>\n",
       "      <td>0.318246</td>\n",
       "      <td>0.073936</td>\n",
       "      <td>0.209827</td>\n",
       "      <td>0.164148</td>\n",
       "      <td>0.300892</td>\n",
       "      <td>-0.260094</td>\n",
       "      <td>0.083525</td>\n",
       "      <td>-0.504532</td>\n",
       "      <td>0.758700</td>\n",
       "      <td>1.000000</td>\n",
       "    </tr>\n",
       "  </tbody>\n",
       "</table>\n",
       "</div>"
      ],
      "text/plain": [
       "                                          median_household_income  \\\n",
       "median_household_income                                  1.000000   \n",
       "share_unemployed_seasonal                               -0.376722   \n",
       "share_population_in_metro_areas                          0.286480   \n",
       "share_population_with_high_school_degree                 0.653490   \n",
       "share_non_citizen                                        0.302288   \n",
       "share_white_poverty                                     -0.818045   \n",
       "share_non_white                                          0.103775   \n",
       "share_voters_voted_trump                                -0.597528   \n",
       "hate_crimes_per_100k_splc                                0.350714   \n",
       "avg_hatecrimes_per_100k_fbi                              0.318246   \n",
       "\n",
       "                                          share_unemployed_seasonal  \\\n",
       "median_household_income                                   -0.376722   \n",
       "share_unemployed_seasonal                                  1.000000   \n",
       "share_population_in_metro_areas                            0.358113   \n",
       "share_population_with_high_school_degree                  -0.621168   \n",
       "share_non_citizen                                          0.278899   \n",
       "share_white_poverty                                        0.209440   \n",
       "share_non_white                                            0.431847   \n",
       "share_voters_voted_trump                                  -0.148192   \n",
       "hate_crimes_per_100k_splc                                  0.083292   \n",
       "avg_hatecrimes_per_100k_fbi                                0.073936   \n",
       "\n",
       "                                          share_population_in_metro_areas  \\\n",
       "median_household_income                                          0.286480   \n",
       "share_unemployed_seasonal                                        0.358113   \n",
       "share_population_in_metro_areas                                  1.000000   \n",
       "share_population_with_high_school_degree                        -0.268846   \n",
       "share_non_citizen                                                0.745464   \n",
       "share_white_poverty                                             -0.385559   \n",
       "share_non_white                                                  0.547672   \n",
       "share_voters_voted_trump                                        -0.570695   \n",
       "hate_crimes_per_100k_splc                                        0.162217   \n",
       "avg_hatecrimes_per_100k_fbi                                      0.209827   \n",
       "\n",
       "                                          share_population_with_high_school_degree  \\\n",
       "median_household_income                                                   0.653490   \n",
       "share_unemployed_seasonal                                                -0.621168   \n",
       "share_population_in_metro_areas                                          -0.268846   \n",
       "share_population_with_high_school_degree                                  1.000000   \n",
       "share_non_citizen                                                        -0.277009   \n",
       "share_white_poverty                                                      -0.494008   \n",
       "share_non_white                                                          -0.434846   \n",
       "share_voters_voted_trump                                                 -0.155656   \n",
       "hate_crimes_per_100k_splc                                                 0.308944   \n",
       "avg_hatecrimes_per_100k_fbi                                               0.164148   \n",
       "\n",
       "                                          share_non_citizen  \\\n",
       "median_household_income                            0.302288   \n",
       "share_unemployed_seasonal                          0.278899   \n",
       "share_population_in_metro_areas                    0.745464   \n",
       "share_population_with_high_school_degree          -0.277009   \n",
       "share_non_citizen                                  1.000000   \n",
       "share_white_poverty                               -0.389718   \n",
       "share_non_white                                    0.733655   \n",
       "share_voters_voted_trump                          -0.631194   \n",
       "hate_crimes_per_100k_splc                          0.243507   \n",
       "avg_hatecrimes_per_100k_fbi                        0.300892   \n",
       "\n",
       "                                          share_white_poverty  \\\n",
       "median_household_income                             -0.818045   \n",
       "share_unemployed_seasonal                            0.209440   \n",
       "share_population_in_metro_areas                     -0.385559   \n",
       "share_population_with_high_school_degree            -0.494008   \n",
       "share_non_citizen                                   -0.389718   \n",
       "share_white_poverty                                  1.000000   \n",
       "share_non_white                                     -0.269449   \n",
       "share_voters_voted_trump                             0.552849   \n",
       "hate_crimes_per_100k_splc                           -0.286170   \n",
       "avg_hatecrimes_per_100k_fbi                         -0.260094   \n",
       "\n",
       "                                          share_non_white  \\\n",
       "median_household_income                          0.103775   \n",
       "share_unemployed_seasonal                        0.431847   \n",
       "share_population_in_metro_areas                  0.547672   \n",
       "share_population_with_high_school_degree        -0.434846   \n",
       "share_non_citizen                                0.733655   \n",
       "share_white_poverty                             -0.269449   \n",
       "share_non_white                                  1.000000   \n",
       "share_voters_voted_trump                        -0.488838   \n",
       "hate_crimes_per_100k_splc                        0.047561   \n",
       "avg_hatecrimes_per_100k_fbi                      0.083525   \n",
       "\n",
       "                                          share_voters_voted_trump  \\\n",
       "median_household_income                                  -0.597528   \n",
       "share_unemployed_seasonal                                -0.148192   \n",
       "share_population_in_metro_areas                          -0.570695   \n",
       "share_population_with_high_school_degree                 -0.155656   \n",
       "share_non_citizen                                        -0.631194   \n",
       "share_white_poverty                                       0.552849   \n",
       "share_non_white                                          -0.488838   \n",
       "share_voters_voted_trump                                  1.000000   \n",
       "hate_crimes_per_100k_splc                                -0.657067   \n",
       "avg_hatecrimes_per_100k_fbi                              -0.504532   \n",
       "\n",
       "                                          hate_crimes_per_100k_splc  \\\n",
       "median_household_income                                    0.350714   \n",
       "share_unemployed_seasonal                                  0.083292   \n",
       "share_population_in_metro_areas                            0.162217   \n",
       "share_population_with_high_school_degree                   0.308944   \n",
       "share_non_citizen                                          0.243507   \n",
       "share_white_poverty                                       -0.286170   \n",
       "share_non_white                                            0.047561   \n",
       "share_voters_voted_trump                                  -0.657067   \n",
       "hate_crimes_per_100k_splc                                  1.000000   \n",
       "avg_hatecrimes_per_100k_fbi                                0.758700   \n",
       "\n",
       "                                          avg_hatecrimes_per_100k_fbi  \n",
       "median_household_income                                      0.318246  \n",
       "share_unemployed_seasonal                                    0.073936  \n",
       "share_population_in_metro_areas                              0.209827  \n",
       "share_population_with_high_school_degree                     0.164148  \n",
       "share_non_citizen                                            0.300892  \n",
       "share_white_poverty                                         -0.260094  \n",
       "share_non_white                                              0.083525  \n",
       "share_voters_voted_trump                                    -0.504532  \n",
       "hate_crimes_per_100k_splc                                    0.758700  \n",
       "avg_hatecrimes_per_100k_fbi                                  1.000000  "
      ]
     },
     "execution_count": 59,
     "metadata": {},
     "output_type": "execute_result"
    }
   ],
   "source": [
    "df.corr()"
   ]
  },
  {
   "cell_type": "markdown",
   "metadata": {},
   "source": [
    "## Do states with a larger non citizen % have a greater hate crime rate?"
   ]
  },
  {
   "cell_type": "code",
   "execution_count": 60,
   "metadata": {},
   "outputs": [
    {
     "data": {
      "text/plain": [
       "0.054583333333333324"
      ]
     },
     "execution_count": 60,
     "metadata": {},
     "output_type": "execute_result"
    }
   ],
   "source": [
    "averageNonCitizen=df.share_non_citizen.mean()\n",
    "averageNonCitizen"
   ]
  },
  {
   "cell_type": "markdown",
   "metadata": {},
   "source": [
    "<b> Filter hateCrimeStates by those with above average share_non_citizen to see % of total"
   ]
  },
  {
   "cell_type": "code",
   "execution_count": 61,
   "metadata": {},
   "outputs": [
    {
     "data": {
      "text/html": [
       "<div>\n",
       "<style scoped>\n",
       "    .dataframe tbody tr th:only-of-type {\n",
       "        vertical-align: middle;\n",
       "    }\n",
       "\n",
       "    .dataframe tbody tr th {\n",
       "        vertical-align: top;\n",
       "    }\n",
       "\n",
       "    .dataframe thead th {\n",
       "        text-align: right;\n",
       "    }\n",
       "</style>\n",
       "<table border=\"1\" class=\"dataframe\">\n",
       "  <thead>\n",
       "    <tr style=\"text-align: right;\">\n",
       "      <th></th>\n",
       "      <th>state</th>\n",
       "      <th>median_household_income</th>\n",
       "      <th>share_unemployed_seasonal</th>\n",
       "      <th>share_population_in_metro_areas</th>\n",
       "      <th>share_population_with_high_school_degree</th>\n",
       "      <th>share_non_citizen</th>\n",
       "      <th>share_white_poverty</th>\n",
       "      <th>share_non_white</th>\n",
       "      <th>share_voters_voted_trump</th>\n",
       "      <th>hate_crimes_per_100k_splc</th>\n",
       "      <th>avg_hatecrimes_per_100k_fbi</th>\n",
       "    </tr>\n",
       "  </thead>\n",
       "  <tbody>\n",
       "    <tr>\n",
       "      <th>8</th>\n",
       "      <td>DC</td>\n",
       "      <td>68277</td>\n",
       "      <td>0.067</td>\n",
       "      <td>1.00</td>\n",
       "      <td>0.871</td>\n",
       "      <td>0.11</td>\n",
       "      <td>0.04</td>\n",
       "      <td>0.63</td>\n",
       "      <td>0.04</td>\n",
       "      <td>1.522302</td>\n",
       "      <td>10.953480</td>\n",
       "    </tr>\n",
       "    <tr>\n",
       "      <th>21</th>\n",
       "      <td>MA</td>\n",
       "      <td>63151</td>\n",
       "      <td>0.046</td>\n",
       "      <td>0.97</td>\n",
       "      <td>0.890</td>\n",
       "      <td>0.09</td>\n",
       "      <td>0.08</td>\n",
       "      <td>0.27</td>\n",
       "      <td>0.34</td>\n",
       "      <td>0.630811</td>\n",
       "      <td>4.801899</td>\n",
       "    </tr>\n",
       "    <tr>\n",
       "      <th>30</th>\n",
       "      <td>NJ</td>\n",
       "      <td>65243</td>\n",
       "      <td>0.056</td>\n",
       "      <td>1.00</td>\n",
       "      <td>0.874</td>\n",
       "      <td>0.11</td>\n",
       "      <td>0.07</td>\n",
       "      <td>0.44</td>\n",
       "      <td>0.42</td>\n",
       "      <td>0.078306</td>\n",
       "      <td>4.413203</td>\n",
       "    </tr>\n",
       "    <tr>\n",
       "      <th>47</th>\n",
       "      <td>WA</td>\n",
       "      <td>59068</td>\n",
       "      <td>0.052</td>\n",
       "      <td>0.86</td>\n",
       "      <td>0.897</td>\n",
       "      <td>0.08</td>\n",
       "      <td>0.09</td>\n",
       "      <td>0.31</td>\n",
       "      <td>0.38</td>\n",
       "      <td>0.677488</td>\n",
       "      <td>3.817740</td>\n",
       "    </tr>\n",
       "    <tr>\n",
       "      <th>6</th>\n",
       "      <td>CT</td>\n",
       "      <td>70161</td>\n",
       "      <td>0.052</td>\n",
       "      <td>0.94</td>\n",
       "      <td>0.886</td>\n",
       "      <td>0.06</td>\n",
       "      <td>0.06</td>\n",
       "      <td>0.30</td>\n",
       "      <td>0.41</td>\n",
       "      <td>0.335392</td>\n",
       "      <td>3.772701</td>\n",
       "    </tr>\n",
       "    <tr>\n",
       "      <th>2</th>\n",
       "      <td>AZ</td>\n",
       "      <td>49254</td>\n",
       "      <td>0.063</td>\n",
       "      <td>0.90</td>\n",
       "      <td>0.842</td>\n",
       "      <td>0.10</td>\n",
       "      <td>0.09</td>\n",
       "      <td>0.49</td>\n",
       "      <td>0.50</td>\n",
       "      <td>0.225320</td>\n",
       "      <td>3.413928</td>\n",
       "    </tr>\n",
       "    <tr>\n",
       "      <th>37</th>\n",
       "      <td>OR</td>\n",
       "      <td>58875</td>\n",
       "      <td>0.062</td>\n",
       "      <td>0.87</td>\n",
       "      <td>0.891</td>\n",
       "      <td>0.07</td>\n",
       "      <td>0.10</td>\n",
       "      <td>0.26</td>\n",
       "      <td>0.41</td>\n",
       "      <td>0.832850</td>\n",
       "      <td>3.394886</td>\n",
       "    </tr>\n",
       "    <tr>\n",
       "      <th>32</th>\n",
       "      <td>NY</td>\n",
       "      <td>54310</td>\n",
       "      <td>0.051</td>\n",
       "      <td>0.94</td>\n",
       "      <td>0.847</td>\n",
       "      <td>0.10</td>\n",
       "      <td>0.10</td>\n",
       "      <td>0.42</td>\n",
       "      <td>0.37</td>\n",
       "      <td>0.350620</td>\n",
       "      <td>3.102164</td>\n",
       "    </tr>\n",
       "    <tr>\n",
       "      <th>5</th>\n",
       "      <td>CO</td>\n",
       "      <td>60940</td>\n",
       "      <td>0.040</td>\n",
       "      <td>0.80</td>\n",
       "      <td>0.893</td>\n",
       "      <td>0.06</td>\n",
       "      <td>0.07</td>\n",
       "      <td>0.31</td>\n",
       "      <td>0.44</td>\n",
       "      <td>0.390523</td>\n",
       "      <td>2.804689</td>\n",
       "    </tr>\n",
       "    <tr>\n",
       "      <th>4</th>\n",
       "      <td>CA</td>\n",
       "      <td>60487</td>\n",
       "      <td>0.059</td>\n",
       "      <td>0.97</td>\n",
       "      <td>0.806</td>\n",
       "      <td>0.13</td>\n",
       "      <td>0.09</td>\n",
       "      <td>0.61</td>\n",
       "      <td>0.33</td>\n",
       "      <td>0.255805</td>\n",
       "      <td>2.397986</td>\n",
       "    </tr>\n",
       "  </tbody>\n",
       "</table>\n",
       "</div>"
      ],
      "text/plain": [
       "   state  median_household_income  share_unemployed_seasonal  \\\n",
       "8     DC                    68277                      0.067   \n",
       "21    MA                    63151                      0.046   \n",
       "30    NJ                    65243                      0.056   \n",
       "47    WA                    59068                      0.052   \n",
       "6     CT                    70161                      0.052   \n",
       "2     AZ                    49254                      0.063   \n",
       "37    OR                    58875                      0.062   \n",
       "32    NY                    54310                      0.051   \n",
       "5     CO                    60940                      0.040   \n",
       "4     CA                    60487                      0.059   \n",
       "\n",
       "    share_population_in_metro_areas  share_population_with_high_school_degree  \\\n",
       "8                              1.00                                     0.871   \n",
       "21                             0.97                                     0.890   \n",
       "30                             1.00                                     0.874   \n",
       "47                             0.86                                     0.897   \n",
       "6                              0.94                                     0.886   \n",
       "2                              0.90                                     0.842   \n",
       "37                             0.87                                     0.891   \n",
       "32                             0.94                                     0.847   \n",
       "5                              0.80                                     0.893   \n",
       "4                              0.97                                     0.806   \n",
       "\n",
       "    share_non_citizen  share_white_poverty  share_non_white  \\\n",
       "8                0.11                 0.04             0.63   \n",
       "21               0.09                 0.08             0.27   \n",
       "30               0.11                 0.07             0.44   \n",
       "47               0.08                 0.09             0.31   \n",
       "6                0.06                 0.06             0.30   \n",
       "2                0.10                 0.09             0.49   \n",
       "37               0.07                 0.10             0.26   \n",
       "32               0.10                 0.10             0.42   \n",
       "5                0.06                 0.07             0.31   \n",
       "4                0.13                 0.09             0.61   \n",
       "\n",
       "    share_voters_voted_trump  hate_crimes_per_100k_splc  \\\n",
       "8                       0.04                   1.522302   \n",
       "21                      0.34                   0.630811   \n",
       "30                      0.42                   0.078306   \n",
       "47                      0.38                   0.677488   \n",
       "6                       0.41                   0.335392   \n",
       "2                       0.50                   0.225320   \n",
       "37                      0.41                   0.832850   \n",
       "32                      0.37                   0.350620   \n",
       "5                       0.44                   0.390523   \n",
       "4                       0.33                   0.255805   \n",
       "\n",
       "    avg_hatecrimes_per_100k_fbi  \n",
       "8                     10.953480  \n",
       "21                     4.801899  \n",
       "30                     4.413203  \n",
       "47                     3.817740  \n",
       "6                      3.772701  \n",
       "2                      3.413928  \n",
       "37                     3.394886  \n",
       "32                     3.102164  \n",
       "5                      2.804689  \n",
       "4                      2.397986  "
      ]
     },
     "execution_count": 61,
     "metadata": {},
     "output_type": "execute_result"
    }
   ],
   "source": [
    "highNonCitizen_hateCrimeStates=hateCrimeStates[hateCrimeStates.share_non_citizen > averageNonCitizen]\n",
    "highNonCitizen_hateCrimeStates"
   ]
  },
  {
   "cell_type": "code",
   "execution_count": 62,
   "metadata": {},
   "outputs": [
    {
     "data": {
      "text/plain": [
       "0.47619047619047616"
      ]
     },
     "execution_count": 62,
     "metadata": {},
     "output_type": "execute_result"
    }
   ],
   "source": [
    "len(highNonCitizen_hateCrimeStates)/len(hateCrimeStates)"
   ]
  },
  {
   "cell_type": "markdown",
   "metadata": {},
   "source": [
    "### Only 47.6% of hateCrimeStates have average % of noncitizens, no major correlation"
   ]
  },
  {
   "cell_type": "markdown",
   "metadata": {},
   "source": [
    "## -------------------------------------------------------------------------------------------------------"
   ]
  },
  {
   "cell_type": "markdown",
   "metadata": {},
   "source": [
    "# Join police_killings and hate_crimes"
   ]
  },
  {
   "cell_type": "code",
   "execution_count": 63,
   "metadata": {},
   "outputs": [
    {
     "data": {
      "text/plain": [
       "47"
      ]
     },
     "execution_count": 63,
     "metadata": {},
     "output_type": "execute_result"
    }
   ],
   "source": [
    "len(df2.state.unique())"
   ]
  },
  {
   "cell_type": "markdown",
   "metadata": {},
   "source": [
    "47 out of 50 states feature records in police_killings, will do an inner merge"
   ]
  },
  {
   "cell_type": "code",
   "execution_count": 64,
   "metadata": {},
   "outputs": [
    {
     "data": {
      "text/html": [
       "<div>\n",
       "<style scoped>\n",
       "    .dataframe tbody tr th:only-of-type {\n",
       "        vertical-align: middle;\n",
       "    }\n",
       "\n",
       "    .dataframe tbody tr th {\n",
       "        vertical-align: top;\n",
       "    }\n",
       "\n",
       "    .dataframe thead th {\n",
       "        text-align: right;\n",
       "    }\n",
       "</style>\n",
       "<table border=\"1\" class=\"dataframe\">\n",
       "  <thead>\n",
       "    <tr style=\"text-align: right;\">\n",
       "      <th></th>\n",
       "      <th>name</th>\n",
       "      <th>age</th>\n",
       "      <th>gender</th>\n",
       "      <th>raceethnicity</th>\n",
       "      <th>state</th>\n",
       "      <th>armed</th>\n",
       "      <th>pop</th>\n",
       "      <th>share_white</th>\n",
       "      <th>share_black</th>\n",
       "      <th>share_hispanic</th>\n",
       "      <th>...</th>\n",
       "      <th>median_household_income</th>\n",
       "      <th>share_unemployed_seasonal</th>\n",
       "      <th>share_population_in_metro_areas</th>\n",
       "      <th>share_population_with_high_school_degree</th>\n",
       "      <th>share_non_citizen</th>\n",
       "      <th>share_white_poverty</th>\n",
       "      <th>share_non_white</th>\n",
       "      <th>share_voters_voted_trump</th>\n",
       "      <th>hate_crimes_per_100k_splc</th>\n",
       "      <th>avg_hatecrimes_per_100k_fbi</th>\n",
       "    </tr>\n",
       "  </thead>\n",
       "  <tbody>\n",
       "    <tr>\n",
       "      <th>0</th>\n",
       "      <td>A'donte Washington</td>\n",
       "      <td>16</td>\n",
       "      <td>Male</td>\n",
       "      <td>Black</td>\n",
       "      <td>AL</td>\n",
       "      <td>0</td>\n",
       "      <td>3779</td>\n",
       "      <td>60.5</td>\n",
       "      <td>30.5</td>\n",
       "      <td>5.6</td>\n",
       "      <td>...</td>\n",
       "      <td>42278</td>\n",
       "      <td>0.06</td>\n",
       "      <td>0.64</td>\n",
       "      <td>0.821</td>\n",
       "      <td>0.02</td>\n",
       "      <td>0.12</td>\n",
       "      <td>0.35</td>\n",
       "      <td>0.63</td>\n",
       "      <td>0.125839</td>\n",
       "      <td>1.80641</td>\n",
       "    </tr>\n",
       "    <tr>\n",
       "      <th>1</th>\n",
       "      <td>Anthony Briggs</td>\n",
       "      <td>36</td>\n",
       "      <td>Male</td>\n",
       "      <td>Black</td>\n",
       "      <td>AL</td>\n",
       "      <td>1</td>\n",
       "      <td>6018</td>\n",
       "      <td>89.9</td>\n",
       "      <td>4.3</td>\n",
       "      <td>1.4</td>\n",
       "      <td>...</td>\n",
       "      <td>42278</td>\n",
       "      <td>0.06</td>\n",
       "      <td>0.64</td>\n",
       "      <td>0.821</td>\n",
       "      <td>0.02</td>\n",
       "      <td>0.12</td>\n",
       "      <td>0.35</td>\n",
       "      <td>0.63</td>\n",
       "      <td>0.125839</td>\n",
       "      <td>1.80641</td>\n",
       "    </tr>\n",
       "    <tr>\n",
       "      <th>2</th>\n",
       "      <td>Douglas Harris</td>\n",
       "      <td>77</td>\n",
       "      <td>Male</td>\n",
       "      <td>Black</td>\n",
       "      <td>AL</td>\n",
       "      <td>0</td>\n",
       "      <td>3708</td>\n",
       "      <td>22.2</td>\n",
       "      <td>77.8</td>\n",
       "      <td>1.5</td>\n",
       "      <td>...</td>\n",
       "      <td>42278</td>\n",
       "      <td>0.06</td>\n",
       "      <td>0.64</td>\n",
       "      <td>0.821</td>\n",
       "      <td>0.02</td>\n",
       "      <td>0.12</td>\n",
       "      <td>0.35</td>\n",
       "      <td>0.63</td>\n",
       "      <td>0.125839</td>\n",
       "      <td>1.80641</td>\n",
       "    </tr>\n",
       "    <tr>\n",
       "      <th>3</th>\n",
       "      <td>Fletcher Stewart</td>\n",
       "      <td>46</td>\n",
       "      <td>Male</td>\n",
       "      <td>White</td>\n",
       "      <td>AL</td>\n",
       "      <td>1</td>\n",
       "      <td>4720</td>\n",
       "      <td>66.2</td>\n",
       "      <td>30.9</td>\n",
       "      <td>0.1</td>\n",
       "      <td>...</td>\n",
       "      <td>42278</td>\n",
       "      <td>0.06</td>\n",
       "      <td>0.64</td>\n",
       "      <td>0.821</td>\n",
       "      <td>0.02</td>\n",
       "      <td>0.12</td>\n",
       "      <td>0.35</td>\n",
       "      <td>0.63</td>\n",
       "      <td>0.125839</td>\n",
       "      <td>1.80641</td>\n",
       "    </tr>\n",
       "    <tr>\n",
       "      <th>4</th>\n",
       "      <td>Gilbert Fleury</td>\n",
       "      <td>54</td>\n",
       "      <td>Male</td>\n",
       "      <td>White</td>\n",
       "      <td>AL</td>\n",
       "      <td>1</td>\n",
       "      <td>6971</td>\n",
       "      <td>82.8</td>\n",
       "      <td>15</td>\n",
       "      <td>0.4</td>\n",
       "      <td>...</td>\n",
       "      <td>42278</td>\n",
       "      <td>0.06</td>\n",
       "      <td>0.64</td>\n",
       "      <td>0.821</td>\n",
       "      <td>0.02</td>\n",
       "      <td>0.12</td>\n",
       "      <td>0.35</td>\n",
       "      <td>0.63</td>\n",
       "      <td>0.125839</td>\n",
       "      <td>1.80641</td>\n",
       "    </tr>\n",
       "  </tbody>\n",
       "</table>\n",
       "<p>5 rows × 26 columns</p>\n",
       "</div>"
      ],
      "text/plain": [
       "                 name age gender raceethnicity state armed   pop share_white  \\\n",
       "0  A'donte Washington  16   Male         Black    AL     0  3779        60.5   \n",
       "1      Anthony Briggs  36   Male         Black    AL     1  6018        89.9   \n",
       "2      Douglas Harris  77   Male         Black    AL     0  3708        22.2   \n",
       "3    Fletcher Stewart  46   Male         White    AL     1  4720        66.2   \n",
       "4      Gilbert Fleury  54   Male         White    AL     1  6971        82.8   \n",
       "\n",
       "  share_black share_hispanic  ...  median_household_income  \\\n",
       "0        30.5            5.6  ...                    42278   \n",
       "1         4.3            1.4  ...                    42278   \n",
       "2        77.8            1.5  ...                    42278   \n",
       "3        30.9            0.1  ...                    42278   \n",
       "4          15            0.4  ...                    42278   \n",
       "\n",
       "   share_unemployed_seasonal  share_population_in_metro_areas  \\\n",
       "0                       0.06                             0.64   \n",
       "1                       0.06                             0.64   \n",
       "2                       0.06                             0.64   \n",
       "3                       0.06                             0.64   \n",
       "4                       0.06                             0.64   \n",
       "\n",
       "  share_population_with_high_school_degree  share_non_citizen  \\\n",
       "0                                    0.821               0.02   \n",
       "1                                    0.821               0.02   \n",
       "2                                    0.821               0.02   \n",
       "3                                    0.821               0.02   \n",
       "4                                    0.821               0.02   \n",
       "\n",
       "   share_white_poverty  share_non_white  share_voters_voted_trump  \\\n",
       "0                 0.12             0.35                      0.63   \n",
       "1                 0.12             0.35                      0.63   \n",
       "2                 0.12             0.35                      0.63   \n",
       "3                 0.12             0.35                      0.63   \n",
       "4                 0.12             0.35                      0.63   \n",
       "\n",
       "   hate_crimes_per_100k_splc  avg_hatecrimes_per_100k_fbi  \n",
       "0                   0.125839                      1.80641  \n",
       "1                   0.125839                      1.80641  \n",
       "2                   0.125839                      1.80641  \n",
       "3                   0.125839                      1.80641  \n",
       "4                   0.125839                      1.80641  \n",
       "\n",
       "[5 rows x 26 columns]"
      ]
     },
     "execution_count": 64,
     "metadata": {},
     "output_type": "execute_result"
    }
   ],
   "source": [
    "df_inner = df2.merge(df, left_on='state',right_on='state')\n",
    "df_inner.head()"
   ]
  },
  {
   "cell_type": "markdown",
   "metadata": {},
   "source": [
    "## Are hate crimes and police killings correlated? (number of police killings in states with high hate crimes)"
   ]
  },
  {
   "cell_type": "markdown",
   "metadata": {},
   "source": [
    "<b>Group by states with above average hate crime rate and count # of police killings"
   ]
  },
  {
   "cell_type": "code",
   "execution_count": 65,
   "metadata": {},
   "outputs": [
    {
     "data": {
      "text/plain": [
       "state\n",
       "CA    74\n",
       "AZ    25\n",
       "NY    14\n",
       "CO    12\n",
       "NJ    11\n",
       "WA    11\n",
       "OH    10\n",
       "MI     9\n",
       "OR     8\n",
       "KY     7\n",
       "NE     6\n",
       "TN     6\n",
       "MN     6\n",
       "UT     5\n",
       "MA     5\n",
       "MT     2\n",
       "ME     1\n",
       "DC     1\n",
       "CT     1\n",
       "Name: name, dtype: int64"
      ]
     },
     "execution_count": 65,
     "metadata": {},
     "output_type": "execute_result"
    }
   ],
   "source": [
    "killingsInHCStates=df_inner[df_inner.avg_hatecrimes_per_100k_fbi>averageHateCrime].groupby('state')['name'].count()\n",
    "killingsInHCStates.sort_values(ascending = False)"
   ]
  },
  {
   "cell_type": "code",
   "execution_count": 66,
   "metadata": {},
   "outputs": [
    {
     "data": {
      "text/plain": [
       "214"
      ]
     },
     "execution_count": 66,
     "metadata": {},
     "output_type": "execute_result"
    }
   ],
   "source": [
    "sum(killingsInHCStates)"
   ]
  },
  {
   "cell_type": "markdown",
   "metadata": {},
   "source": [
    "Compare to total # of police killings"
   ]
  },
  {
   "cell_type": "code",
   "execution_count": 67,
   "metadata": {},
   "outputs": [
    {
     "data": {
      "text/plain": [
       "state\n",
       "CA    74\n",
       "TX    46\n",
       "FL    29\n",
       "AZ    25\n",
       "OK    22\n",
       "GA    16\n",
       "NY    14\n",
       "CO    12\n",
       "NJ    11\n",
       "WA    11\n",
       "IL    11\n",
       "LA    11\n",
       "MD    10\n",
       "MO    10\n",
       "NC    10\n",
       "OH    10\n",
       "SC     9\n",
       "VA     9\n",
       "MI     9\n",
       "AL     8\n",
       "IN     8\n",
       "OR     8\n",
       "KY     7\n",
       "PA     7\n",
       "TN     6\n",
       "KS     6\n",
       "MN     6\n",
       "MS     6\n",
       "NE     6\n",
       "MA     5\n",
       "UT     5\n",
       "WI     5\n",
       "NM     5\n",
       "AR     4\n",
       "ID     4\n",
       "HI     4\n",
       "NV     3\n",
       "DE     2\n",
       "AK     2\n",
       "IA     2\n",
       "WV     2\n",
       "MT     2\n",
       "DC     1\n",
       "CT     1\n",
       "ME     1\n",
       "NH     1\n",
       "WY     1\n",
       "Name: name, dtype: int64"
      ]
     },
     "execution_count": 67,
     "metadata": {},
     "output_type": "execute_result"
    }
   ],
   "source": [
    "df_inner.groupby('state')['name'].count().sort_values(ascending = False)"
   ]
  },
  {
   "cell_type": "code",
   "execution_count": 68,
   "metadata": {},
   "outputs": [
    {
     "data": {
      "text/plain": [
       "467"
      ]
     },
     "execution_count": 68,
     "metadata": {},
     "output_type": "execute_result"
    }
   ],
   "source": [
    "len(df_inner)"
   ]
  },
  {
   "cell_type": "code",
   "execution_count": 69,
   "metadata": {},
   "outputs": [
    {
     "data": {
      "text/plain": [
       "0.4582441113490364"
      ]
     },
     "execution_count": 69,
     "metadata": {},
     "output_type": "execute_result"
    }
   ],
   "source": [
    "sum(killingsInHCStates)/len(df_inner)"
   ]
  },
  {
   "cell_type": "markdown",
   "metadata": {},
   "source": [
    "### Less than half (45.8%) of police killings are in states with high hate crime rates, no major correlation between hate crime and # of police killings"
   ]
  },
  {
   "cell_type": "markdown",
   "metadata": {},
   "source": [
    "### Are there more police killings in Trump states?\n",
    "Similar to hate_crimes for Trump states, group by state, count killings, and filter by share_voters_voted_trump<br>"
   ]
  },
  {
   "cell_type": "code",
   "execution_count": 70,
   "metadata": {},
   "outputs": [
    {
     "data": {
      "text/plain": [
       "state\n",
       "TX    46\n",
       "OK    22\n",
       "GA    16\n",
       "LA    11\n",
       "MO    10\n",
       "OH    10\n",
       "NC    10\n",
       "SC     9\n",
       "AL     8\n",
       "IN     8\n",
       "KY     7\n",
       "NE     6\n",
       "MS     6\n",
       "TN     6\n",
       "KS     6\n",
       "AR     4\n",
       "ID     4\n",
       "AK     2\n",
       "IA     2\n",
       "WV     2\n",
       "MT     2\n",
       "WY     1\n",
       "Name: name, dtype: int64"
      ]
     },
     "execution_count": 70,
     "metadata": {},
     "output_type": "execute_result"
    }
   ],
   "source": [
    "killingsInTrumpStates=df_inner[df_inner.share_voters_voted_trump>0.5].groupby('state')['name'].count()\n",
    "killingsInTrumpStates.sort_values(ascending = False)"
   ]
  },
  {
   "cell_type": "code",
   "execution_count": 71,
   "metadata": {},
   "outputs": [
    {
     "data": {
      "text/plain": [
       "198"
      ]
     },
     "execution_count": 71,
     "metadata": {},
     "output_type": "execute_result"
    }
   ],
   "source": [
    "killingsInTrumpStates.sum()"
   ]
  },
  {
   "cell_type": "code",
   "execution_count": 72,
   "metadata": {},
   "outputs": [
    {
     "data": {
      "text/plain": [
       "0.42398286937901497"
      ]
     },
     "execution_count": 72,
     "metadata": {},
     "output_type": "execute_result"
    }
   ],
   "source": [
    "killingsInTrumpStates.sum()/len(df_inner)"
   ]
  },
  {
   "cell_type": "markdown",
   "metadata": {},
   "source": [
    "### Less than half (42.4%) of police killings are in states with a Trump majority vote, similar to hate crimes. There is no correlation between a Trump majority vote and police killings or hate crimes, in fact there are negative correlations"
   ]
  },
  {
   "cell_type": "code",
   "execution_count": 73,
   "metadata": {},
   "outputs": [
    {
     "data": {
      "text/html": [
       "<div>\n",
       "<style scoped>\n",
       "    .dataframe tbody tr th:only-of-type {\n",
       "        vertical-align: middle;\n",
       "    }\n",
       "\n",
       "    .dataframe tbody tr th {\n",
       "        vertical-align: top;\n",
       "    }\n",
       "\n",
       "    .dataframe thead th {\n",
       "        text-align: right;\n",
       "    }\n",
       "</style>\n",
       "<table border=\"1\" class=\"dataframe\">\n",
       "  <thead>\n",
       "    <tr style=\"text-align: right;\">\n",
       "      <th></th>\n",
       "      <th>name</th>\n",
       "      <th>age</th>\n",
       "      <th>gender</th>\n",
       "      <th>raceethnicity</th>\n",
       "      <th>state</th>\n",
       "      <th>armed</th>\n",
       "      <th>pop</th>\n",
       "      <th>share_white</th>\n",
       "      <th>share_black</th>\n",
       "      <th>share_hispanic</th>\n",
       "      <th>...</th>\n",
       "      <th>median_household_income</th>\n",
       "      <th>share_unemployed_seasonal</th>\n",
       "      <th>share_population_in_metro_areas</th>\n",
       "      <th>share_population_with_high_school_degree</th>\n",
       "      <th>share_non_citizen</th>\n",
       "      <th>share_white_poverty</th>\n",
       "      <th>share_non_white</th>\n",
       "      <th>share_voters_voted_trump</th>\n",
       "      <th>hate_crimes_per_100k_splc</th>\n",
       "      <th>avg_hatecrimes_per_100k_fbi</th>\n",
       "    </tr>\n",
       "  </thead>\n",
       "  <tbody>\n",
       "    <tr>\n",
       "      <th>0</th>\n",
       "      <td>A'donte Washington</td>\n",
       "      <td>16</td>\n",
       "      <td>Male</td>\n",
       "      <td>Black</td>\n",
       "      <td>AL</td>\n",
       "      <td>0</td>\n",
       "      <td>3779</td>\n",
       "      <td>60.5</td>\n",
       "      <td>30.5</td>\n",
       "      <td>5.6</td>\n",
       "      <td>...</td>\n",
       "      <td>42278</td>\n",
       "      <td>0.06</td>\n",
       "      <td>0.64</td>\n",
       "      <td>0.821</td>\n",
       "      <td>0.02</td>\n",
       "      <td>0.12</td>\n",
       "      <td>0.35</td>\n",
       "      <td>0.63</td>\n",
       "      <td>0.125839</td>\n",
       "      <td>1.80641</td>\n",
       "    </tr>\n",
       "    <tr>\n",
       "      <th>1</th>\n",
       "      <td>Anthony Briggs</td>\n",
       "      <td>36</td>\n",
       "      <td>Male</td>\n",
       "      <td>Black</td>\n",
       "      <td>AL</td>\n",
       "      <td>1</td>\n",
       "      <td>6018</td>\n",
       "      <td>89.9</td>\n",
       "      <td>4.3</td>\n",
       "      <td>1.4</td>\n",
       "      <td>...</td>\n",
       "      <td>42278</td>\n",
       "      <td>0.06</td>\n",
       "      <td>0.64</td>\n",
       "      <td>0.821</td>\n",
       "      <td>0.02</td>\n",
       "      <td>0.12</td>\n",
       "      <td>0.35</td>\n",
       "      <td>0.63</td>\n",
       "      <td>0.125839</td>\n",
       "      <td>1.80641</td>\n",
       "    </tr>\n",
       "    <tr>\n",
       "      <th>2</th>\n",
       "      <td>Douglas Harris</td>\n",
       "      <td>77</td>\n",
       "      <td>Male</td>\n",
       "      <td>Black</td>\n",
       "      <td>AL</td>\n",
       "      <td>0</td>\n",
       "      <td>3708</td>\n",
       "      <td>22.2</td>\n",
       "      <td>77.8</td>\n",
       "      <td>1.5</td>\n",
       "      <td>...</td>\n",
       "      <td>42278</td>\n",
       "      <td>0.06</td>\n",
       "      <td>0.64</td>\n",
       "      <td>0.821</td>\n",
       "      <td>0.02</td>\n",
       "      <td>0.12</td>\n",
       "      <td>0.35</td>\n",
       "      <td>0.63</td>\n",
       "      <td>0.125839</td>\n",
       "      <td>1.80641</td>\n",
       "    </tr>\n",
       "    <tr>\n",
       "      <th>3</th>\n",
       "      <td>Fletcher Stewart</td>\n",
       "      <td>46</td>\n",
       "      <td>Male</td>\n",
       "      <td>White</td>\n",
       "      <td>AL</td>\n",
       "      <td>1</td>\n",
       "      <td>4720</td>\n",
       "      <td>66.2</td>\n",
       "      <td>30.9</td>\n",
       "      <td>0.1</td>\n",
       "      <td>...</td>\n",
       "      <td>42278</td>\n",
       "      <td>0.06</td>\n",
       "      <td>0.64</td>\n",
       "      <td>0.821</td>\n",
       "      <td>0.02</td>\n",
       "      <td>0.12</td>\n",
       "      <td>0.35</td>\n",
       "      <td>0.63</td>\n",
       "      <td>0.125839</td>\n",
       "      <td>1.80641</td>\n",
       "    </tr>\n",
       "    <tr>\n",
       "      <th>4</th>\n",
       "      <td>Gilbert Fleury</td>\n",
       "      <td>54</td>\n",
       "      <td>Male</td>\n",
       "      <td>White</td>\n",
       "      <td>AL</td>\n",
       "      <td>1</td>\n",
       "      <td>6971</td>\n",
       "      <td>82.8</td>\n",
       "      <td>15</td>\n",
       "      <td>0.4</td>\n",
       "      <td>...</td>\n",
       "      <td>42278</td>\n",
       "      <td>0.06</td>\n",
       "      <td>0.64</td>\n",
       "      <td>0.821</td>\n",
       "      <td>0.02</td>\n",
       "      <td>0.12</td>\n",
       "      <td>0.35</td>\n",
       "      <td>0.63</td>\n",
       "      <td>0.125839</td>\n",
       "      <td>1.80641</td>\n",
       "    </tr>\n",
       "  </tbody>\n",
       "</table>\n",
       "<p>5 rows × 26 columns</p>\n",
       "</div>"
      ],
      "text/plain": [
       "                 name age gender raceethnicity state armed   pop share_white  \\\n",
       "0  A'donte Washington  16   Male         Black    AL     0  3779        60.5   \n",
       "1      Anthony Briggs  36   Male         Black    AL     1  6018        89.9   \n",
       "2      Douglas Harris  77   Male         Black    AL     0  3708        22.2   \n",
       "3    Fletcher Stewart  46   Male         White    AL     1  4720        66.2   \n",
       "4      Gilbert Fleury  54   Male         White    AL     1  6971        82.8   \n",
       "\n",
       "  share_black share_hispanic  ...  median_household_income  \\\n",
       "0        30.5            5.6  ...                    42278   \n",
       "1         4.3            1.4  ...                    42278   \n",
       "2        77.8            1.5  ...                    42278   \n",
       "3        30.9            0.1  ...                    42278   \n",
       "4          15            0.4  ...                    42278   \n",
       "\n",
       "   share_unemployed_seasonal  share_population_in_metro_areas  \\\n",
       "0                       0.06                             0.64   \n",
       "1                       0.06                             0.64   \n",
       "2                       0.06                             0.64   \n",
       "3                       0.06                             0.64   \n",
       "4                       0.06                             0.64   \n",
       "\n",
       "  share_population_with_high_school_degree  share_non_citizen  \\\n",
       "0                                    0.821               0.02   \n",
       "1                                    0.821               0.02   \n",
       "2                                    0.821               0.02   \n",
       "3                                    0.821               0.02   \n",
       "4                                    0.821               0.02   \n",
       "\n",
       "   share_white_poverty  share_non_white  share_voters_voted_trump  \\\n",
       "0                 0.12             0.35                      0.63   \n",
       "1                 0.12             0.35                      0.63   \n",
       "2                 0.12             0.35                      0.63   \n",
       "3                 0.12             0.35                      0.63   \n",
       "4                 0.12             0.35                      0.63   \n",
       "\n",
       "   hate_crimes_per_100k_splc  avg_hatecrimes_per_100k_fbi  \n",
       "0                   0.125839                      1.80641  \n",
       "1                   0.125839                      1.80641  \n",
       "2                   0.125839                      1.80641  \n",
       "3                   0.125839                      1.80641  \n",
       "4                   0.125839                      1.80641  \n",
       "\n",
       "[5 rows x 26 columns]"
      ]
     },
     "execution_count": 73,
     "metadata": {},
     "output_type": "execute_result"
    }
   ],
   "source": [
    "df_inner.head()"
   ]
  },
  {
   "cell_type": "markdown",
   "metadata": {},
   "source": [
    "<b> Analyze the 10 states with largest # of police killings and see how many were 'Trump' states"
   ]
  },
  {
   "cell_type": "code",
   "execution_count": 74,
   "metadata": {},
   "outputs": [
    {
     "data": {
      "text/plain": [
       "state\n",
       "CA    74\n",
       "TX    46\n",
       "FL    29\n",
       "AZ    25\n",
       "OK    22\n",
       "GA    16\n",
       "NY    14\n",
       "CO    12\n",
       "NJ    11\n",
       "WA    11\n",
       "Name: name, dtype: int64"
      ]
     },
     "execution_count": 74,
     "metadata": {},
     "output_type": "execute_result"
    }
   ],
   "source": [
    "top10Killings=df_inner.groupby('state')['name'].count().sort_values(ascending = False).nlargest(10)\n",
    "top10Killings"
   ]
  },
  {
   "cell_type": "code",
   "execution_count": 75,
   "metadata": {
    "scrolled": true
   },
   "outputs": [
    {
     "data": {
      "text/plain": [
       "<matplotlib.axes._subplots.AxesSubplot at 0x1a200ba3d0>"
      ]
     },
     "execution_count": 75,
     "metadata": {},
     "output_type": "execute_result"
    },
    {
     "data": {
      "image/png": "[encoded data removed]",
      "text/plain": [
       "<Figure size 432x288 with 1 Axes>"
      ]
     },
     "metadata": {
      "needs_background": "light"
     },
     "output_type": "display_data"
    }
   ],
   "source": [
    "sns.barplot(top10Killings.index, top10Killings.values)"
   ]
  },
  {
   "cell_type": "markdown",
   "metadata": {},
   "source": [
    "<b>Among the 10 states with largest # of killings, only TX,OK, and GA had a Trump majority vote"
   ]
  },
  {
   "cell_type": "markdown",
   "metadata": {},
   "source": [
    "<b> Additional view to observe unrelated nature of hate crimes and police killings"
   ]
  },
  {
   "cell_type": "code",
   "execution_count": 76,
   "metadata": {},
   "outputs": [
    {
     "data": {
      "text/html": [
       "<div>\n",
       "<style scoped>\n",
       "    .dataframe tbody tr th:only-of-type {\n",
       "        vertical-align: middle;\n",
       "    }\n",
       "\n",
       "    .dataframe tbody tr th {\n",
       "        vertical-align: top;\n",
       "    }\n",
       "\n",
       "    .dataframe thead th {\n",
       "        text-align: right;\n",
       "    }\n",
       "</style>\n",
       "<table border=\"1\" class=\"dataframe\">\n",
       "  <thead>\n",
       "    <tr style=\"text-align: right;\">\n",
       "      <th></th>\n",
       "      <th>HateCrimeRate</th>\n",
       "      <th>NumKillings</th>\n",
       "    </tr>\n",
       "    <tr>\n",
       "      <th>state</th>\n",
       "      <th></th>\n",
       "      <th></th>\n",
       "    </tr>\n",
       "  </thead>\n",
       "  <tbody>\n",
       "    <tr>\n",
       "      <th>DC</th>\n",
       "      <td>10.953480</td>\n",
       "      <td>1</td>\n",
       "    </tr>\n",
       "    <tr>\n",
       "      <th>MA</th>\n",
       "      <td>4.801899</td>\n",
       "      <td>5</td>\n",
       "    </tr>\n",
       "    <tr>\n",
       "      <th>NJ</th>\n",
       "      <td>4.413203</td>\n",
       "      <td>11</td>\n",
       "    </tr>\n",
       "    <tr>\n",
       "      <th>KY</th>\n",
       "      <td>4.207890</td>\n",
       "      <td>7</td>\n",
       "    </tr>\n",
       "    <tr>\n",
       "      <th>WA</th>\n",
       "      <td>3.817740</td>\n",
       "      <td>11</td>\n",
       "    </tr>\n",
       "    <tr>\n",
       "      <th>CT</th>\n",
       "      <td>3.772701</td>\n",
       "      <td>1</td>\n",
       "    </tr>\n",
       "    <tr>\n",
       "      <th>MN</th>\n",
       "      <td>3.612412</td>\n",
       "      <td>6</td>\n",
       "    </tr>\n",
       "    <tr>\n",
       "      <th>AZ</th>\n",
       "      <td>3.413928</td>\n",
       "      <td>25</td>\n",
       "    </tr>\n",
       "    <tr>\n",
       "      <th>OR</th>\n",
       "      <td>3.394886</td>\n",
       "      <td>8</td>\n",
       "    </tr>\n",
       "    <tr>\n",
       "      <th>OH</th>\n",
       "      <td>3.240420</td>\n",
       "      <td>10</td>\n",
       "    </tr>\n",
       "  </tbody>\n",
       "</table>\n",
       "</div>"
      ],
      "text/plain": [
       "       HateCrimeRate  NumKillings\n",
       "state                            \n",
       "DC         10.953480            1\n",
       "MA          4.801899            5\n",
       "NJ          4.413203           11\n",
       "KY          4.207890            7\n",
       "WA          3.817740           11\n",
       "CT          3.772701            1\n",
       "MN          3.612412            6\n",
       "AZ          3.413928           25\n",
       "OR          3.394886            8\n",
       "OH          3.240420           10"
      ]
     },
     "execution_count": 76,
     "metadata": {},
     "output_type": "execute_result"
    }
   ],
   "source": [
    "stateInfo =df_inner.groupby('state')['avg_hatecrimes_per_100k_fbi'].agg(['mean','count']).rename(columns=\\\n",
    "        {'mean':'HateCrimeRate', 'count':'NumKillings'}).sort_values(by=\\\n",
    "        ['HateCrimeRate','NumKillings'],ascending= [False,False])\n",
    "stateInfo.head(10)"
   ]
  },
  {
   "cell_type": "code",
   "execution_count": 77,
   "metadata": {},
   "outputs": [
    {
     "data": {
      "text/html": [
       "<div>\n",
       "<style scoped>\n",
       "    .dataframe tbody tr th:only-of-type {\n",
       "        vertical-align: middle;\n",
       "    }\n",
       "\n",
       "    .dataframe tbody tr th {\n",
       "        vertical-align: top;\n",
       "    }\n",
       "\n",
       "    .dataframe thead th {\n",
       "        text-align: right;\n",
       "    }\n",
       "</style>\n",
       "<table border=\"1\" class=\"dataframe\">\n",
       "  <thead>\n",
       "    <tr style=\"text-align: right;\">\n",
       "      <th></th>\n",
       "      <th>HateCrimeRate</th>\n",
       "      <th>NumKillings</th>\n",
       "    </tr>\n",
       "  </thead>\n",
       "  <tbody>\n",
       "    <tr>\n",
       "      <th>HateCrimeRate</th>\n",
       "      <td>1.000000</td>\n",
       "      <td>-0.131661</td>\n",
       "    </tr>\n",
       "    <tr>\n",
       "      <th>NumKillings</th>\n",
       "      <td>-0.131661</td>\n",
       "      <td>1.000000</td>\n",
       "    </tr>\n",
       "  </tbody>\n",
       "</table>\n",
       "</div>"
      ],
      "text/plain": [
       "               HateCrimeRate  NumKillings\n",
       "HateCrimeRate       1.000000    -0.131661\n",
       "NumKillings        -0.131661     1.000000"
      ]
     },
     "execution_count": 77,
     "metadata": {},
     "output_type": "execute_result"
    }
   ],
   "source": [
    "stateInfo.corr()"
   ]
  },
  {
   "cell_type": "markdown",
   "metadata": {},
   "source": [
    "## -------------------------------------------------------------------------------------------------------"
   ]
  },
  {
   "cell_type": "markdown",
   "metadata": {},
   "source": [
    "# Clustering"
   ]
  },
  {
   "cell_type": "markdown",
   "metadata": {},
   "source": [
    "<b>Attempted cluster of the joined datasets"
   ]
  },
  {
   "cell_type": "code",
   "execution_count": 78,
   "metadata": {},
   "outputs": [
    {
     "data": {
      "text/html": [
       "<div>\n",
       "<style scoped>\n",
       "    .dataframe tbody tr th:only-of-type {\n",
       "        vertical-align: middle;\n",
       "    }\n",
       "\n",
       "    .dataframe tbody tr th {\n",
       "        vertical-align: top;\n",
       "    }\n",
       "\n",
       "    .dataframe thead th {\n",
       "        text-align: right;\n",
       "    }\n",
       "</style>\n",
       "<table border=\"1\" class=\"dataframe\">\n",
       "  <thead>\n",
       "    <tr style=\"text-align: right;\">\n",
       "      <th></th>\n",
       "      <th>name</th>\n",
       "      <th>age</th>\n",
       "      <th>gender</th>\n",
       "      <th>raceethnicity</th>\n",
       "      <th>state</th>\n",
       "      <th>armed</th>\n",
       "      <th>pop</th>\n",
       "      <th>share_white</th>\n",
       "      <th>share_black</th>\n",
       "      <th>share_hispanic</th>\n",
       "      <th>...</th>\n",
       "      <th>median_household_income</th>\n",
       "      <th>share_unemployed_seasonal</th>\n",
       "      <th>share_population_in_metro_areas</th>\n",
       "      <th>share_population_with_high_school_degree</th>\n",
       "      <th>share_non_citizen</th>\n",
       "      <th>share_white_poverty</th>\n",
       "      <th>share_non_white</th>\n",
       "      <th>share_voters_voted_trump</th>\n",
       "      <th>hate_crimes_per_100k_splc</th>\n",
       "      <th>avg_hatecrimes_per_100k_fbi</th>\n",
       "    </tr>\n",
       "  </thead>\n",
       "  <tbody>\n",
       "    <tr>\n",
       "      <th>0</th>\n",
       "      <td>A'donte Washington</td>\n",
       "      <td>16</td>\n",
       "      <td>Male</td>\n",
       "      <td>Black</td>\n",
       "      <td>AL</td>\n",
       "      <td>0</td>\n",
       "      <td>3779</td>\n",
       "      <td>60.5</td>\n",
       "      <td>30.5</td>\n",
       "      <td>5.6</td>\n",
       "      <td>...</td>\n",
       "      <td>42278</td>\n",
       "      <td>0.06</td>\n",
       "      <td>0.64</td>\n",
       "      <td>0.821</td>\n",
       "      <td>0.02</td>\n",
       "      <td>0.12</td>\n",
       "      <td>0.35</td>\n",
       "      <td>0.63</td>\n",
       "      <td>0.125839</td>\n",
       "      <td>1.80641</td>\n",
       "    </tr>\n",
       "    <tr>\n",
       "      <th>1</th>\n",
       "      <td>Anthony Briggs</td>\n",
       "      <td>36</td>\n",
       "      <td>Male</td>\n",
       "      <td>Black</td>\n",
       "      <td>AL</td>\n",
       "      <td>1</td>\n",
       "      <td>6018</td>\n",
       "      <td>89.9</td>\n",
       "      <td>4.3</td>\n",
       "      <td>1.4</td>\n",
       "      <td>...</td>\n",
       "      <td>42278</td>\n",
       "      <td>0.06</td>\n",
       "      <td>0.64</td>\n",
       "      <td>0.821</td>\n",
       "      <td>0.02</td>\n",
       "      <td>0.12</td>\n",
       "      <td>0.35</td>\n",
       "      <td>0.63</td>\n",
       "      <td>0.125839</td>\n",
       "      <td>1.80641</td>\n",
       "    </tr>\n",
       "    <tr>\n",
       "      <th>2</th>\n",
       "      <td>Douglas Harris</td>\n",
       "      <td>77</td>\n",
       "      <td>Male</td>\n",
       "      <td>Black</td>\n",
       "      <td>AL</td>\n",
       "      <td>0</td>\n",
       "      <td>3708</td>\n",
       "      <td>22.2</td>\n",
       "      <td>77.8</td>\n",
       "      <td>1.5</td>\n",
       "      <td>...</td>\n",
       "      <td>42278</td>\n",
       "      <td>0.06</td>\n",
       "      <td>0.64</td>\n",
       "      <td>0.821</td>\n",
       "      <td>0.02</td>\n",
       "      <td>0.12</td>\n",
       "      <td>0.35</td>\n",
       "      <td>0.63</td>\n",
       "      <td>0.125839</td>\n",
       "      <td>1.80641</td>\n",
       "    </tr>\n",
       "    <tr>\n",
       "      <th>3</th>\n",
       "      <td>Fletcher Stewart</td>\n",
       "      <td>46</td>\n",
       "      <td>Male</td>\n",
       "      <td>White</td>\n",
       "      <td>AL</td>\n",
       "      <td>1</td>\n",
       "      <td>4720</td>\n",
       "      <td>66.2</td>\n",
       "      <td>30.9</td>\n",
       "      <td>0.1</td>\n",
       "      <td>...</td>\n",
       "      <td>42278</td>\n",
       "      <td>0.06</td>\n",
       "      <td>0.64</td>\n",
       "      <td>0.821</td>\n",
       "      <td>0.02</td>\n",
       "      <td>0.12</td>\n",
       "      <td>0.35</td>\n",
       "      <td>0.63</td>\n",
       "      <td>0.125839</td>\n",
       "      <td>1.80641</td>\n",
       "    </tr>\n",
       "    <tr>\n",
       "      <th>4</th>\n",
       "      <td>Gilbert Fleury</td>\n",
       "      <td>54</td>\n",
       "      <td>Male</td>\n",
       "      <td>White</td>\n",
       "      <td>AL</td>\n",
       "      <td>1</td>\n",
       "      <td>6971</td>\n",
       "      <td>82.8</td>\n",
       "      <td>15</td>\n",
       "      <td>0.4</td>\n",
       "      <td>...</td>\n",
       "      <td>42278</td>\n",
       "      <td>0.06</td>\n",
       "      <td>0.64</td>\n",
       "      <td>0.821</td>\n",
       "      <td>0.02</td>\n",
       "      <td>0.12</td>\n",
       "      <td>0.35</td>\n",
       "      <td>0.63</td>\n",
       "      <td>0.125839</td>\n",
       "      <td>1.80641</td>\n",
       "    </tr>\n",
       "  </tbody>\n",
       "</table>\n",
       "<p>5 rows × 26 columns</p>\n",
       "</div>"
      ],
      "text/plain": [
       "                 name age gender raceethnicity state armed   pop share_white  \\\n",
       "0  A'donte Washington  16   Male         Black    AL     0  3779        60.5   \n",
       "1      Anthony Briggs  36   Male         Black    AL     1  6018        89.9   \n",
       "2      Douglas Harris  77   Male         Black    AL     0  3708        22.2   \n",
       "3    Fletcher Stewart  46   Male         White    AL     1  4720        66.2   \n",
       "4      Gilbert Fleury  54   Male         White    AL     1  6971        82.8   \n",
       "\n",
       "  share_black share_hispanic  ...  median_household_income  \\\n",
       "0        30.5            5.6  ...                    42278   \n",
       "1         4.3            1.4  ...                    42278   \n",
       "2        77.8            1.5  ...                    42278   \n",
       "3        30.9            0.1  ...                    42278   \n",
       "4          15            0.4  ...                    42278   \n",
       "\n",
       "   share_unemployed_seasonal  share_population_in_metro_areas  \\\n",
       "0                       0.06                             0.64   \n",
       "1                       0.06                             0.64   \n",
       "2                       0.06                             0.64   \n",
       "3                       0.06                             0.64   \n",
       "4                       0.06                             0.64   \n",
       "\n",
       "  share_population_with_high_school_degree  share_non_citizen  \\\n",
       "0                                    0.821               0.02   \n",
       "1                                    0.821               0.02   \n",
       "2                                    0.821               0.02   \n",
       "3                                    0.821               0.02   \n",
       "4                                    0.821               0.02   \n",
       "\n",
       "   share_white_poverty  share_non_white  share_voters_voted_trump  \\\n",
       "0                 0.12             0.35                      0.63   \n",
       "1                 0.12             0.35                      0.63   \n",
       "2                 0.12             0.35                      0.63   \n",
       "3                 0.12             0.35                      0.63   \n",
       "4                 0.12             0.35                      0.63   \n",
       "\n",
       "   hate_crimes_per_100k_splc  avg_hatecrimes_per_100k_fbi  \n",
       "0                   0.125839                      1.80641  \n",
       "1                   0.125839                      1.80641  \n",
       "2                   0.125839                      1.80641  \n",
       "3                   0.125839                      1.80641  \n",
       "4                   0.125839                      1.80641  \n",
       "\n",
       "[5 rows x 26 columns]"
      ]
     },
     "execution_count": 78,
     "metadata": {},
     "output_type": "execute_result"
    }
   ],
   "source": [
    "df_inner.head()"
   ]
  },
  {
   "cell_type": "code",
   "execution_count": 79,
   "metadata": {},
   "outputs": [],
   "source": [
    "dfCluster = df_inner.copy()"
   ]
  },
  {
   "cell_type": "code",
   "execution_count": 80,
   "metadata": {},
   "outputs": [],
   "source": [
    "dfCluster = pd.get_dummies(columns=['raceethnicity'],data=dfCluster)"
   ]
  },
  {
   "cell_type": "code",
   "execution_count": 81,
   "metadata": {},
   "outputs": [],
   "source": [
    "dfCluster = pd.get_dummies(columns=['gender'],data=dfCluster)"
   ]
  },
  {
   "cell_type": "code",
   "execution_count": 82,
   "metadata": {},
   "outputs": [],
   "source": [
    "dfCluster.drop(['raceethnicity_Unknown','hate_crimes_per_100k_splc','name',\\\n",
    "               'raceethnicity_Asian/Pacific Islander','state',\\\n",
    "              'raceethnicity_Native American','share_unemployed_seasonal']\\\n",
    "              ,axis=1,inplace=True)"
   ]
  },
  {
   "cell_type": "code",
   "execution_count": 83,
   "metadata": {},
   "outputs": [],
   "source": [
    "#household income and county income are less accurate than median_household_income\n",
    "#nat_bucket and share_non_citizen arent relevant\n",
    "dfCluster.drop(['h_income','nat_bucket','share_non_citizen','county_income'],axis=1,inplace=True)"
   ]
  },
  {
   "cell_type": "code",
   "execution_count": 84,
   "metadata": {},
   "outputs": [],
   "source": [
    "dfCluster.drop(['college','share_population_with_high_school_degree',\\\n",
    "                'share_white_poverty','raceethnicity_Hispanic/Latino',\\\n",
    "               'gender_Female','gender_Male','share_non_white'],axis=1,inplace=True)"
   ]
  },
  {
   "cell_type": "markdown",
   "metadata": {},
   "source": [
    "<b> Additional data cleaning to remove non-numerical values and NaN"
   ]
  },
  {
   "cell_type": "code",
   "execution_count": 85,
   "metadata": {},
   "outputs": [],
   "source": [
    "dfCluster = dfCluster[dfCluster.age != 'Unknown']\n",
    "dfCluster = dfCluster[dfCluster.pov != '-']\n",
    "dfCluster = dfCluster[dfCluster.armed != 'Disputed']"
   ]
  },
  {
   "cell_type": "code",
   "execution_count": 86,
   "metadata": {},
   "outputs": [],
   "source": [
    "from sklearn.cluster import KMeans"
   ]
  },
  {
   "cell_type": "code",
   "execution_count": 87,
   "metadata": {},
   "outputs": [],
   "source": [
    "clu = KMeans(n_clusters=2, random_state=0)"
   ]
  },
  {
   "cell_type": "code",
   "execution_count": 88,
   "metadata": {},
   "outputs": [],
   "source": [
    "#fill remaining NA values with mean\n",
    "urate_mean = dfCluster.urate.mean()\n",
    "dfCluster.urate.fillna(urate_mean, inplace=True)\n",
    "\n",
    "hc_mean = dfCluster.avg_hatecrimes_per_100k_fbi.mean()\n",
    "dfCluster.avg_hatecrimes_per_100k_fbi.fillna(hc_mean, inplace=True)"
   ]
  },
  {
   "cell_type": "code",
   "execution_count": 89,
   "metadata": {},
   "outputs": [
    {
     "data": {
      "text/plain": [
       "KMeans(algorithm='auto', copy_x=True, init='k-means++', max_iter=300,\n",
       "       n_clusters=2, n_init=10, n_jobs=None, precompute_distances='auto',\n",
       "       random_state=0, tol=0.0001, verbose=0)"
      ]
     },
     "execution_count": 89,
     "metadata": {},
     "output_type": "execute_result"
    }
   ],
   "source": [
    "clu.fit(dfCluster)"
   ]
  },
  {
   "cell_type": "code",
   "execution_count": 90,
   "metadata": {},
   "outputs": [
    {
     "data": {
      "text/plain": [
       "array([0, 0, 0, 0, 0, 0, 0, 0, 0, 0, 0, 0, 0, 0, 0, 0, 0, 0, 1, 1, 1, 1,\n",
       "       1, 1, 1, 1, 1, 1, 1, 1, 1, 1, 1, 1, 1, 1, 1, 1, 1, 1, 1, 1, 1, 1,\n",
       "       1, 1, 1, 1, 1, 1, 1, 1, 1, 1, 1, 1, 1, 1, 1, 1, 1, 1, 1, 1, 1, 1,\n",
       "       1, 1, 1, 1, 1, 1, 1, 1, 1, 1, 1, 1, 1, 1, 1, 1, 1, 1, 1, 1, 1, 1,\n",
       "       1, 1, 1, 1, 1, 1, 1, 1, 0, 0, 0, 0, 0, 0, 0, 0, 0, 0, 0, 0, 0, 0,\n",
       "       0, 0, 0, 0, 0, 0, 0, 0, 0, 0, 0, 0, 0, 0, 0, 0, 0, 0, 0, 0, 0, 0,\n",
       "       0, 0, 0, 0, 0, 0, 0, 0, 0, 0, 0, 0, 0, 0, 0, 0, 0, 0, 0, 0, 0, 0,\n",
       "       0, 0, 0, 0, 0, 0, 0, 0, 0, 0, 0, 0, 0, 0, 0, 0, 0, 0, 0, 0, 0, 0,\n",
       "       0, 0, 0, 0, 0, 0, 0, 0, 0, 0, 0, 0, 0, 0, 0, 0, 0, 0, 0, 0, 0, 0,\n",
       "       0, 0, 0, 0, 0, 0, 0, 0, 0, 0, 0, 0, 0, 0, 1, 1, 1, 1, 1, 1, 1, 1,\n",
       "       1, 1, 1, 1, 1, 1, 1, 0, 0, 0, 0, 0, 0, 0, 0, 0, 0, 0, 0, 0, 0, 0,\n",
       "       0, 0, 0, 0, 0, 0, 0, 0, 0, 0, 0, 0, 0, 1, 1, 1, 1, 1, 1, 1, 1, 1,\n",
       "       0, 0, 0, 0, 0, 0, 0, 0, 0, 0, 0, 0, 0, 0, 0, 0, 0, 0, 0, 0, 0, 0,\n",
       "       0, 0, 0, 0, 0, 0, 0, 1, 1, 1, 1, 1, 0, 0, 0, 0, 0, 0, 0, 1, 1, 1,\n",
       "       1, 1, 1, 1, 1, 1, 1, 1, 0, 0, 0, 0, 1, 1, 0, 0, 0, 0, 0, 0, 0, 0,\n",
       "       0, 0, 0, 0, 0, 0, 0, 1, 0, 0, 0, 0, 1, 1, 1, 1, 1, 1, 1, 1, 1, 1,\n",
       "       1, 1, 1, 1, 1, 1, 0, 0, 0, 0, 0, 0, 0, 0, 0, 0, 0, 0, 0, 0, 0, 0,\n",
       "       0, 0, 1, 1, 1, 1, 1, 1, 1, 1, 1, 1, 1, 1, 1, 1, 1, 1, 1, 1, 1, 1,\n",
       "       1, 1, 1, 1, 1, 0, 0, 0, 0, 0, 0, 0, 0, 0, 0, 0, 0, 0, 1, 1, 1, 1,\n",
       "       1, 1, 1, 1, 1, 1, 1, 0, 0, 0, 0, 0, 0, 0, 0, 0, 0, 0, 1, 0, 0, 0,\n",
       "       0, 0, 0, 0, 0, 0, 0, 0, 1, 1, 1, 1, 1, 1, 1, 1, 0, 1, 1, 1],\n",
       "      dtype=int32)"
      ]
     },
     "execution_count": 90,
     "metadata": {},
     "output_type": "execute_result"
    }
   ],
   "source": [
    "clu.labels_"
   ]
  },
  {
   "cell_type": "code",
   "execution_count": 91,
   "metadata": {},
   "outputs": [],
   "source": [
    "dfC = dfCluster.copy()\n",
    "dfC['cluster']=clu.labels_"
   ]
  },
  {
   "cell_type": "code",
   "execution_count": 92,
   "metadata": {},
   "outputs": [
    {
     "data": {
      "text/html": [
       "<div>\n",
       "<style scoped>\n",
       "    .dataframe tbody tr th:only-of-type {\n",
       "        vertical-align: middle;\n",
       "    }\n",
       "\n",
       "    .dataframe tbody tr th {\n",
       "        vertical-align: top;\n",
       "    }\n",
       "\n",
       "    .dataframe thead th {\n",
       "        text-align: right;\n",
       "    }\n",
       "</style>\n",
       "<table border=\"1\" class=\"dataframe\">\n",
       "  <thead>\n",
       "    <tr style=\"text-align: right;\">\n",
       "      <th></th>\n",
       "      <th>pop</th>\n",
       "      <th>urate</th>\n",
       "      <th>median_household_income</th>\n",
       "      <th>share_population_in_metro_areas</th>\n",
       "      <th>share_voters_voted_trump</th>\n",
       "      <th>avg_hatecrimes_per_100k_fbi</th>\n",
       "      <th>raceethnicity_Black</th>\n",
       "      <th>raceethnicity_White</th>\n",
       "    </tr>\n",
       "    <tr>\n",
       "      <th>cluster</th>\n",
       "      <th></th>\n",
       "      <th></th>\n",
       "      <th></th>\n",
       "      <th></th>\n",
       "      <th></th>\n",
       "      <th></th>\n",
       "      <th></th>\n",
       "      <th></th>\n",
       "    </tr>\n",
       "  </thead>\n",
       "  <tbody>\n",
       "    <tr>\n",
       "      <th>0</th>\n",
       "      <td>4742.167273</td>\n",
       "      <td>0.117246</td>\n",
       "      <td>48918.243636</td>\n",
       "      <td>0.808582</td>\n",
       "      <td>0.527345</td>\n",
       "      <td>1.663375</td>\n",
       "      <td>0.294545</td>\n",
       "      <td>0.556364</td>\n",
       "    </tr>\n",
       "    <tr>\n",
       "      <th>1</th>\n",
       "      <td>4828.962162</td>\n",
       "      <td>0.118587</td>\n",
       "      <td>62133.459459</td>\n",
       "      <td>0.886595</td>\n",
       "      <td>0.395730</td>\n",
       "      <td>2.628553</td>\n",
       "      <td>0.281081</td>\n",
       "      <td>0.443243</td>\n",
       "    </tr>\n",
       "  </tbody>\n",
       "</table>\n",
       "</div>"
      ],
      "text/plain": [
       "                 pop     urate  median_household_income  \\\n",
       "cluster                                                   \n",
       "0        4742.167273  0.117246             48918.243636   \n",
       "1        4828.962162  0.118587             62133.459459   \n",
       "\n",
       "         share_population_in_metro_areas  share_voters_voted_trump  \\\n",
       "cluster                                                              \n",
       "0                               0.808582                  0.527345   \n",
       "1                               0.886595                  0.395730   \n",
       "\n",
       "         avg_hatecrimes_per_100k_fbi  raceethnicity_Black  raceethnicity_White  \n",
       "cluster                                                                         \n",
       "0                           1.663375             0.294545             0.556364  \n",
       "1                           2.628553             0.281081             0.443243  "
      ]
     },
     "execution_count": 92,
     "metadata": {},
     "output_type": "execute_result"
    }
   ],
   "source": [
    "dfC.groupby('cluster').mean()"
   ]
  },
  {
   "cell_type": "code",
   "execution_count": 93,
   "metadata": {},
   "outputs": [
    {
     "data": {
      "text/plain": [
       "275"
      ]
     },
     "execution_count": 93,
     "metadata": {},
     "output_type": "execute_result"
    }
   ],
   "source": [
    "len(clu.labels_[clu.labels_==0])"
   ]
  },
  {
   "cell_type": "code",
   "execution_count": 94,
   "metadata": {},
   "outputs": [
    {
     "data": {
      "text/plain": [
       "185"
      ]
     },
     "execution_count": 94,
     "metadata": {},
     "output_type": "execute_result"
    }
   ],
   "source": [
    "len(clu.labels_[clu.labels_==1])"
   ]
  },
  {
   "cell_type": "code",
   "execution_count": 95,
   "metadata": {},
   "outputs": [
    {
     "data": {
      "text/plain": [
       "0.5978260869565217"
      ]
     },
     "execution_count": 95,
     "metadata": {},
     "output_type": "execute_result"
    }
   ],
   "source": [
    "len(clu.labels_[clu.labels_==0])/len(clu.labels_)"
   ]
  },
  {
   "cell_type": "markdown",
   "metadata": {},
   "source": [
    "<b>This cluster shows more killings occured in states with lower household income and a larger trump vote but with lower average hate crimes"
   ]
  },
  {
   "cell_type": "markdown",
   "metadata": {},
   "source": [
    "<b> The componenet of Trump states having more police killings contradics our more direct analysis"
   ]
  },
  {
   "cell_type": "markdown",
   "metadata": {},
   "source": [
    "# Clustering of hate_crimes"
   ]
  },
  {
   "cell_type": "code",
   "execution_count": 96,
   "metadata": {},
   "outputs": [],
   "source": [
    "dfHC = df.copy()"
   ]
  },
  {
   "cell_type": "code",
   "execution_count": 97,
   "metadata": {},
   "outputs": [
    {
     "data": {
      "text/html": [
       "<div>\n",
       "<style scoped>\n",
       "    .dataframe tbody tr th:only-of-type {\n",
       "        vertical-align: middle;\n",
       "    }\n",
       "\n",
       "    .dataframe tbody tr th {\n",
       "        vertical-align: top;\n",
       "    }\n",
       "\n",
       "    .dataframe thead th {\n",
       "        text-align: right;\n",
       "    }\n",
       "</style>\n",
       "<table border=\"1\" class=\"dataframe\">\n",
       "  <thead>\n",
       "    <tr style=\"text-align: right;\">\n",
       "      <th></th>\n",
       "      <th>state</th>\n",
       "      <th>median_household_income</th>\n",
       "      <th>share_unemployed_seasonal</th>\n",
       "      <th>share_population_in_metro_areas</th>\n",
       "      <th>share_population_with_high_school_degree</th>\n",
       "      <th>share_non_citizen</th>\n",
       "      <th>share_white_poverty</th>\n",
       "      <th>share_non_white</th>\n",
       "      <th>share_voters_voted_trump</th>\n",
       "      <th>hate_crimes_per_100k_splc</th>\n",
       "      <th>avg_hatecrimes_per_100k_fbi</th>\n",
       "    </tr>\n",
       "  </thead>\n",
       "  <tbody>\n",
       "    <tr>\n",
       "      <th>0</th>\n",
       "      <td>AL</td>\n",
       "      <td>42278</td>\n",
       "      <td>0.060</td>\n",
       "      <td>0.64</td>\n",
       "      <td>0.821</td>\n",
       "      <td>0.02</td>\n",
       "      <td>0.12</td>\n",
       "      <td>0.35</td>\n",
       "      <td>0.63</td>\n",
       "      <td>0.125839</td>\n",
       "      <td>1.806410</td>\n",
       "    </tr>\n",
       "    <tr>\n",
       "      <th>1</th>\n",
       "      <td>AK</td>\n",
       "      <td>67629</td>\n",
       "      <td>0.064</td>\n",
       "      <td>0.63</td>\n",
       "      <td>0.914</td>\n",
       "      <td>0.04</td>\n",
       "      <td>0.06</td>\n",
       "      <td>0.42</td>\n",
       "      <td>0.53</td>\n",
       "      <td>0.143740</td>\n",
       "      <td>1.656700</td>\n",
       "    </tr>\n",
       "    <tr>\n",
       "      <th>2</th>\n",
       "      <td>AZ</td>\n",
       "      <td>49254</td>\n",
       "      <td>0.063</td>\n",
       "      <td>0.90</td>\n",
       "      <td>0.842</td>\n",
       "      <td>0.10</td>\n",
       "      <td>0.09</td>\n",
       "      <td>0.49</td>\n",
       "      <td>0.50</td>\n",
       "      <td>0.225320</td>\n",
       "      <td>3.413928</td>\n",
       "    </tr>\n",
       "    <tr>\n",
       "      <th>3</th>\n",
       "      <td>AR</td>\n",
       "      <td>44922</td>\n",
       "      <td>0.052</td>\n",
       "      <td>0.69</td>\n",
       "      <td>0.824</td>\n",
       "      <td>0.04</td>\n",
       "      <td>0.12</td>\n",
       "      <td>0.26</td>\n",
       "      <td>0.60</td>\n",
       "      <td>0.069061</td>\n",
       "      <td>0.869209</td>\n",
       "    </tr>\n",
       "    <tr>\n",
       "      <th>4</th>\n",
       "      <td>CA</td>\n",
       "      <td>60487</td>\n",
       "      <td>0.059</td>\n",
       "      <td>0.97</td>\n",
       "      <td>0.806</td>\n",
       "      <td>0.13</td>\n",
       "      <td>0.09</td>\n",
       "      <td>0.61</td>\n",
       "      <td>0.33</td>\n",
       "      <td>0.255805</td>\n",
       "      <td>2.397986</td>\n",
       "    </tr>\n",
       "  </tbody>\n",
       "</table>\n",
       "</div>"
      ],
      "text/plain": [
       "  state  median_household_income  share_unemployed_seasonal  \\\n",
       "0    AL                    42278                      0.060   \n",
       "1    AK                    67629                      0.064   \n",
       "2    AZ                    49254                      0.063   \n",
       "3    AR                    44922                      0.052   \n",
       "4    CA                    60487                      0.059   \n",
       "\n",
       "   share_population_in_metro_areas  share_population_with_high_school_degree  \\\n",
       "0                             0.64                                     0.821   \n",
       "1                             0.63                                     0.914   \n",
       "2                             0.90                                     0.842   \n",
       "3                             0.69                                     0.824   \n",
       "4                             0.97                                     0.806   \n",
       "\n",
       "   share_non_citizen  share_white_poverty  share_non_white  \\\n",
       "0               0.02                 0.12             0.35   \n",
       "1               0.04                 0.06             0.42   \n",
       "2               0.10                 0.09             0.49   \n",
       "3               0.04                 0.12             0.26   \n",
       "4               0.13                 0.09             0.61   \n",
       "\n",
       "   share_voters_voted_trump  hate_crimes_per_100k_splc  \\\n",
       "0                      0.63                   0.125839   \n",
       "1                      0.53                   0.143740   \n",
       "2                      0.50                   0.225320   \n",
       "3                      0.60                   0.069061   \n",
       "4                      0.33                   0.255805   \n",
       "\n",
       "   avg_hatecrimes_per_100k_fbi  \n",
       "0                     1.806410  \n",
       "1                     1.656700  \n",
       "2                     3.413928  \n",
       "3                     0.869209  \n",
       "4                     2.397986  "
      ]
     },
     "execution_count": 97,
     "metadata": {},
     "output_type": "execute_result"
    }
   ],
   "source": [
    "dfHC.head()"
   ]
  },
  {
   "cell_type": "code",
   "execution_count": 98,
   "metadata": {},
   "outputs": [],
   "source": [
    "dfHC.drop(['share_unemployed_seasonal','hate_crimes_per_100k_splc'],axis=1,inplace=True)"
   ]
  },
  {
   "cell_type": "code",
   "execution_count": 99,
   "metadata": {},
   "outputs": [],
   "source": [
    "dfHC.drop(['share_non_citizen'],axis=1,inplace=True)"
   ]
  },
  {
   "cell_type": "code",
   "execution_count": 100,
   "metadata": {},
   "outputs": [],
   "source": [
    "dfHC.drop('state',axis=1,inplace=True)"
   ]
  },
  {
   "cell_type": "code",
   "execution_count": 101,
   "metadata": {},
   "outputs": [],
   "source": [
    "hc_mean = dfHC.avg_hatecrimes_per_100k_fbi.mean()\n",
    "dfHC.avg_hatecrimes_per_100k_fbi.fillna(hc_mean, inplace=True)"
   ]
  },
  {
   "cell_type": "code",
   "execution_count": 102,
   "metadata": {},
   "outputs": [],
   "source": [
    "clu2 = KMeans(n_clusters=3, random_state=0)"
   ]
  },
  {
   "cell_type": "code",
   "execution_count": 103,
   "metadata": {},
   "outputs": [
    {
     "data": {
      "text/plain": [
       "KMeans(algorithm='auto', copy_x=True, init='k-means++', max_iter=300,\n",
       "       n_clusters=3, n_init=10, n_jobs=None, precompute_distances='auto',\n",
       "       random_state=0, tol=0.0001, verbose=0)"
      ]
     },
     "execution_count": 103,
     "metadata": {},
     "output_type": "execute_result"
    }
   ],
   "source": [
    "clu2.fit(dfHC)"
   ]
  },
  {
   "cell_type": "code",
   "execution_count": 104,
   "metadata": {},
   "outputs": [
    {
     "data": {
      "text/plain": [
       "array([2, 1, 2, 2, 0, 0, 1, 0, 1, 2, 2, 1, 0, 0, 2, 0, 0, 2, 2, 0, 1, 1,\n",
       "       0, 1, 2, 0, 0, 0, 2, 1, 1, 2, 0, 2, 0, 2, 2, 0, 0, 0, 2, 0, 2, 0,\n",
       "       1, 0, 1, 0, 2, 0, 0], dtype=int32)"
      ]
     },
     "execution_count": 104,
     "metadata": {},
     "output_type": "execute_result"
    }
   ],
   "source": [
    "clu2.labels_"
   ]
  },
  {
   "cell_type": "code",
   "execution_count": 105,
   "metadata": {},
   "outputs": [],
   "source": [
    "dfC2 = dfHC.copy()\n",
    "dfC2['cluster']=clu2.labels_"
   ]
  },
  {
   "cell_type": "code",
   "execution_count": 106,
   "metadata": {},
   "outputs": [
    {
     "data": {
      "text/html": [
       "<div>\n",
       "<style scoped>\n",
       "    .dataframe tbody tr th:only-of-type {\n",
       "        vertical-align: middle;\n",
       "    }\n",
       "\n",
       "    .dataframe tbody tr th {\n",
       "        vertical-align: top;\n",
       "    }\n",
       "\n",
       "    .dataframe thead th {\n",
       "        text-align: right;\n",
       "    }\n",
       "</style>\n",
       "<table border=\"1\" class=\"dataframe\">\n",
       "  <thead>\n",
       "    <tr style=\"text-align: right;\">\n",
       "      <th></th>\n",
       "      <th>median_household_income</th>\n",
       "      <th>share_population_in_metro_areas</th>\n",
       "      <th>share_population_with_high_school_degree</th>\n",
       "      <th>share_white_poverty</th>\n",
       "      <th>share_non_white</th>\n",
       "      <th>share_voters_voted_trump</th>\n",
       "      <th>avg_hatecrimes_per_100k_fbi</th>\n",
       "    </tr>\n",
       "    <tr>\n",
       "      <th>cluster</th>\n",
       "      <th></th>\n",
       "      <th></th>\n",
       "      <th></th>\n",
       "      <th></th>\n",
       "      <th></th>\n",
       "      <th></th>\n",
       "      <th></th>\n",
       "    </tr>\n",
       "  </thead>\n",
       "  <tbody>\n",
       "    <tr>\n",
       "      <th>0</th>\n",
       "      <td>56307.347826</td>\n",
       "      <td>0.715652</td>\n",
       "      <td>0.881435</td>\n",
       "      <td>0.089565</td>\n",
       "      <td>0.255652</td>\n",
       "      <td>0.490435</td>\n",
       "      <td>2.165497</td>\n",
       "    </tr>\n",
       "    <tr>\n",
       "      <th>1</th>\n",
       "      <td>68366.181818</td>\n",
       "      <td>0.850909</td>\n",
       "      <td>0.893364</td>\n",
       "      <td>0.063636</td>\n",
       "      <td>0.382727</td>\n",
       "      <td>0.384545</td>\n",
       "      <td>3.556151</td>\n",
       "    </tr>\n",
       "    <tr>\n",
       "      <th>2</th>\n",
       "      <td>45253.352941</td>\n",
       "      <td>0.731765</td>\n",
       "      <td>0.836765</td>\n",
       "      <td>0.112941</td>\n",
       "      <td>0.353529</td>\n",
       "      <td>0.557647</td>\n",
       "      <td>1.872010</td>\n",
       "    </tr>\n",
       "  </tbody>\n",
       "</table>\n",
       "</div>"
      ],
      "text/plain": [
       "         median_household_income  share_population_in_metro_areas  \\\n",
       "cluster                                                             \n",
       "0                   56307.347826                         0.715652   \n",
       "1                   68366.181818                         0.850909   \n",
       "2                   45253.352941                         0.731765   \n",
       "\n",
       "         share_population_with_high_school_degree  share_white_poverty  \\\n",
       "cluster                                                                  \n",
       "0                                        0.881435             0.089565   \n",
       "1                                        0.893364             0.063636   \n",
       "2                                        0.836765             0.112941   \n",
       "\n",
       "         share_non_white  share_voters_voted_trump  \\\n",
       "cluster                                              \n",
       "0               0.255652                  0.490435   \n",
       "1               0.382727                  0.384545   \n",
       "2               0.353529                  0.557647   \n",
       "\n",
       "         avg_hatecrimes_per_100k_fbi  \n",
       "cluster                               \n",
       "0                           2.165497  \n",
       "1                           3.556151  \n",
       "2                           1.872010  "
      ]
     },
     "execution_count": 106,
     "metadata": {},
     "output_type": "execute_result"
    }
   ],
   "source": [
    "dfC2.groupby('cluster').mean()"
   ]
  },
  {
   "cell_type": "markdown",
   "metadata": {},
   "source": [
    "<b>Highest income states - most hate crimes, lower trump vote, larger metro areas"
   ]
  },
  {
   "cell_type": "markdown",
   "metadata": {},
   "source": [
    "<b> Lowest income states - lowest hate crimes, highest trump vote, more rural"
   ]
  },
  {
   "cell_type": "code",
   "execution_count": 107,
   "metadata": {},
   "outputs": [
    {
     "data": {
      "text/html": [
       "<div>\n",
       "<style scoped>\n",
       "    .dataframe tbody tr th:only-of-type {\n",
       "        vertical-align: middle;\n",
       "    }\n",
       "\n",
       "    .dataframe tbody tr th {\n",
       "        vertical-align: top;\n",
       "    }\n",
       "\n",
       "    .dataframe thead th {\n",
       "        text-align: right;\n",
       "    }\n",
       "</style>\n",
       "<table border=\"1\" class=\"dataframe\">\n",
       "  <thead>\n",
       "    <tr style=\"text-align: right;\">\n",
       "      <th></th>\n",
       "      <th>median_household_income</th>\n",
       "      <th>share_unemployed_seasonal</th>\n",
       "      <th>share_population_in_metro_areas</th>\n",
       "      <th>share_population_with_high_school_degree</th>\n",
       "      <th>share_non_citizen</th>\n",
       "      <th>share_white_poverty</th>\n",
       "      <th>share_non_white</th>\n",
       "      <th>share_voters_voted_trump</th>\n",
       "      <th>hate_crimes_per_100k_splc</th>\n",
       "      <th>avg_hatecrimes_per_100k_fbi</th>\n",
       "    </tr>\n",
       "  </thead>\n",
       "  <tbody>\n",
       "    <tr>\n",
       "      <th>median_household_income</th>\n",
       "      <td>1.000000</td>\n",
       "      <td>-0.376722</td>\n",
       "      <td>0.286480</td>\n",
       "      <td>0.653490</td>\n",
       "      <td>0.302288</td>\n",
       "      <td>-0.818045</td>\n",
       "      <td>0.103775</td>\n",
       "      <td>-0.597528</td>\n",
       "      <td>0.350714</td>\n",
       "      <td>0.318246</td>\n",
       "    </tr>\n",
       "    <tr>\n",
       "      <th>share_unemployed_seasonal</th>\n",
       "      <td>-0.376722</td>\n",
       "      <td>1.000000</td>\n",
       "      <td>0.358113</td>\n",
       "      <td>-0.621168</td>\n",
       "      <td>0.278899</td>\n",
       "      <td>0.209440</td>\n",
       "      <td>0.431847</td>\n",
       "      <td>-0.148192</td>\n",
       "      <td>0.083292</td>\n",
       "      <td>0.073936</td>\n",
       "    </tr>\n",
       "    <tr>\n",
       "      <th>share_population_in_metro_areas</th>\n",
       "      <td>0.286480</td>\n",
       "      <td>0.358113</td>\n",
       "      <td>1.000000</td>\n",
       "      <td>-0.268846</td>\n",
       "      <td>0.745464</td>\n",
       "      <td>-0.385559</td>\n",
       "      <td>0.547672</td>\n",
       "      <td>-0.570695</td>\n",
       "      <td>0.162217</td>\n",
       "      <td>0.209827</td>\n",
       "    </tr>\n",
       "    <tr>\n",
       "      <th>share_population_with_high_school_degree</th>\n",
       "      <td>0.653490</td>\n",
       "      <td>-0.621168</td>\n",
       "      <td>-0.268846</td>\n",
       "      <td>1.000000</td>\n",
       "      <td>-0.277009</td>\n",
       "      <td>-0.494008</td>\n",
       "      <td>-0.434846</td>\n",
       "      <td>-0.155656</td>\n",
       "      <td>0.308944</td>\n",
       "      <td>0.164148</td>\n",
       "    </tr>\n",
       "    <tr>\n",
       "      <th>share_non_citizen</th>\n",
       "      <td>0.302288</td>\n",
       "      <td>0.278899</td>\n",
       "      <td>0.745464</td>\n",
       "      <td>-0.277009</td>\n",
       "      <td>1.000000</td>\n",
       "      <td>-0.389718</td>\n",
       "      <td>0.733655</td>\n",
       "      <td>-0.631194</td>\n",
       "      <td>0.243507</td>\n",
       "      <td>0.300892</td>\n",
       "    </tr>\n",
       "    <tr>\n",
       "      <th>share_white_poverty</th>\n",
       "      <td>-0.818045</td>\n",
       "      <td>0.209440</td>\n",
       "      <td>-0.385559</td>\n",
       "      <td>-0.494008</td>\n",
       "      <td>-0.389718</td>\n",
       "      <td>1.000000</td>\n",
       "      <td>-0.269449</td>\n",
       "      <td>0.552849</td>\n",
       "      <td>-0.286170</td>\n",
       "      <td>-0.260094</td>\n",
       "    </tr>\n",
       "    <tr>\n",
       "      <th>share_non_white</th>\n",
       "      <td>0.103775</td>\n",
       "      <td>0.431847</td>\n",
       "      <td>0.547672</td>\n",
       "      <td>-0.434846</td>\n",
       "      <td>0.733655</td>\n",
       "      <td>-0.269449</td>\n",
       "      <td>1.000000</td>\n",
       "      <td>-0.488838</td>\n",
       "      <td>0.047561</td>\n",
       "      <td>0.083525</td>\n",
       "    </tr>\n",
       "    <tr>\n",
       "      <th>share_voters_voted_trump</th>\n",
       "      <td>-0.597528</td>\n",
       "      <td>-0.148192</td>\n",
       "      <td>-0.570695</td>\n",
       "      <td>-0.155656</td>\n",
       "      <td>-0.631194</td>\n",
       "      <td>0.552849</td>\n",
       "      <td>-0.488838</td>\n",
       "      <td>1.000000</td>\n",
       "      <td>-0.657067</td>\n",
       "      <td>-0.504532</td>\n",
       "    </tr>\n",
       "    <tr>\n",
       "      <th>hate_crimes_per_100k_splc</th>\n",
       "      <td>0.350714</td>\n",
       "      <td>0.083292</td>\n",
       "      <td>0.162217</td>\n",
       "      <td>0.308944</td>\n",
       "      <td>0.243507</td>\n",
       "      <td>-0.286170</td>\n",
       "      <td>0.047561</td>\n",
       "      <td>-0.657067</td>\n",
       "      <td>1.000000</td>\n",
       "      <td>0.758700</td>\n",
       "    </tr>\n",
       "    <tr>\n",
       "      <th>avg_hatecrimes_per_100k_fbi</th>\n",
       "      <td>0.318246</td>\n",
       "      <td>0.073936</td>\n",
       "      <td>0.209827</td>\n",
       "      <td>0.164148</td>\n",
       "      <td>0.300892</td>\n",
       "      <td>-0.260094</td>\n",
       "      <td>0.083525</td>\n",
       "      <td>-0.504532</td>\n",
       "      <td>0.758700</td>\n",
       "      <td>1.000000</td>\n",
       "    </tr>\n",
       "  </tbody>\n",
       "</table>\n",
       "</div>"
      ],
      "text/plain": [
       "                                          median_household_income  \\\n",
       "median_household_income                                  1.000000   \n",
       "share_unemployed_seasonal                               -0.376722   \n",
       "share_population_in_metro_areas                          0.286480   \n",
       "share_population_with_high_school_degree                 0.653490   \n",
       "share_non_citizen                                        0.302288   \n",
       "share_white_poverty                                     -0.818045   \n",
       "share_non_white                                          0.103775   \n",
       "share_voters_voted_trump                                -0.597528   \n",
       "hate_crimes_per_100k_splc                                0.350714   \n",
       "avg_hatecrimes_per_100k_fbi                              0.318246   \n",
       "\n",
       "                                          share_unemployed_seasonal  \\\n",
       "median_household_income                                   -0.376722   \n",
       "share_unemployed_seasonal                                  1.000000   \n",
       "share_population_in_metro_areas                            0.358113   \n",
       "share_population_with_high_school_degree                  -0.621168   \n",
       "share_non_citizen                                          0.278899   \n",
       "share_white_poverty                                        0.209440   \n",
       "share_non_white                                            0.431847   \n",
       "share_voters_voted_trump                                  -0.148192   \n",
       "hate_crimes_per_100k_splc                                  0.083292   \n",
       "avg_hatecrimes_per_100k_fbi                                0.073936   \n",
       "\n",
       "                                          share_population_in_metro_areas  \\\n",
       "median_household_income                                          0.286480   \n",
       "share_unemployed_seasonal                                        0.358113   \n",
       "share_population_in_metro_areas                                  1.000000   \n",
       "share_population_with_high_school_degree                        -0.268846   \n",
       "share_non_citizen                                                0.745464   \n",
       "share_white_poverty                                             -0.385559   \n",
       "share_non_white                                                  0.547672   \n",
       "share_voters_voted_trump                                        -0.570695   \n",
       "hate_crimes_per_100k_splc                                        0.162217   \n",
       "avg_hatecrimes_per_100k_fbi                                      0.209827   \n",
       "\n",
       "                                          share_population_with_high_school_degree  \\\n",
       "median_household_income                                                   0.653490   \n",
       "share_unemployed_seasonal                                                -0.621168   \n",
       "share_population_in_metro_areas                                          -0.268846   \n",
       "share_population_with_high_school_degree                                  1.000000   \n",
       "share_non_citizen                                                        -0.277009   \n",
       "share_white_poverty                                                      -0.494008   \n",
       "share_non_white                                                          -0.434846   \n",
       "share_voters_voted_trump                                                 -0.155656   \n",
       "hate_crimes_per_100k_splc                                                 0.308944   \n",
       "avg_hatecrimes_per_100k_fbi                                               0.164148   \n",
       "\n",
       "                                          share_non_citizen  \\\n",
       "median_household_income                            0.302288   \n",
       "share_unemployed_seasonal                          0.278899   \n",
       "share_population_in_metro_areas                    0.745464   \n",
       "share_population_with_high_school_degree          -0.277009   \n",
       "share_non_citizen                                  1.000000   \n",
       "share_white_poverty                               -0.389718   \n",
       "share_non_white                                    0.733655   \n",
       "share_voters_voted_trump                          -0.631194   \n",
       "hate_crimes_per_100k_splc                          0.243507   \n",
       "avg_hatecrimes_per_100k_fbi                        0.300892   \n",
       "\n",
       "                                          share_white_poverty  \\\n",
       "median_household_income                             -0.818045   \n",
       "share_unemployed_seasonal                            0.209440   \n",
       "share_population_in_metro_areas                     -0.385559   \n",
       "share_population_with_high_school_degree            -0.494008   \n",
       "share_non_citizen                                   -0.389718   \n",
       "share_white_poverty                                  1.000000   \n",
       "share_non_white                                     -0.269449   \n",
       "share_voters_voted_trump                             0.552849   \n",
       "hate_crimes_per_100k_splc                           -0.286170   \n",
       "avg_hatecrimes_per_100k_fbi                         -0.260094   \n",
       "\n",
       "                                          share_non_white  \\\n",
       "median_household_income                          0.103775   \n",
       "share_unemployed_seasonal                        0.431847   \n",
       "share_population_in_metro_areas                  0.547672   \n",
       "share_population_with_high_school_degree        -0.434846   \n",
       "share_non_citizen                                0.733655   \n",
       "share_white_poverty                             -0.269449   \n",
       "share_non_white                                  1.000000   \n",
       "share_voters_voted_trump                        -0.488838   \n",
       "hate_crimes_per_100k_splc                        0.047561   \n",
       "avg_hatecrimes_per_100k_fbi                      0.083525   \n",
       "\n",
       "                                          share_voters_voted_trump  \\\n",
       "median_household_income                                  -0.597528   \n",
       "share_unemployed_seasonal                                -0.148192   \n",
       "share_population_in_metro_areas                          -0.570695   \n",
       "share_population_with_high_school_degree                 -0.155656   \n",
       "share_non_citizen                                        -0.631194   \n",
       "share_white_poverty                                       0.552849   \n",
       "share_non_white                                          -0.488838   \n",
       "share_voters_voted_trump                                  1.000000   \n",
       "hate_crimes_per_100k_splc                                -0.657067   \n",
       "avg_hatecrimes_per_100k_fbi                              -0.504532   \n",
       "\n",
       "                                          hate_crimes_per_100k_splc  \\\n",
       "median_household_income                                    0.350714   \n",
       "share_unemployed_seasonal                                  0.083292   \n",
       "share_population_in_metro_areas                            0.162217   \n",
       "share_population_with_high_school_degree                   0.308944   \n",
       "share_non_citizen                                          0.243507   \n",
       "share_white_poverty                                       -0.286170   \n",
       "share_non_white                                            0.047561   \n",
       "share_voters_voted_trump                                  -0.657067   \n",
       "hate_crimes_per_100k_splc                                  1.000000   \n",
       "avg_hatecrimes_per_100k_fbi                                0.758700   \n",
       "\n",
       "                                          avg_hatecrimes_per_100k_fbi  \n",
       "median_household_income                                      0.318246  \n",
       "share_unemployed_seasonal                                    0.073936  \n",
       "share_population_in_metro_areas                              0.209827  \n",
       "share_population_with_high_school_degree                     0.164148  \n",
       "share_non_citizen                                            0.300892  \n",
       "share_white_poverty                                         -0.260094  \n",
       "share_non_white                                              0.083525  \n",
       "share_voters_voted_trump                                    -0.504532  \n",
       "hate_crimes_per_100k_splc                                    0.758700  \n",
       "avg_hatecrimes_per_100k_fbi                                  1.000000  "
      ]
     },
     "execution_count": 107,
     "metadata": {},
     "output_type": "execute_result"
    }
   ],
   "source": [
    "df.corr()"
   ]
  },
  {
   "cell_type": "markdown",
   "metadata": {},
   "source": [
    "# Visualize political party and hate crime averages"
   ]
  },
  {
   "cell_type": "code",
   "execution_count": 108,
   "metadata": {},
   "outputs": [],
   "source": [
    "df['Trump_majority_vote']= df.share_voters_voted_trump >0.5"
   ]
  },
  {
   "cell_type": "code",
   "execution_count": 109,
   "metadata": {},
   "outputs": [
    {
     "data": {
      "text/plain": [
       "<seaborn.axisgrid.FacetGrid at 0x1a202ea390>"
      ]
     },
     "execution_count": 109,
     "metadata": {},
     "output_type": "execute_result"
    },
    {
     "data": {
      "image/png": "[encoded data removed]",
      "text/plain": [
       "<Figure size 360x360 with 1 Axes>"
      ]
     },
     "metadata": {
      "needs_background": "light"
     },
     "output_type": "display_data"
    }
   ],
   "source": [
    "sns.catplot(x='Trump_majority_vote',y='avg_hatecrimes_per_100k_fbi',data=df, kind='bar')"
   ]
  },
  {
   "cell_type": "code",
   "execution_count": 110,
   "metadata": {},
   "outputs": [
    {
     "data": {
      "text/plain": [
       "55223.60784313725"
      ]
     },
     "execution_count": 110,
     "metadata": {},
     "output_type": "execute_result"
    }
   ],
   "source": [
    "df.median_household_income.mean()"
   ]
  },
  {
   "cell_type": "markdown",
   "metadata": {},
   "source": [
    "# Visualize high income states and hate crime averages"
   ]
  },
  {
   "cell_type": "code",
   "execution_count": 111,
   "metadata": {},
   "outputs": [],
   "source": [
    "df['high_income_state']= df.median_household_income >60000"
   ]
  },
  {
   "cell_type": "code",
   "execution_count": 112,
   "metadata": {},
   "outputs": [
    {
     "data": {
      "text/plain": [
       "<seaborn.axisgrid.FacetGrid at 0x1a20477ed0>"
      ]
     },
     "execution_count": 112,
     "metadata": {},
     "output_type": "execute_result"
    },
    {
     "data": {
      "image/png": "[encoded data removed]",
      "text/plain": [
       "<Figure size 360x360 with 1 Axes>"
      ]
     },
     "metadata": {
      "needs_background": "light"
     },
     "output_type": "display_data"
    }
   ],
   "source": [
    "sns.catplot(x='high_income_state',y='avg_hatecrimes_per_100k_fbi',data=df, kind='bar')"
   ]
  },
  {
   "cell_type": "markdown",
   "metadata": {},
   "source": [
    "# Visualize political party and median income levels"
   ]
  },
  {
   "cell_type": "code",
   "execution_count": 113,
   "metadata": {},
   "outputs": [
    {
     "data": {
      "text/plain": [
       "<seaborn.axisgrid.FacetGrid at 0x1a20a03490>"
      ]
     },
     "execution_count": 113,
     "metadata": {},
     "output_type": "execute_result"
    },
    {
     "data": {
      "image/png": "[encoded data removed]",
      "text/plain": [
       "<Figure size 360x360 with 1 Axes>"
      ]
     },
     "metadata": {
      "needs_background": "light"
     },
     "output_type": "display_data"
    }
   ],
   "source": [
    "sns.catplot(x='Trump_majority_vote',y='median_household_income',data=df, kind='bar')"
   ]
  },
  {
   "cell_type": "code",
   "execution_count": null,
   "metadata": {},
   "outputs": [],
   "source": []
  },
  {
   "cell_type": "code",
   "execution_count": null,
   "metadata": {},
   "outputs": [],
   "source": []
  },
  {
   "cell_type": "markdown",
   "metadata": {},
   "source": [
    "# Clustering of police_killings"
   ]
  },
  {
   "cell_type": "code",
   "execution_count": 114,
   "metadata": {},
   "outputs": [],
   "source": [
    "dfPK = df2.copy()"
   ]
  },
  {
   "cell_type": "code",
   "execution_count": 115,
   "metadata": {},
   "outputs": [
    {
     "data": {
      "text/html": [
       "<div>\n",
       "<style scoped>\n",
       "    .dataframe tbody tr th:only-of-type {\n",
       "        vertical-align: middle;\n",
       "    }\n",
       "\n",
       "    .dataframe tbody tr th {\n",
       "        vertical-align: top;\n",
       "    }\n",
       "\n",
       "    .dataframe thead th {\n",
       "        text-align: right;\n",
       "    }\n",
       "</style>\n",
       "<table border=\"1\" class=\"dataframe\">\n",
       "  <thead>\n",
       "    <tr style=\"text-align: right;\">\n",
       "      <th></th>\n",
       "      <th>name</th>\n",
       "      <th>age</th>\n",
       "      <th>gender</th>\n",
       "      <th>raceethnicity</th>\n",
       "      <th>state</th>\n",
       "      <th>armed</th>\n",
       "      <th>pop</th>\n",
       "      <th>share_white</th>\n",
       "      <th>share_black</th>\n",
       "      <th>share_hispanic</th>\n",
       "      <th>h_income</th>\n",
       "      <th>county_income</th>\n",
       "      <th>nat_bucket</th>\n",
       "      <th>pov</th>\n",
       "      <th>urate</th>\n",
       "      <th>college</th>\n",
       "    </tr>\n",
       "  </thead>\n",
       "  <tbody>\n",
       "    <tr>\n",
       "      <th>0</th>\n",
       "      <td>A'donte Washington</td>\n",
       "      <td>16</td>\n",
       "      <td>Male</td>\n",
       "      <td>Black</td>\n",
       "      <td>AL</td>\n",
       "      <td>0</td>\n",
       "      <td>3779</td>\n",
       "      <td>60.5</td>\n",
       "      <td>30.5</td>\n",
       "      <td>5.6</td>\n",
       "      <td>51367.0</td>\n",
       "      <td>54766</td>\n",
       "      <td>3.0</td>\n",
       "      <td>14.1</td>\n",
       "      <td>0.097686</td>\n",
       "      <td>0.168510</td>\n",
       "    </tr>\n",
       "    <tr>\n",
       "      <th>1</th>\n",
       "      <td>Aaron Rutledge</td>\n",
       "      <td>27</td>\n",
       "      <td>Male</td>\n",
       "      <td>White</td>\n",
       "      <td>LA</td>\n",
       "      <td>0</td>\n",
       "      <td>2769</td>\n",
       "      <td>53.8</td>\n",
       "      <td>36.2</td>\n",
       "      <td>0.5</td>\n",
       "      <td>27972.0</td>\n",
       "      <td>40930</td>\n",
       "      <td>1.0</td>\n",
       "      <td>28.8</td>\n",
       "      <td>0.065724</td>\n",
       "      <td>0.111402</td>\n",
       "    </tr>\n",
       "    <tr>\n",
       "      <th>2</th>\n",
       "      <td>Aaron Siler</td>\n",
       "      <td>26</td>\n",
       "      <td>Male</td>\n",
       "      <td>White</td>\n",
       "      <td>WI</td>\n",
       "      <td>0</td>\n",
       "      <td>4079</td>\n",
       "      <td>73.8</td>\n",
       "      <td>7.7</td>\n",
       "      <td>16.8</td>\n",
       "      <td>45365.0</td>\n",
       "      <td>54930</td>\n",
       "      <td>3.0</td>\n",
       "      <td>14.6</td>\n",
       "      <td>0.166293</td>\n",
       "      <td>0.147312</td>\n",
       "    </tr>\n",
       "    <tr>\n",
       "      <th>3</th>\n",
       "      <td>Aaron Valdez</td>\n",
       "      <td>25</td>\n",
       "      <td>Male</td>\n",
       "      <td>Hispanic/Latino</td>\n",
       "      <td>CA</td>\n",
       "      <td>1</td>\n",
       "      <td>4343</td>\n",
       "      <td>1.2</td>\n",
       "      <td>0.6</td>\n",
       "      <td>98.8</td>\n",
       "      <td>48295.0</td>\n",
       "      <td>55909</td>\n",
       "      <td>3.0</td>\n",
       "      <td>11.7</td>\n",
       "      <td>0.124827</td>\n",
       "      <td>0.050133</td>\n",
       "    </tr>\n",
       "    <tr>\n",
       "      <th>4</th>\n",
       "      <td>Adam Jovicic</td>\n",
       "      <td>29</td>\n",
       "      <td>Male</td>\n",
       "      <td>White</td>\n",
       "      <td>OH</td>\n",
       "      <td>0</td>\n",
       "      <td>6809</td>\n",
       "      <td>92.5</td>\n",
       "      <td>1.4</td>\n",
       "      <td>1.7</td>\n",
       "      <td>68785.0</td>\n",
       "      <td>49669</td>\n",
       "      <td>4.0</td>\n",
       "      <td>1.9</td>\n",
       "      <td>0.063550</td>\n",
       "      <td>0.403954</td>\n",
       "    </tr>\n",
       "  </tbody>\n",
       "</table>\n",
       "</div>"
      ],
      "text/plain": [
       "                 name age gender    raceethnicity state armed   pop  \\\n",
       "0  A'donte Washington  16   Male            Black    AL     0  3779   \n",
       "1      Aaron Rutledge  27   Male            White    LA     0  2769   \n",
       "2         Aaron Siler  26   Male            White    WI     0  4079   \n",
       "3        Aaron Valdez  25   Male  Hispanic/Latino    CA     1  4343   \n",
       "4        Adam Jovicic  29   Male            White    OH     0  6809   \n",
       "\n",
       "  share_white share_black share_hispanic  h_income  county_income  nat_bucket  \\\n",
       "0        60.5        30.5            5.6   51367.0          54766         3.0   \n",
       "1        53.8        36.2            0.5   27972.0          40930         1.0   \n",
       "2        73.8         7.7           16.8   45365.0          54930         3.0   \n",
       "3         1.2         0.6           98.8   48295.0          55909         3.0   \n",
       "4        92.5         1.4            1.7   68785.0          49669         4.0   \n",
       "\n",
       "    pov     urate   college  \n",
       "0  14.1  0.097686  0.168510  \n",
       "1  28.8  0.065724  0.111402  \n",
       "2  14.6  0.166293  0.147312  \n",
       "3  11.7  0.124827  0.050133  \n",
       "4   1.9  0.063550  0.403954  "
      ]
     },
     "execution_count": 115,
     "metadata": {},
     "output_type": "execute_result"
    }
   ],
   "source": [
    "dfPK.head()"
   ]
  },
  {
   "cell_type": "code",
   "execution_count": 116,
   "metadata": {},
   "outputs": [],
   "source": [
    "dfPK = pd.get_dummies(columns=['raceethnicity'],data=dfPK)\n",
    "dfPK = pd.get_dummies(columns=['gender'],data=dfPK)"
   ]
  },
  {
   "cell_type": "code",
   "execution_count": 117,
   "metadata": {},
   "outputs": [
    {
     "data": {
      "text/html": [
       "<div>\n",
       "<style scoped>\n",
       "    .dataframe tbody tr th:only-of-type {\n",
       "        vertical-align: middle;\n",
       "    }\n",
       "\n",
       "    .dataframe tbody tr th {\n",
       "        vertical-align: top;\n",
       "    }\n",
       "\n",
       "    .dataframe thead th {\n",
       "        text-align: right;\n",
       "    }\n",
       "</style>\n",
       "<table border=\"1\" class=\"dataframe\">\n",
       "  <thead>\n",
       "    <tr style=\"text-align: right;\">\n",
       "      <th></th>\n",
       "      <th>name</th>\n",
       "      <th>age</th>\n",
       "      <th>state</th>\n",
       "      <th>armed</th>\n",
       "      <th>pop</th>\n",
       "      <th>share_white</th>\n",
       "      <th>share_black</th>\n",
       "      <th>share_hispanic</th>\n",
       "      <th>h_income</th>\n",
       "      <th>county_income</th>\n",
       "      <th>...</th>\n",
       "      <th>urate</th>\n",
       "      <th>college</th>\n",
       "      <th>raceethnicity_Asian/Pacific Islander</th>\n",
       "      <th>raceethnicity_Black</th>\n",
       "      <th>raceethnicity_Hispanic/Latino</th>\n",
       "      <th>raceethnicity_Native American</th>\n",
       "      <th>raceethnicity_Unknown</th>\n",
       "      <th>raceethnicity_White</th>\n",
       "      <th>gender_Female</th>\n",
       "      <th>gender_Male</th>\n",
       "    </tr>\n",
       "  </thead>\n",
       "  <tbody>\n",
       "    <tr>\n",
       "      <th>0</th>\n",
       "      <td>A'donte Washington</td>\n",
       "      <td>16</td>\n",
       "      <td>AL</td>\n",
       "      <td>0</td>\n",
       "      <td>3779</td>\n",
       "      <td>60.5</td>\n",
       "      <td>30.5</td>\n",
       "      <td>5.6</td>\n",
       "      <td>51367.0</td>\n",
       "      <td>54766</td>\n",
       "      <td>...</td>\n",
       "      <td>0.097686</td>\n",
       "      <td>0.168510</td>\n",
       "      <td>0</td>\n",
       "      <td>1</td>\n",
       "      <td>0</td>\n",
       "      <td>0</td>\n",
       "      <td>0</td>\n",
       "      <td>0</td>\n",
       "      <td>0</td>\n",
       "      <td>1</td>\n",
       "    </tr>\n",
       "    <tr>\n",
       "      <th>1</th>\n",
       "      <td>Aaron Rutledge</td>\n",
       "      <td>27</td>\n",
       "      <td>LA</td>\n",
       "      <td>0</td>\n",
       "      <td>2769</td>\n",
       "      <td>53.8</td>\n",
       "      <td>36.2</td>\n",
       "      <td>0.5</td>\n",
       "      <td>27972.0</td>\n",
       "      <td>40930</td>\n",
       "      <td>...</td>\n",
       "      <td>0.065724</td>\n",
       "      <td>0.111402</td>\n",
       "      <td>0</td>\n",
       "      <td>0</td>\n",
       "      <td>0</td>\n",
       "      <td>0</td>\n",
       "      <td>0</td>\n",
       "      <td>1</td>\n",
       "      <td>0</td>\n",
       "      <td>1</td>\n",
       "    </tr>\n",
       "    <tr>\n",
       "      <th>2</th>\n",
       "      <td>Aaron Siler</td>\n",
       "      <td>26</td>\n",
       "      <td>WI</td>\n",
       "      <td>0</td>\n",
       "      <td>4079</td>\n",
       "      <td>73.8</td>\n",
       "      <td>7.7</td>\n",
       "      <td>16.8</td>\n",
       "      <td>45365.0</td>\n",
       "      <td>54930</td>\n",
       "      <td>...</td>\n",
       "      <td>0.166293</td>\n",
       "      <td>0.147312</td>\n",
       "      <td>0</td>\n",
       "      <td>0</td>\n",
       "      <td>0</td>\n",
       "      <td>0</td>\n",
       "      <td>0</td>\n",
       "      <td>1</td>\n",
       "      <td>0</td>\n",
       "      <td>1</td>\n",
       "    </tr>\n",
       "    <tr>\n",
       "      <th>3</th>\n",
       "      <td>Aaron Valdez</td>\n",
       "      <td>25</td>\n",
       "      <td>CA</td>\n",
       "      <td>1</td>\n",
       "      <td>4343</td>\n",
       "      <td>1.2</td>\n",
       "      <td>0.6</td>\n",
       "      <td>98.8</td>\n",
       "      <td>48295.0</td>\n",
       "      <td>55909</td>\n",
       "      <td>...</td>\n",
       "      <td>0.124827</td>\n",
       "      <td>0.050133</td>\n",
       "      <td>0</td>\n",
       "      <td>0</td>\n",
       "      <td>1</td>\n",
       "      <td>0</td>\n",
       "      <td>0</td>\n",
       "      <td>0</td>\n",
       "      <td>0</td>\n",
       "      <td>1</td>\n",
       "    </tr>\n",
       "    <tr>\n",
       "      <th>4</th>\n",
       "      <td>Adam Jovicic</td>\n",
       "      <td>29</td>\n",
       "      <td>OH</td>\n",
       "      <td>0</td>\n",
       "      <td>6809</td>\n",
       "      <td>92.5</td>\n",
       "      <td>1.4</td>\n",
       "      <td>1.7</td>\n",
       "      <td>68785.0</td>\n",
       "      <td>49669</td>\n",
       "      <td>...</td>\n",
       "      <td>0.063550</td>\n",
       "      <td>0.403954</td>\n",
       "      <td>0</td>\n",
       "      <td>0</td>\n",
       "      <td>0</td>\n",
       "      <td>0</td>\n",
       "      <td>0</td>\n",
       "      <td>1</td>\n",
       "      <td>0</td>\n",
       "      <td>1</td>\n",
       "    </tr>\n",
       "  </tbody>\n",
       "</table>\n",
       "<p>5 rows × 22 columns</p>\n",
       "</div>"
      ],
      "text/plain": [
       "                 name age state armed   pop share_white share_black  \\\n",
       "0  A'donte Washington  16    AL     0  3779        60.5        30.5   \n",
       "1      Aaron Rutledge  27    LA     0  2769        53.8        36.2   \n",
       "2         Aaron Siler  26    WI     0  4079        73.8         7.7   \n",
       "3        Aaron Valdez  25    CA     1  4343         1.2         0.6   \n",
       "4        Adam Jovicic  29    OH     0  6809        92.5         1.4   \n",
       "\n",
       "  share_hispanic  h_income  county_income  ...     urate   college  \\\n",
       "0            5.6   51367.0          54766  ...  0.097686  0.168510   \n",
       "1            0.5   27972.0          40930  ...  0.065724  0.111402   \n",
       "2           16.8   45365.0          54930  ...  0.166293  0.147312   \n",
       "3           98.8   48295.0          55909  ...  0.124827  0.050133   \n",
       "4            1.7   68785.0          49669  ...  0.063550  0.403954   \n",
       "\n",
       "   raceethnicity_Asian/Pacific Islander  raceethnicity_Black  \\\n",
       "0                                     0                    1   \n",
       "1                                     0                    0   \n",
       "2                                     0                    0   \n",
       "3                                     0                    0   \n",
       "4                                     0                    0   \n",
       "\n",
       "   raceethnicity_Hispanic/Latino  raceethnicity_Native American  \\\n",
       "0                              0                              0   \n",
       "1                              0                              0   \n",
       "2                              0                              0   \n",
       "3                              1                              0   \n",
       "4                              0                              0   \n",
       "\n",
       "   raceethnicity_Unknown  raceethnicity_White  gender_Female  gender_Male  \n",
       "0                      0                    0              0            1  \n",
       "1                      0                    1              0            1  \n",
       "2                      0                    1              0            1  \n",
       "3                      0                    0              0            1  \n",
       "4                      0                    1              0            1  \n",
       "\n",
       "[5 rows x 22 columns]"
      ]
     },
     "execution_count": 117,
     "metadata": {},
     "output_type": "execute_result"
    }
   ],
   "source": [
    "dfPK.head()"
   ]
  },
  {
   "cell_type": "code",
   "execution_count": 118,
   "metadata": {},
   "outputs": [],
   "source": [
    "dfPK.drop(['raceethnicity_Unknown','name',\n",
    "               'raceethnicity_Asian/Pacific Islander','state',\n",
    "              'raceethnicity_Native American',\n",
    "               'gender_Female','raceethnicity_Hispanic/Latino','share_hispanic','nat_bucket']\n",
    "              ,axis=1,inplace=True)"
   ]
  },
  {
   "cell_type": "code",
   "execution_count": 119,
   "metadata": {},
   "outputs": [
    {
     "data": {
      "text/html": [
       "<div>\n",
       "<style scoped>\n",
       "    .dataframe tbody tr th:only-of-type {\n",
       "        vertical-align: middle;\n",
       "    }\n",
       "\n",
       "    .dataframe tbody tr th {\n",
       "        vertical-align: top;\n",
       "    }\n",
       "\n",
       "    .dataframe thead th {\n",
       "        text-align: right;\n",
       "    }\n",
       "</style>\n",
       "<table border=\"1\" class=\"dataframe\">\n",
       "  <thead>\n",
       "    <tr style=\"text-align: right;\">\n",
       "      <th></th>\n",
       "      <th>age</th>\n",
       "      <th>armed</th>\n",
       "      <th>pop</th>\n",
       "      <th>share_white</th>\n",
       "      <th>share_black</th>\n",
       "      <th>h_income</th>\n",
       "      <th>county_income</th>\n",
       "      <th>pov</th>\n",
       "      <th>urate</th>\n",
       "      <th>college</th>\n",
       "      <th>raceethnicity_Black</th>\n",
       "      <th>raceethnicity_White</th>\n",
       "      <th>gender_Male</th>\n",
       "    </tr>\n",
       "  </thead>\n",
       "  <tbody>\n",
       "    <tr>\n",
       "      <th>0</th>\n",
       "      <td>16</td>\n",
       "      <td>0</td>\n",
       "      <td>3779</td>\n",
       "      <td>60.5</td>\n",
       "      <td>30.5</td>\n",
       "      <td>51367.0</td>\n",
       "      <td>54766</td>\n",
       "      <td>14.1</td>\n",
       "      <td>0.097686</td>\n",
       "      <td>0.168510</td>\n",
       "      <td>1</td>\n",
       "      <td>0</td>\n",
       "      <td>1</td>\n",
       "    </tr>\n",
       "    <tr>\n",
       "      <th>1</th>\n",
       "      <td>27</td>\n",
       "      <td>0</td>\n",
       "      <td>2769</td>\n",
       "      <td>53.8</td>\n",
       "      <td>36.2</td>\n",
       "      <td>27972.0</td>\n",
       "      <td>40930</td>\n",
       "      <td>28.8</td>\n",
       "      <td>0.065724</td>\n",
       "      <td>0.111402</td>\n",
       "      <td>0</td>\n",
       "      <td>1</td>\n",
       "      <td>1</td>\n",
       "    </tr>\n",
       "    <tr>\n",
       "      <th>2</th>\n",
       "      <td>26</td>\n",
       "      <td>0</td>\n",
       "      <td>4079</td>\n",
       "      <td>73.8</td>\n",
       "      <td>7.7</td>\n",
       "      <td>45365.0</td>\n",
       "      <td>54930</td>\n",
       "      <td>14.6</td>\n",
       "      <td>0.166293</td>\n",
       "      <td>0.147312</td>\n",
       "      <td>0</td>\n",
       "      <td>1</td>\n",
       "      <td>1</td>\n",
       "    </tr>\n",
       "    <tr>\n",
       "      <th>3</th>\n",
       "      <td>25</td>\n",
       "      <td>1</td>\n",
       "      <td>4343</td>\n",
       "      <td>1.2</td>\n",
       "      <td>0.6</td>\n",
       "      <td>48295.0</td>\n",
       "      <td>55909</td>\n",
       "      <td>11.7</td>\n",
       "      <td>0.124827</td>\n",
       "      <td>0.050133</td>\n",
       "      <td>0</td>\n",
       "      <td>0</td>\n",
       "      <td>1</td>\n",
       "    </tr>\n",
       "    <tr>\n",
       "      <th>4</th>\n",
       "      <td>29</td>\n",
       "      <td>0</td>\n",
       "      <td>6809</td>\n",
       "      <td>92.5</td>\n",
       "      <td>1.4</td>\n",
       "      <td>68785.0</td>\n",
       "      <td>49669</td>\n",
       "      <td>1.9</td>\n",
       "      <td>0.063550</td>\n",
       "      <td>0.403954</td>\n",
       "      <td>0</td>\n",
       "      <td>1</td>\n",
       "      <td>1</td>\n",
       "    </tr>\n",
       "  </tbody>\n",
       "</table>\n",
       "</div>"
      ],
      "text/plain": [
       "  age armed   pop share_white share_black  h_income  county_income   pov  \\\n",
       "0  16     0  3779        60.5        30.5   51367.0          54766  14.1   \n",
       "1  27     0  2769        53.8        36.2   27972.0          40930  28.8   \n",
       "2  26     0  4079        73.8         7.7   45365.0          54930  14.6   \n",
       "3  25     1  4343         1.2         0.6   48295.0          55909  11.7   \n",
       "4  29     0  6809        92.5         1.4   68785.0          49669   1.9   \n",
       "\n",
       "      urate   college  raceethnicity_Black  raceethnicity_White  gender_Male  \n",
       "0  0.097686  0.168510                    1                    0            1  \n",
       "1  0.065724  0.111402                    0                    1            1  \n",
       "2  0.166293  0.147312                    0                    1            1  \n",
       "3  0.124827  0.050133                    0                    0            1  \n",
       "4  0.063550  0.403954                    0                    1            1  "
      ]
     },
     "execution_count": 119,
     "metadata": {},
     "output_type": "execute_result"
    }
   ],
   "source": [
    "dfPK.head()"
   ]
  },
  {
   "cell_type": "code",
   "execution_count": 120,
   "metadata": {},
   "outputs": [
    {
     "data": {
      "text/html": [
       "<div>\n",
       "<style scoped>\n",
       "    .dataframe tbody tr th:only-of-type {\n",
       "        vertical-align: middle;\n",
       "    }\n",
       "\n",
       "    .dataframe tbody tr th {\n",
       "        vertical-align: top;\n",
       "    }\n",
       "\n",
       "    .dataframe thead th {\n",
       "        text-align: right;\n",
       "    }\n",
       "</style>\n",
       "<table border=\"1\" class=\"dataframe\">\n",
       "  <thead>\n",
       "    <tr style=\"text-align: right;\">\n",
       "      <th></th>\n",
       "      <th>pop</th>\n",
       "      <th>h_income</th>\n",
       "      <th>county_income</th>\n",
       "      <th>urate</th>\n",
       "      <th>college</th>\n",
       "      <th>raceethnicity_Black</th>\n",
       "      <th>raceethnicity_White</th>\n",
       "      <th>gender_Male</th>\n",
       "    </tr>\n",
       "  </thead>\n",
       "  <tbody>\n",
       "    <tr>\n",
       "      <th>pop</th>\n",
       "      <td>1.000000</td>\n",
       "      <td>0.304894</td>\n",
       "      <td>0.137411</td>\n",
       "      <td>-0.223491</td>\n",
       "      <td>0.106512</td>\n",
       "      <td>-0.153333</td>\n",
       "      <td>0.124855</td>\n",
       "      <td>0.015577</td>\n",
       "    </tr>\n",
       "    <tr>\n",
       "      <th>h_income</th>\n",
       "      <td>0.304894</td>\n",
       "      <td>1.000000</td>\n",
       "      <td>0.468599</td>\n",
       "      <td>-0.509907</td>\n",
       "      <td>0.669577</td>\n",
       "      <td>-0.124132</td>\n",
       "      <td>0.158537</td>\n",
       "      <td>-0.093748</td>\n",
       "    </tr>\n",
       "    <tr>\n",
       "      <th>county_income</th>\n",
       "      <td>0.137411</td>\n",
       "      <td>0.468599</td>\n",
       "      <td>1.000000</td>\n",
       "      <td>-0.183174</td>\n",
       "      <td>0.342686</td>\n",
       "      <td>0.081570</td>\n",
       "      <td>-0.127392</td>\n",
       "      <td>-0.159246</td>\n",
       "    </tr>\n",
       "    <tr>\n",
       "      <th>urate</th>\n",
       "      <td>-0.223491</td>\n",
       "      <td>-0.509907</td>\n",
       "      <td>-0.183174</td>\n",
       "      <td>1.000000</td>\n",
       "      <td>-0.458622</td>\n",
       "      <td>0.249441</td>\n",
       "      <td>-0.245443</td>\n",
       "      <td>0.018548</td>\n",
       "    </tr>\n",
       "    <tr>\n",
       "      <th>college</th>\n",
       "      <td>0.106512</td>\n",
       "      <td>0.669577</td>\n",
       "      <td>0.342686</td>\n",
       "      <td>-0.458622</td>\n",
       "      <td>1.000000</td>\n",
       "      <td>-0.008476</td>\n",
       "      <td>0.096483</td>\n",
       "      <td>-0.096520</td>\n",
       "    </tr>\n",
       "    <tr>\n",
       "      <th>raceethnicity_Black</th>\n",
       "      <td>-0.153333</td>\n",
       "      <td>-0.124132</td>\n",
       "      <td>0.081570</td>\n",
       "      <td>0.249441</td>\n",
       "      <td>-0.008476</td>\n",
       "      <td>1.000000</td>\n",
       "      <td>-0.644537</td>\n",
       "      <td>-0.014274</td>\n",
       "    </tr>\n",
       "    <tr>\n",
       "      <th>raceethnicity_White</th>\n",
       "      <td>0.124855</td>\n",
       "      <td>0.158537</td>\n",
       "      <td>-0.127392</td>\n",
       "      <td>-0.245443</td>\n",
       "      <td>0.096483</td>\n",
       "      <td>-0.644537</td>\n",
       "      <td>1.000000</td>\n",
       "      <td>0.002381</td>\n",
       "    </tr>\n",
       "    <tr>\n",
       "      <th>gender_Male</th>\n",
       "      <td>0.015577</td>\n",
       "      <td>-0.093748</td>\n",
       "      <td>-0.159246</td>\n",
       "      <td>0.018548</td>\n",
       "      <td>-0.096520</td>\n",
       "      <td>-0.014274</td>\n",
       "      <td>0.002381</td>\n",
       "      <td>1.000000</td>\n",
       "    </tr>\n",
       "  </tbody>\n",
       "</table>\n",
       "</div>"
      ],
      "text/plain": [
       "                          pop  h_income  county_income     urate   college  \\\n",
       "pop                  1.000000  0.304894       0.137411 -0.223491  0.106512   \n",
       "h_income             0.304894  1.000000       0.468599 -0.509907  0.669577   \n",
       "county_income        0.137411  0.468599       1.000000 -0.183174  0.342686   \n",
       "urate               -0.223491 -0.509907      -0.183174  1.000000 -0.458622   \n",
       "college              0.106512  0.669577       0.342686 -0.458622  1.000000   \n",
       "raceethnicity_Black -0.153333 -0.124132       0.081570  0.249441 -0.008476   \n",
       "raceethnicity_White  0.124855  0.158537      -0.127392 -0.245443  0.096483   \n",
       "gender_Male          0.015577 -0.093748      -0.159246  0.018548 -0.096520   \n",
       "\n",
       "                     raceethnicity_Black  raceethnicity_White  gender_Male  \n",
       "pop                            -0.153333             0.124855     0.015577  \n",
       "h_income                       -0.124132             0.158537    -0.093748  \n",
       "county_income                   0.081570            -0.127392    -0.159246  \n",
       "urate                           0.249441            -0.245443     0.018548  \n",
       "college                        -0.008476             0.096483    -0.096520  \n",
       "raceethnicity_Black             1.000000            -0.644537    -0.014274  \n",
       "raceethnicity_White            -0.644537             1.000000     0.002381  \n",
       "gender_Male                    -0.014274             0.002381     1.000000  "
      ]
     },
     "execution_count": 120,
     "metadata": {},
     "output_type": "execute_result"
    }
   ],
   "source": [
    "dfPK.corr()"
   ]
  },
  {
   "cell_type": "code",
   "execution_count": 121,
   "metadata": {},
   "outputs": [],
   "source": [
    "dfPK.drop(['county_income','gender_Male'],axis=1,inplace=True)"
   ]
  },
  {
   "cell_type": "code",
   "execution_count": 122,
   "metadata": {},
   "outputs": [],
   "source": [
    "clu3 = KMeans(n_clusters=3, random_state=0)"
   ]
  },
  {
   "cell_type": "code",
   "execution_count": 123,
   "metadata": {},
   "outputs": [],
   "source": [
    "dfPK = dfPK[dfPK.age != 'Unknown']\n",
    "dfPK = dfPK[dfPK.pov != '-']\n",
    "dfPK = dfPK[dfPK.armed != 'Disputed']"
   ]
  },
  {
   "cell_type": "code",
   "execution_count": 124,
   "metadata": {},
   "outputs": [],
   "source": [
    "#fill remaining NA values with mean\n",
    "urate_mean = dfPK.urate.mean()\n",
    "dfPK.urate.fillna(urate_mean, inplace=True)\n",
    "\n",
    "college_mean = dfPK.college.mean()\n",
    "dfPK.college.fillna(college_mean, inplace=True)"
   ]
  },
  {
   "cell_type": "code",
   "execution_count": 125,
   "metadata": {},
   "outputs": [
    {
     "data": {
      "text/plain": [
       "KMeans(algorithm='auto', copy_x=True, init='k-means++', max_iter=300,\n",
       "       n_clusters=3, n_init=10, n_jobs=None, precompute_distances='auto',\n",
       "       random_state=0, tol=0.0001, verbose=0)"
      ]
     },
     "execution_count": 125,
     "metadata": {},
     "output_type": "execute_result"
    }
   ],
   "source": [
    "clu3.fit(dfPK)"
   ]
  },
  {
   "cell_type": "code",
   "execution_count": 126,
   "metadata": {},
   "outputs": [],
   "source": [
    "dfPK['cluster']=clu3.labels_"
   ]
  },
  {
   "cell_type": "code",
   "execution_count": 127,
   "metadata": {},
   "outputs": [
    {
     "data": {
      "text/html": [
       "<div>\n",
       "<style scoped>\n",
       "    .dataframe tbody tr th:only-of-type {\n",
       "        vertical-align: middle;\n",
       "    }\n",
       "\n",
       "    .dataframe tbody tr th {\n",
       "        vertical-align: top;\n",
       "    }\n",
       "\n",
       "    .dataframe thead th {\n",
       "        text-align: right;\n",
       "    }\n",
       "</style>\n",
       "<table border=\"1\" class=\"dataframe\">\n",
       "  <thead>\n",
       "    <tr style=\"text-align: right;\">\n",
       "      <th></th>\n",
       "      <th>pop</th>\n",
       "      <th>h_income</th>\n",
       "      <th>urate</th>\n",
       "      <th>college</th>\n",
       "      <th>raceethnicity_Black</th>\n",
       "      <th>raceethnicity_White</th>\n",
       "    </tr>\n",
       "    <tr>\n",
       "      <th>cluster</th>\n",
       "      <th></th>\n",
       "      <th></th>\n",
       "      <th></th>\n",
       "      <th></th>\n",
       "      <th></th>\n",
       "      <th></th>\n",
       "    </tr>\n",
       "  </thead>\n",
       "  <tbody>\n",
       "    <tr>\n",
       "      <th>0</th>\n",
       "      <td>4225.377049</td>\n",
       "      <td>32104.012295</td>\n",
       "      <td>0.144684</td>\n",
       "      <td>0.153122</td>\n",
       "      <td>0.340164</td>\n",
       "      <td>0.438525</td>\n",
       "    </tr>\n",
       "    <tr>\n",
       "      <th>1</th>\n",
       "      <td>5194.308989</td>\n",
       "      <td>56044.241573</td>\n",
       "      <td>0.091852</td>\n",
       "      <td>0.256548</td>\n",
       "      <td>0.224719</td>\n",
       "      <td>0.595506</td>\n",
       "    </tr>\n",
       "    <tr>\n",
       "      <th>2</th>\n",
       "      <td>6365.131579</td>\n",
       "      <td>95319.500000</td>\n",
       "      <td>0.066541</td>\n",
       "      <td>0.495585</td>\n",
       "      <td>0.263158</td>\n",
       "      <td>0.578947</td>\n",
       "    </tr>\n",
       "  </tbody>\n",
       "</table>\n",
       "</div>"
      ],
      "text/plain": [
       "                 pop      h_income     urate   college  raceethnicity_Black  \\\n",
       "cluster                                                                       \n",
       "0        4225.377049  32104.012295  0.144684  0.153122             0.340164   \n",
       "1        5194.308989  56044.241573  0.091852  0.256548             0.224719   \n",
       "2        6365.131579  95319.500000  0.066541  0.495585             0.263158   \n",
       "\n",
       "         raceethnicity_White  \n",
       "cluster                       \n",
       "0                   0.438525  \n",
       "1                   0.595506  \n",
       "2                   0.578947  "
      ]
     },
     "execution_count": 127,
     "metadata": {},
     "output_type": "execute_result"
    }
   ],
   "source": [
    "dfPK.groupby('cluster').mean()"
   ]
  },
  {
   "cell_type": "markdown",
   "metadata": {},
   "source": [
    "<b>Relatively more black police killings occured in low income, low education, and high unemployment areas"
   ]
  },
  {
   "cell_type": "markdown",
   "metadata": {},
   "source": [
    "<b>Relatively more white police killings occured in higher income, high college educated, and low unemployement college educated areas"
   ]
  },
  {
   "cell_type": "code",
   "execution_count": 128,
   "metadata": {},
   "outputs": [
    {
     "data": {
      "text/plain": [
       "244"
      ]
     },
     "execution_count": 128,
     "metadata": {},
     "output_type": "execute_result"
    }
   ],
   "source": [
    "len(clu3.labels_[clu3.labels_==0])"
   ]
  },
  {
   "cell_type": "code",
   "execution_count": 129,
   "metadata": {},
   "outputs": [
    {
     "data": {
      "text/plain": [
       "460"
      ]
     },
     "execution_count": 129,
     "metadata": {},
     "output_type": "execute_result"
    }
   ],
   "source": [
    "len(clu3.labels_)"
   ]
  },
  {
   "cell_type": "code",
   "execution_count": 130,
   "metadata": {},
   "outputs": [
    {
     "data": {
      "text/plain": [
       "0.5304347826086957"
      ]
     },
     "execution_count": 130,
     "metadata": {},
     "output_type": "execute_result"
    }
   ],
   "source": [
    "len(clu3.labels_[clu3.labels_==0])/len(clu3.labels_)"
   ]
  },
  {
   "cell_type": "markdown",
   "metadata": {},
   "source": [
    "<b> Cluster 0 with the lowest average income and largest percentage of black people makes up 53% of the entire cluster"
   ]
  },
  {
   "cell_type": "code",
   "execution_count": 131,
   "metadata": {},
   "outputs": [
    {
     "data": {
      "text/html": [
       "<div>\n",
       "<style scoped>\n",
       "    .dataframe tbody tr th:only-of-type {\n",
       "        vertical-align: middle;\n",
       "    }\n",
       "\n",
       "    .dataframe tbody tr th {\n",
       "        vertical-align: top;\n",
       "    }\n",
       "\n",
       "    .dataframe thead th {\n",
       "        text-align: right;\n",
       "    }\n",
       "</style>\n",
       "<table border=\"1\" class=\"dataframe\">\n",
       "  <thead>\n",
       "    <tr style=\"text-align: right;\">\n",
       "      <th></th>\n",
       "      <th>age</th>\n",
       "      <th>armed</th>\n",
       "      <th>pop</th>\n",
       "      <th>share_white</th>\n",
       "      <th>share_black</th>\n",
       "      <th>h_income</th>\n",
       "      <th>pov</th>\n",
       "      <th>urate</th>\n",
       "      <th>college</th>\n",
       "      <th>raceethnicity_Black</th>\n",
       "      <th>raceethnicity_White</th>\n",
       "      <th>cluster</th>\n",
       "    </tr>\n",
       "  </thead>\n",
       "  <tbody>\n",
       "    <tr>\n",
       "      <th>0</th>\n",
       "      <td>16</td>\n",
       "      <td>0</td>\n",
       "      <td>3779</td>\n",
       "      <td>60.5</td>\n",
       "      <td>30.5</td>\n",
       "      <td>51367.0</td>\n",
       "      <td>14.1</td>\n",
       "      <td>0.097686</td>\n",
       "      <td>0.168510</td>\n",
       "      <td>1</td>\n",
       "      <td>0</td>\n",
       "      <td>1</td>\n",
       "    </tr>\n",
       "    <tr>\n",
       "      <th>1</th>\n",
       "      <td>27</td>\n",
       "      <td>0</td>\n",
       "      <td>2769</td>\n",
       "      <td>53.8</td>\n",
       "      <td>36.2</td>\n",
       "      <td>27972.0</td>\n",
       "      <td>28.8</td>\n",
       "      <td>0.065724</td>\n",
       "      <td>0.111402</td>\n",
       "      <td>0</td>\n",
       "      <td>1</td>\n",
       "      <td>0</td>\n",
       "    </tr>\n",
       "    <tr>\n",
       "      <th>2</th>\n",
       "      <td>26</td>\n",
       "      <td>0</td>\n",
       "      <td>4079</td>\n",
       "      <td>73.8</td>\n",
       "      <td>7.7</td>\n",
       "      <td>45365.0</td>\n",
       "      <td>14.6</td>\n",
       "      <td>0.166293</td>\n",
       "      <td>0.147312</td>\n",
       "      <td>0</td>\n",
       "      <td>1</td>\n",
       "      <td>1</td>\n",
       "    </tr>\n",
       "    <tr>\n",
       "      <th>3</th>\n",
       "      <td>25</td>\n",
       "      <td>1</td>\n",
       "      <td>4343</td>\n",
       "      <td>1.2</td>\n",
       "      <td>0.6</td>\n",
       "      <td>48295.0</td>\n",
       "      <td>11.7</td>\n",
       "      <td>0.124827</td>\n",
       "      <td>0.050133</td>\n",
       "      <td>0</td>\n",
       "      <td>0</td>\n",
       "      <td>1</td>\n",
       "    </tr>\n",
       "    <tr>\n",
       "      <th>4</th>\n",
       "      <td>29</td>\n",
       "      <td>0</td>\n",
       "      <td>6809</td>\n",
       "      <td>92.5</td>\n",
       "      <td>1.4</td>\n",
       "      <td>68785.0</td>\n",
       "      <td>1.9</td>\n",
       "      <td>0.063550</td>\n",
       "      <td>0.403954</td>\n",
       "      <td>0</td>\n",
       "      <td>1</td>\n",
       "      <td>1</td>\n",
       "    </tr>\n",
       "  </tbody>\n",
       "</table>\n",
       "</div>"
      ],
      "text/plain": [
       "  age armed   pop share_white share_black  h_income   pov     urate   college  \\\n",
       "0  16     0  3779        60.5        30.5   51367.0  14.1  0.097686  0.168510   \n",
       "1  27     0  2769        53.8        36.2   27972.0  28.8  0.065724  0.111402   \n",
       "2  26     0  4079        73.8         7.7   45365.0  14.6  0.166293  0.147312   \n",
       "3  25     1  4343         1.2         0.6   48295.0  11.7  0.124827  0.050133   \n",
       "4  29     0  6809        92.5         1.4   68785.0   1.9  0.063550  0.403954   \n",
       "\n",
       "   raceethnicity_Black  raceethnicity_White  cluster  \n",
       "0                    1                    0        1  \n",
       "1                    0                    1        0  \n",
       "2                    0                    1        1  \n",
       "3                    0                    0        1  \n",
       "4                    0                    1        1  "
      ]
     },
     "execution_count": 131,
     "metadata": {},
     "output_type": "execute_result"
    }
   ],
   "source": [
    "dfPK.head()"
   ]
  },
  {
   "cell_type": "code",
   "execution_count": 132,
   "metadata": {},
   "outputs": [
    {
     "data": {
      "text/plain": [
       "<seaborn.axisgrid.FacetGrid at 0x1a20ca4990>"
      ]
     },
     "execution_count": 132,
     "metadata": {},
     "output_type": "execute_result"
    },
    {
     "data": {
      "image/png": "[encoded data removed]",
      "text/plain": [
       "<Figure size 360x360 with 1 Axes>"
      ]
     },
     "metadata": {
      "needs_background": "light"
     },
     "output_type": "display_data"
    }
   ],
   "source": [
    "sns.catplot(x='raceethnicity_Black',y='h_income',data=dfPK, kind='bar')"
   ]
  },
  {
   "cell_type": "code",
   "execution_count": 133,
   "metadata": {},
   "outputs": [
    {
     "data": {
      "text/plain": [
       "<seaborn.axisgrid.FacetGrid at 0x1a20d91a90>"
      ]
     },
     "execution_count": 133,
     "metadata": {},
     "output_type": "execute_result"
    },
    {
     "data": {
      "image/png": "[encoded data removed]",
      "text/plain": [
       "<Figure size 360x360 with 1 Axes>"
      ]
     },
     "metadata": {
      "needs_background": "light"
     },
     "output_type": "display_data"
    }
   ],
   "source": [
    "sns.catplot(x='raceethnicity_White',y='h_income',data=dfPK, kind='bar')"
   ]
  },
  {
   "cell_type": "code",
   "execution_count": null,
   "metadata": {},
   "outputs": [],
   "source": []
  },
  {
   "cell_type": "markdown",
   "metadata": {},
   "source": [
    "<b> Write cleaned datasets to new csv"
   ]
  },
  {
   "cell_type": "code",
   "execution_count": 134,
   "metadata": {},
   "outputs": [],
   "source": [
    "df.to_csv('cleaned_hate_crimes.csv')"
   ]
  },
  {
   "cell_type": "code",
   "execution_count": 135,
   "metadata": {},
   "outputs": [],
   "source": [
    "df_inner.to_csv('joined_dfs.csv')"
   ]
  },
  {
   "cell_type": "code",
   "execution_count": 136,
   "metadata": {},
   "outputs": [],
   "source": [
    "df2.to_csv('cleaned_police_killings.csv')"
   ]
  },
  {
   "cell_type": "code",
   "execution_count": null,
   "metadata": {},
   "outputs": [],
   "source": []
  }
 ],
 "metadata": {
  "kernelspec": {
   "display_name": "Python 3",
   "language": "python",
   "name": "python3"
  },
  "language_info": {
   "codemirror_mode": {
    "name": "ipython",
    "version": 3
   },
   "file_extension": ".py",
   "mimetype": "text/x-python",
   "name": "python",
   "nbconvert_exporter": "python",
   "pygments_lexer": "ipython3",
   "version": "3.7.6"
  }
 },
 "nbformat": 4,
 "nbformat_minor": 4
}
